{
 "cells": [
  {
   "cell_type": "markdown",
   "metadata": {},
   "source": [
    "# <span style=\"color:#88B04B\">CHAPTER 04</span>\n",
    "## <span style=\"color:#1E3D89\">SELECTIONS</span>\n",
    "___"
   ]
  },
  {
   "cell_type": "markdown",
   "metadata": {},
   "source": [
    "<img src=\"imagenes/capitulo_04/4.1.png\">"
   ]
  },
  {
   "cell_type": "code",
   "execution_count": 6,
   "metadata": {},
   "outputs": [
    {
     "name": "stdout",
     "output_type": "stream",
     "text": [
      "Enter a, b, c: 1, 2, 3\n",
      "The equation has no real roots\n"
     ]
    }
   ],
   "source": [
    "a, b, c = eval(input('Enter a, b, c: '))\n",
    "discriminant = b**2 - 4 * a * c\n",
    "\n",
    "x1 = (-b + discriminant ** 0.5) / 2 * a\n",
    "x2 = (-b - discriminant ** 0.5) / 2 * a\n",
    "\n",
    "if discriminant > 0:\n",
    "    print(f'The roots are {x1:1.6f} and {x2:1.6f}')\n",
    "elif discriminant == 0:\n",
    "    print(f'The root is {x1}')\n",
    "else:\n",
    "    print(f'The equation has no real roots')"
   ]
  },
  {
   "cell_type": "markdown",
   "metadata": {},
   "source": [
    "<img src=\"imagenes/capitulo_04/4.2.png\">"
   ]
  },
  {
   "cell_type": "code",
   "execution_count": 11,
   "metadata": {},
   "outputs": [
    {
     "name": "stdout",
     "output_type": "stream",
     "text": [
      "What is 1 + 8 + 2 ? 11\n",
      "1 + 8 + 2 = 11 is True\n"
     ]
    }
   ],
   "source": [
    "import random\n",
    "\n",
    "number1 = random.randint(0, 9)\n",
    "number2 = random.randint(0, 9)\n",
    "number3 = random.randint(0, 9)\n",
    "\n",
    "answer = eval(input(f'What is {number1} + {number2} + {number3} ? '))\n",
    "\n",
    "print(f'{number1} + {number2} + {number3} = {answer} is {number1 + number2 + number3 == answer}')"
   ]
  },
  {
   "cell_type": "markdown",
   "metadata": {},
   "source": [
    "<img src=\"imagenes/capitulo_04/4.3.png\">"
   ]
  },
  {
   "cell_type": "code",
   "execution_count": 13,
   "metadata": {},
   "outputs": [
    {
     "name": "stdout",
     "output_type": "stream",
     "text": [
      "Enter a, b, c, d, e, f: 1,2,2,4,4,5\n",
      "The equiation has no solution\n"
     ]
    }
   ],
   "source": [
    "a, b, c, d, e, f = eval(input('Enter a, b, c, d, e, f: '))\n",
    "solution = a * d - b * c\n",
    "\n",
    "if solution == 0:\n",
    "    print('The equation has no solution')\n",
    "else:\n",
    "    x = (e * d - b * f) / (a * d - b * c)\n",
    "    y = (a * f - e * c) / (a * d - b * c)\n",
    "    print(f'x is {x} and y is {y}')"
   ]
  },
  {
   "cell_type": "markdown",
   "metadata": {},
   "source": [
    "<img src=\"imagenes/capitulo_04/4.4.png\">"
   ]
  },
  {
   "cell_type": "code",
   "execution_count": null,
   "metadata": {},
   "outputs": [],
   "source": [
    "import random\n",
    "\n",
    "number1 = random.randint(0, 100)\n",
    "number2 = random.randint(0, 100)\n",
    "\n",
    "answer = eval(input(f'What is {number1} + {number2} ? '))\n",
    "\n",
    "if (answer == number1 + number2):\n",
    "    print('True')\n",
    "else:\n",
    "    print('False')\n"
   ]
  },
  {
   "cell_type": "markdown",
   "metadata": {},
   "source": [
    "<img src=\"imagenes/capitulo_04/4.5.png\">"
   ]
  },
  {
   "cell_type": "code",
   "execution_count": 12,
   "metadata": {},
   "outputs": [
    {
     "name": "stdout",
     "output_type": "stream",
     "text": [
      "Enter today's day: 0\n",
      "Enter the number of days elapsed since today: 31\n",
      "Today is Sunday and the future day is Wednesday\n"
     ]
    }
   ],
   "source": [
    "today = eval(input(\"Enter today's day: \"))\n",
    "elapsed = eval(input(\"Enter the number of days elapsed since today: \"))\n",
    "future = (today + elapsed) % 7\n",
    "\n",
    "if today == 0:\n",
    "    today = 'Sunday'\n",
    "elif today == 1:\n",
    "    today = 'Monday'\n",
    "elif today == 2:\n",
    "    today = 'Tuesday'\n",
    "elif today == 3:\n",
    "    today = 'Wednesday'\n",
    "elif today == 4:\n",
    "    today = 'Thursday'    \n",
    "elif today == 5:\n",
    "    today = 'Friday'    \n",
    "elif today == 6:\n",
    "    today = 'Saturday'  \n",
    "else:\n",
    "    today = 'NOT a DAY'\n",
    "    \n",
    "if future == 0:\n",
    "    future = 'Sunday'\n",
    "elif future == 1:\n",
    "    future = 'Monday'\n",
    "elif future == 2:\n",
    "    future = 'Tuesday'\n",
    "elif future == 3:\n",
    "    future = 'Wednesday'\n",
    "elif future == 4:\n",
    "    future = 'Thursday'    \n",
    "elif future == 5:\n",
    "    future = 'Friday'    \n",
    "elif future == 6:\n",
    "    future = 'Saturday'  \n",
    "else:\n",
    "    future = 'NOT a DAY'\n",
    "    \n",
    "print(f'Today is {today} and the future day is {future}')    "
   ]
  },
  {
   "cell_type": "markdown",
   "metadata": {},
   "source": [
    "<img src=\"imagenes/capitulo_04/4.6.png\">"
   ]
  },
  {
   "cell_type": "code",
   "execution_count": 19,
   "metadata": {},
   "outputs": [
    {
     "name": "stdout",
     "output_type": "stream",
     "text": [
      "Enter weight in pounds: 140\n",
      "Enter feet: 5\n",
      "Enter inches: 10\n",
      "BMI is 20.087702275404553\n",
      "Normal\n"
     ]
    }
   ],
   "source": [
    "# Prompt the user to enter weight in pounds\n",
    "weight = eval(input(\"Enter weight in pounds: \"))\n",
    "\n",
    "# Prompt the user to enter height in feet and inches\n",
    "feet = eval(input(\"Enter feet: \"))\n",
    "inches = eval(input(\"Enter inches: \"))\n",
    "height = feet * 12 + inches\n",
    "KILOGRAMS_PER_POUND = 0.45359237 # Constant\n",
    "METERS_PER_INCH = 0.0254 # Constant\n",
    "\n",
    "# Compute BMI\n",
    "weightInKilograms = weight * KILOGRAMS_PER_POUND\n",
    "heightInMeters = height * METERS_PER_INCH\n",
    "bmi = weightInKilograms / (heightInMeters * heightInMeters)\n",
    "\n",
    "# Display result\n",
    "print(f'BMI is {bmi}')\n",
    "if bmi < 18.5:\n",
    "    print(\"Underweight\")\n",
    "elif bmi < 25:\n",
    "    print(\"Normal\")\n",
    "elif bmi < 30:\n",
    "    print(\"Overweight\")\n",
    "else:\n",
    "    print(\"Obese\")"
   ]
  },
  {
   "cell_type": "markdown",
   "metadata": {},
   "source": [
    "<img src=\"imagenes/capitulo_04/4.7.png\">"
   ]
  },
  {
   "cell_type": "code",
   "execution_count": null,
   "metadata": {},
   "outputs": [],
   "source": []
  },
  {
   "cell_type": "markdown",
   "metadata": {},
   "source": [
    "<img src=\"imagenes/capitulo_04/4.8.png\">"
   ]
  },
  {
   "cell_type": "code",
   "execution_count": 29,
   "metadata": {},
   "outputs": [
    {
     "name": "stdout",
     "output_type": "stream",
     "text": [
      "Enter three integers: 123,22,25\n",
      "22, 25, 123\n"
     ]
    }
   ],
   "source": [
    "a, b, c =  eval(input('Enter three integers: '))\n",
    "\n",
    "greater =  a\n",
    "\n",
    "if b > greater:\n",
    "    greater = b\n",
    "if c > greater:\n",
    "    greater = c\n",
    "\n",
    "less =  a\n",
    "\n",
    "if b < less:\n",
    "    less = b\n",
    "if (c < less):\n",
    "    less = c\n",
    "    \n",
    "medium = a + b + c - greater - less\n",
    "\n",
    "print(f'{less}, {medium}, {greater}')\n",
    "\n"
   ]
  },
  {
   "cell_type": "markdown",
   "metadata": {},
   "source": [
    "<img src=\"imagenes/capitulo_04/4.9.png\">"
   ]
  },
  {
   "cell_type": "code",
   "execution_count": 30,
   "metadata": {},
   "outputs": [
    {
     "name": "stdout",
     "output_type": "stream",
     "text": [
      "Enter weight and price for package 1: 50, 24.59\n",
      "Enter weight and price for package 2: 25, 11.99\n",
      "Package1 has the better price.\n"
     ]
    }
   ],
   "source": [
    "price1, package1 = eval(input('Enter weight and price for package 1: '))\n",
    "price2, package2 = eval(input('Enter weight and price for package 2: '))\n",
    "\n",
    "if (price1 * package1 > price2 * package2):\n",
    "    print('Package 1 has the better price.')\n",
    "else:\n",
    "    print('Package 2 has the better price.')"
   ]
  },
  {
   "cell_type": "markdown",
   "metadata": {},
   "source": [
    "<img src=\"imagenes/capitulo_04/4.10.png\">"
   ]
  },
  {
   "cell_type": "code",
   "execution_count": 34,
   "metadata": {},
   "outputs": [
    {
     "name": "stdout",
     "output_type": "stream",
     "text": [
      "What is 3 * 1 ? 3\n",
      "You are correct!\n"
     ]
    }
   ],
   "source": [
    "import random\n",
    "\n",
    "# 1. Generate two random single-digit integers\n",
    "number1 = random.randint(0, 9)\n",
    "number2 = random.randint(0, 9)\n",
    "\n",
    "# 2. Prompt the student to answer \"What is number1 - number2?\"\n",
    "answer = eval(input(f'What is {number1} * {number2} ? '))\n",
    "\n",
    "# 3. Check the answer and display the result\n",
    "if number1 * number2 == answer:\n",
    "    print('You are correct!')\n",
    "else:\n",
    "    print(f'Your answer is wrong.\\n {number1} * {number2} is {number1 * number2}')"
   ]
  },
  {
   "cell_type": "markdown",
   "metadata": {},
   "source": [
    "<img src=\"imagenes/capitulo_04/4.11.png\">"
   ]
  },
  {
   "cell_type": "code",
   "execution_count": 39,
   "metadata": {},
   "outputs": [
    {
     "name": "stdout",
     "output_type": "stream",
     "text": [
      "Enter the month and year: 2, 2000\n",
      "Febrary 2000 has 29 days\n"
     ]
    }
   ],
   "source": [
    "# Enter month and year\n",
    "month, year = eval(input('Enter the month and year: '))\n",
    "\n",
    "# Determinate is year is leap or not\n",
    "isLeapYear = (year % 4 == 0 and year % 100 != 0) or (year % 400 == 0)\n",
    "\n",
    "if month == 1 or month == 3 or month == 5 or month == 7 or month == 8 or month == 10 or month == 12:\n",
    "    days = 31\n",
    "elif month == 4 or month == 6 or month == 9 or month == 11:\n",
    "    days = 30\n",
    "elif month == 2 and isLeapYear == True:\n",
    "    days = 29\n",
    "elif month and isLeapYear == False:\n",
    "    days = 28\n",
    "else:\n",
    "    days = 0\n",
    "\n",
    "if month == 1:\n",
    "    monthName = 'January'\n",
    "elif month == 2:\n",
    "    monthName = 'Febrary'\n",
    "elif month == 3:\n",
    "    monthName = 'March'\n",
    "elif month == 4:\n",
    "    monthName = 'April'\n",
    "elif month == 5:\n",
    "    monthName = 'May'    \n",
    "elif month == 6:\n",
    "    monthName = 'June'    \n",
    "elif month == 7:\n",
    "    monthName = 'July'\n",
    "elif month == 8:\n",
    "    monthName = 'August'\n",
    "elif month == 9:\n",
    "    monthName = 'September'\n",
    "elif month == 10:\n",
    "    monthName = 'Octuber'\n",
    "elif month == 11:\n",
    "    monthName = 'November'\n",
    "elif month == 12:\n",
    "    monthName = 'December'\n",
    "else:\n",
    "    monthName = 'Is not a month'\n",
    "    \n",
    "print(f'{monthName} {year} has {days} days')\n"
   ]
  },
  {
   "cell_type": "markdown",
   "metadata": {},
   "source": [
    "<img src=\"imagenes/capitulo_04/4.12.png\">"
   ]
  },
  {
   "cell_type": "code",
   "execution_count": 46,
   "metadata": {},
   "outputs": [
    {
     "name": "stdout",
     "output_type": "stream",
     "text": [
      "Enter an integer: 30\n",
      "Is 30 divisible by 5 and 6? True\n",
      "Is 30 divisible by 5 or 6? True\n",
      "Is 30 divisible by 5 and 6? False\n"
     ]
    }
   ],
   "source": [
    "number = eval(input('Enter an integer: '))\n",
    "\n",
    "isDiv5 = number % 5 == 0\n",
    "isDiv6 = number % 6 == 0\n",
    "\n",
    "print(f'Is {number} divisible by 5 and 6? {isDiv5 and isDiv6}')\n",
    "print(f'Is {number} divisible by 5 or 6? {isDiv5 or isDiv6}')\n",
    "print(f'Is {number} divisible by 5 and 6? {(isDiv5 or isDiv6) and not(isDiv5 and isDiv6)}')"
   ]
  },
  {
   "cell_type": "markdown",
   "metadata": {},
   "source": [
    "<img src=\"imagenes/capitulo_04/4.13.png\">"
   ]
  },
  {
   "cell_type": "code",
   "execution_count": 7,
   "metadata": {},
   "outputs": [
    {
     "name": "stdout",
     "output_type": "stream",
     "text": [
      "(0-single filer, 1-married jointly,\n",
      "2-married separately, 3-head of household)\n",
      "Enter the filing status: 3\n",
      "Enter the taxable income: 3243245\n",
      "Tax is 1109495.75\n"
     ]
    }
   ],
   "source": [
    "import sys\n",
    "\n",
    "# Prompt the user to enter filing status\n",
    "status = eval(input(\"(0-single filer, 1-married jointly,\\n\" + \"2-married separately, 3-head of household)\\n\" + \"Enter the filing status: \"))\n",
    "\n",
    "# Prompt the user to enter taxable income\n",
    "income = eval(input(\"Enter the taxable income: \"))\n",
    "\n",
    "# Compute tax\n",
    "tax = 0\n",
    "if status == 0: # Compute tax for single filers\n",
    "    if income <= 8350:\n",
    "        tax = income * 0.10\n",
    "    elif income <= 33950:\n",
    "        tax = 8350 * 0.10 + (income - 8350) * 0.15\n",
    "    elif income <= 82250:\n",
    "        tax = 8350 * 0.10 + (33950 - 8350) * 0.15 + (income - 33950) * 0.25\n",
    "    elif income <= 171550:\n",
    "        tax = 8350 * 0.10 + (33950 - 8350) * 0.15 + (82250 - 33950) * 0.25 + \\\n",
    "        (income - 82250) * 0.28\n",
    "    elif income <= 372950:\n",
    "        tax = 8350 * 0.10 + (33950 - 8350) * 0.15 + (82250 - 33950) * 0.25 + \\\n",
    "        (171550 - 82250) * 0.28 + (income - 171550) * 0.33\n",
    "    else:\n",
    "        tax = 8350 * 0.10 + (33950 - 8350) * 0.15 + (82250 - 33950) * 0.25 + \\\n",
    "        (171550 - 82250) * 0.28 + (372950 - 171550) * 0.33 + (income - 372950) * 0.35\n",
    "elif status == 1: # Compute tax for married file jointly\n",
    "    if income <= 16700:\n",
    "        tax = income * 0.10\n",
    "    elif income <= 67900:\n",
    "        tax = 16700 * 0.10 + (income - 16700) * 0.15\n",
    "    elif income <= 137050:\n",
    "        tax = 16700 * 0.10 + (67900 - 16700) * 0.15 + (income - 67900) * 0.25\n",
    "    elif income <= 208850:\n",
    "        tax = 16700 * 0.10 + (67900 - 16700) * 0.15 + (137050 - 67900) * 0.25 + \\\n",
    "        (income - 137050) * 0.28\n",
    "    elif income <= 372950:\n",
    "        tax = 16700 * 0.10 + (67900 - 16700) * 0.15 + (137050 - 67900) * 0.25 + \\\n",
    "        (208850 - 137050) * 0.28 + (income - 208850) * 0.33\n",
    "    else:\n",
    "        tax = 16700 * 0.10 + (67900 - 16700) * 0.15 + (137050 - 67900) * 0.25 + \\\n",
    "        (208850 - 137050) * 0.28 + (372950 - 208850) * 0.33 + (income - 372950) * 0.35\n",
    "elif status == 2: # Compute tax for married separately\n",
    "    if income <= 8350:\n",
    "        tax = income * 0.10\n",
    "    elif income <= 33950:\n",
    "        tax = 8350 * 0.10 + (income - 8350) * 0.15\n",
    "    elif income <= 68525:\n",
    "        tax = 8350 * 0.10 + (33950 - 8350) * 0.15 + (income - 33950) * 0.25\n",
    "    elif income <= 104425:\n",
    "        tax = 8350 * 0.10 + (33950 - 8350) * 0.15 + (68525 - 33950) * 0.25 + \\\n",
    "        (income - 68525) * 0.28\n",
    "    elif income <= 186475:\n",
    "        tax = 8350 * 0.10 + (33950 - 8350) * 0.15 + (68525 - 33950) * 0.25 + \\\n",
    "        (104425 - 68525) * 0.28 + (income - 104425) * 0.33\n",
    "    else:\n",
    "        tax = 8350 * 0.10 + (33950 - 8350) * 0.15 + (68525 - 33950) * 0.25 + \\\n",
    "        (104425 - 68525) * 0.28 + (186475 - 104425) * 0.33 + (income - 186475) * 0.35\n",
    "elif status == 3: # Compute tax for head of household\n",
    "    if income <= 11950:\n",
    "        tax = income * 0.10\n",
    "    elif income <= 45500:\n",
    "        tax = 11950 * 0.10 + (income - 11950) * 0.15\n",
    "    elif income <= 117450:\n",
    "        tax = 11950 * 0.10 + (45500 - 11950) * 0.15 + (income - 45500) * 0.25\n",
    "    elif income <= 190200:\n",
    "        tax = 11950 * 0.10 + (45500 - 11950) * 0.15 + (117450 - 45500) * 0.25 + \\\n",
    "        (income - 117450) * 0.28\n",
    "    elif income <= 372950:\n",
    "        tax = 11950 * 0.10 + (45500 - 11950) * 0.15 + (117450 - 45500) * 0.25 + \\\n",
    "        (190200 - 117450) * 0.28 + (income - 190200) * 0.33\n",
    "    else:\n",
    "        tax = 11950 * 0.10 + (45500 - 11950) * 0.15 + (117450 - 45500) * 0.25 + \\\n",
    "        (190200 - 117450) * 0.28 + (372950 - 190200) * 0.33 + (income - 372950) * 0.35\n",
    "else:\n",
    "    print(\"Error: invalid status\")\n",
    "    sys.exit()\n",
    "\n",
    "# Display the result\n",
    "print(\"Tax is\", format(tax, \".2f\"))"
   ]
  },
  {
   "cell_type": "markdown",
   "metadata": {},
   "source": [
    "<img src=\"imagenes/capitulo_04/4.14.png\">"
   ]
  },
  {
   "cell_type": "code",
   "execution_count": 10,
   "metadata": {},
   "outputs": [
    {
     "name": "stdout",
     "output_type": "stream",
     "text": [
      "Enter yout guess is head (0) or tail (1) ? 0\n",
      "You are correct!!\n"
     ]
    }
   ],
   "source": [
    "import random\n",
    "\n",
    "coin = random.randint(0, 1)\n",
    "\n",
    "guess = eval(input('Enter yout guess is head (0) or tail (1) ? '))\n",
    "\n",
    "if guess == coin:\n",
    "    print('You are correct!!')\n",
    "else:\n",
    "    print('Your guess is incorrect :(')"
   ]
  },
  {
   "cell_type": "markdown",
   "metadata": {},
   "source": [
    "<img src=\"imagenes/capitulo_04/4.15.png\">"
   ]
  },
  {
   "cell_type": "code",
   "execution_count": 1,
   "metadata": {},
   "outputs": [
    {
     "name": "stdout",
     "output_type": "stream",
     "text": [
      "Enter your lottery pick (three digits): 532\n",
      "The lottery number is 740\n",
      "Sorry, no match\n"
     ]
    }
   ],
   "source": [
    "import random\n",
    "\n",
    "# Generate a lottery number\n",
    "lottery = random.randint(100, 999)\n",
    "\n",
    "# Prompt the user to enter a guess\n",
    "guess = eval(input(\"Enter your lottery pick (three digits): \"))\n",
    "\n",
    "# Get digits from lottery\n",
    "lotteryDigit1 = lottery // 100\n",
    "lotteryDigit2 = lottery // 10 % 10\n",
    "lotteryDigit3 = lottery % 10\n",
    "\n",
    "# Get digits from guess\n",
    "guessDigit1 = guess // 100\n",
    "guessDigit2 = guess // 10 % 10\n",
    "guessDigit3 = guess % 10\n",
    "\n",
    "print(\"The lottery number is\", lottery)\n",
    "\n",
    "# Check the guess\n",
    "if guess == lottery:\n",
    "    print(\"Exact match: you win $10,000\")\n",
    "elif  (guessDigit1 == lotteryDigit1 and guessDigit2 == lotteryDigit3 and guessDigit3 == lotteryDigit2\n",
    "    or guessDigit1 == lotteryDigit2 and guessDigit2 == lotteryDigit1 and guessDigit3 == lotteryDigit3\n",
    "    or guessDigit1 == lotteryDigit2 and guessDigit2 == lotteryDigit3 and guessDigit3 == lotteryDigit1\n",
    "    or guessDigit1 == lotteryDigit3 and guessDigit2 == lotteryDigit1 and guessDigit3 == lotteryDigit2\n",
    "    or guessDigit1 == lotteryDigit3 and guessDigit2 == lotteryDigit2 and guessDigit3 == lotteryDigit1):\n",
    "    print(\"Match all digits: you win $3,000\")\n",
    "elif (guessDigit1 == lotteryDigit1\n",
    "        or guessDigit1 == lotteryDigit2\n",
    "        or guessDigit1 == lotteryDigit3\n",
    "        or guessDigit2 == lotteryDigit1\n",
    "        or guessDigit2 == lotteryDigit2\n",
    "        or guessDigit2 == lotteryDigit3\n",
    "        or guessDigit3 == lotteryDigit1\n",
    "        or guessDigit3 == lotteryDigit2\n",
    "        or guessDigit3 == lotteryDigit3):\n",
    "    print(\"Match one digit: you win $1,000\")\n",
    "else:\n",
    "    print(\"Sorry, no match\")"
   ]
  },
  {
   "cell_type": "markdown",
   "metadata": {},
   "source": [
    "<img src=\"imagenes/capitulo_04/4.16.png\">"
   ]
  },
  {
   "cell_type": "code",
   "execution_count": 42,
   "metadata": {},
   "outputs": [
    {
     "name": "stdout",
     "output_type": "stream",
     "text": [
      "K\n"
     ]
    }
   ],
   "source": [
    "import random\n",
    "\n",
    "letter = random.randint(65, 90)\n",
    "\n",
    "print(chr(letter))"
   ]
  },
  {
   "cell_type": "markdown",
   "metadata": {},
   "source": [
    "<img src=\"imagenes/capitulo_04/4.17.png\">"
   ]
  },
  {
   "cell_type": "code",
   "execution_count": 52,
   "metadata": {},
   "outputs": [
    {
     "name": "stdout",
     "output_type": "stream",
     "text": [
      "scissor (0), rock (1), paper (2): 2\n",
      "The computer is scissor. You are paper. You lose\n"
     ]
    }
   ],
   "source": [
    "import random\n",
    "\n",
    "computer = random.randint(0, 2)\n",
    "\n",
    "player = eval(input('scissor (0), rock (1), paper (2): '))\n",
    "\n",
    "if computer == 0 and player == 0:\n",
    "    print('The computer is scissor. You are scissor too. It is a draw')\n",
    "elif computer == 1 and player == 1:\n",
    "    print('The computer is rock. You are rock too. It is a draw')\n",
    "elif computer == 2 and player == 2:\n",
    "    print('The computer is paper. You are paper too. It is a draw')\n",
    "elif computer == 0 and player == 1:\n",
    "    print('The computer is scissor. You are rock. You won')\n",
    "elif computer == 0 and player == 2:\n",
    "    print('The computer is scissor. You are paper. You lose')\n",
    "elif computer == 1 and player == 0:\n",
    "    print('The computer is rock. You are scissor. You lose')\n",
    "elif computer == 1 and player == 2:\n",
    "    print('The computer is rock. You are paper. You won')\n",
    "elif computer == 2 and player == 0:\n",
    "    print('The computer is paper. You are scissor. You won')\n",
    "elif computer == 2 and player == 1:\n",
    "    print('The computer is paper. You are rock. You lose')\n",
    "else:\n",
    "    print('Error')"
   ]
  },
  {
   "cell_type": "markdown",
   "metadata": {},
   "source": [
    "<img src=\"imagenes/capitulo_04/4.18.png\">"
   ]
  },
  {
   "cell_type": "code",
   "execution_count": 59,
   "metadata": {},
   "outputs": [
    {
     "name": "stdout",
     "output_type": "stream",
     "text": [
      "Enter the exchange rate from dollars to RMB: 6.81\n",
      "Enter 0 to convert dollars to RMB and 1 vice versa: 5\n",
      "Incorrect input\n"
     ]
    }
   ],
   "source": [
    "exchangeRate = eval(input('Enter the exchange rate from dollars to RMB: '))\n",
    "option =  eval(input('Enter 0 to convert dollars to RMB and 1 vice versa: '))\n",
    "\n",
    "if option == 0:\n",
    "    amount = eval(input('Enter the dollar amount: '))\n",
    "    print(f'${amount:1.1f} is {amount * exchangeRate} yuan')\n",
    "elif option == 1:\n",
    "    amount = eval(input('Enter the RMB amount: '))\n",
    "    print(f'{amount:1.1f} yuan is ${amount / exchangeRate:1.2f}')\n",
    "else:\n",
    "    print('Incorrect input')"
   ]
  },
  {
   "cell_type": "markdown",
   "metadata": {},
   "source": [
    "<img src=\"imagenes/capitulo_04/4.19.png\">"
   ]
  },
  {
   "cell_type": "code",
   "execution_count": 62,
   "metadata": {},
   "outputs": [
    {
     "name": "stdout",
     "output_type": "stream",
     "text": [
      "Enter three edges: 1,1,1\n",
      "The perimeter is 3\n"
     ]
    }
   ],
   "source": [
    "a, b, c = eval(input('Enter three edges: '))\n",
    "\n",
    "if a + b > c and b + c > a and c + a > b:\n",
    "    print(f'The perimeter is {a + b + c}')\n",
    "else:\n",
    "    print('The input is invalid')"
   ]
  },
  {
   "cell_type": "markdown",
   "metadata": {},
   "source": [
    "<img src=\"imagenes/capitulo_04/4.20.png\">"
   ]
  },
  {
   "cell_type": "code",
   "execution_count": 69,
   "metadata": {},
   "outputs": [
    {
     "name": "stdout",
     "output_type": "stream",
     "text": [
      "Enter the temperature in Fahrenheit between -58 and 41: 40\n",
      "Enter the wind speed in miles per hour: 3\n",
      "The wind chill index is 38.36597\n"
     ]
    }
   ],
   "source": [
    "temperature = eval(input('Enter the temperature in Fahrenheit between -58 and 41: '))\n",
    "windSpeed = eval(input('Enter the wind speed in miles per hour: '))\n",
    "\n",
    "if temperature >= -58 and temperature <= 41:\n",
    "    tempValid = True\n",
    "else:\n",
    "    tempValid = False\n",
    "\n",
    "if windSpeed >= 2:\n",
    "    windValid = True\n",
    "else:\n",
    "    windValid = False\n",
    "\n",
    "if tempValid == True and windValid == True:\n",
    "    windChill =  35.74 + (0.6215 * temperature) - (35.75 * windSpeed ** 0.16) + (0.4275 * temperature * windSpeed ** 0.16)\n",
    "    print(f'The wind chill index is {windChill:1.5f}')\n",
    "elif (tempValid == False and windValid == False):\n",
    "    print('The temperature and wind speed is invalid')\n",
    "else:\n",
    "    print('The temperature or wind speed is invalid')"
   ]
  },
  {
   "cell_type": "markdown",
   "metadata": {},
   "source": [
    "<img src=\"imagenes/capitulo_04/4.21.png\">"
   ]
  },
  {
   "cell_type": "code",
   "execution_count": 96,
   "metadata": {},
   "outputs": [
    {
     "name": "stdout",
     "output_type": "stream",
     "text": [
      "Enter year: 2020\n",
      "Enter month: 1-12: 6\n",
      "Enter the day of the month: 1-31:6\n",
      "1 Day of the week is Sunday\n"
     ]
    }
   ],
   "source": [
    "year = eval(input('Enter year: '))\n",
    "m = eval(input('Enter month: 1-12: '))\n",
    "q = eval(input('Enter the day of the month: 1-31:'))\n",
    "\n",
    "if m == 1:\n",
    "    m = 13\n",
    "    year -= 1\n",
    "\n",
    "if m == 2:\n",
    "    m = 14\n",
    "    year -= 1\n",
    "\n",
    "j = year / 100\n",
    "\n",
    "k = year % 100\n",
    "\n",
    "h = int((q + int(26 * (m + 1) / 10) +  k + k // 4 + j // 4 + 5 * j) % 7)\n",
    "\n",
    "if h == 0:\n",
    "    day = 'Saturday'\n",
    "elif h == 1:\n",
    "    day = 'Sunday'\n",
    "elif h == 2:\n",
    "    day = 'Monday'\n",
    "elif h == 3:\n",
    "    day = 'Tuesday'\n",
    "elif h == 4:\n",
    "    day = 'Wednesday'\n",
    "elif h == 5:\n",
    "    day = 'Thursday'\n",
    "elif h == 6:\n",
    "    day = 'Friday'\n",
    "else:\n",
    "    day = 'Error'\n",
    "\n",
    "print(f'{h} Day of the week is {day}')"
   ]
  },
  {
   "cell_type": "markdown",
   "metadata": {},
   "source": [
    "<img src=\"imagenes/capitulo_04/4.22.png\">"
   ]
  },
  {
   "cell_type": "code",
   "execution_count": 100,
   "metadata": {},
   "outputs": [
    {
     "name": "stdout",
     "output_type": "stream",
     "text": [
      "Enter a point with two coordinates: 9,9\n",
      "Point (9.0, 9.0) is not in the circle\n"
     ]
    }
   ],
   "source": [
    "import math\n",
    "\n",
    "x, y = eval(input('Enter a point with two coordinates: '))\n",
    "\n",
    "distance = math.sqrt((x - 0) ** 2 + (y - 0) ** 2)\n",
    "\n",
    "if distance <= 10:\n",
    "    print(f'Point ({x:1.1f}, {y:1.1f}) is in the circle')\n",
    "else:\n",
    "    print(f'Point ({x:1.1f}, {y:1.1f}) is not in the circle')\n"
   ]
  },
  {
   "cell_type": "markdown",
   "metadata": {},
   "source": [
    "<img src=\"imagenes/capitulo_04/4.23.png\">"
   ]
  },
  {
   "cell_type": "code",
   "execution_count": 102,
   "metadata": {},
   "outputs": [
    {
     "name": "stdout",
     "output_type": "stream",
     "text": [
      "Enter a point with two coordinates: 6,4\n",
      "Point (6.0, 4.0) is not in the rectangle\n"
     ]
    }
   ],
   "source": [
    "import math\n",
    "\n",
    "x, y = eval(input('Enter a point with two coordinates: '))\n",
    "\n",
    "\n",
    "if x <= 10 / 2 and y <= 5 / 2:\n",
    "    print(f'Point ({x:1.1f}, {y:1.1f}) is in the rectangle')\n",
    "else:\n",
    "    print(f'Point ({x:1.1f}, {y:1.1f}) is not in the rectangle')\n"
   ]
  },
  {
   "cell_type": "markdown",
   "metadata": {},
   "source": [
    "<img src=\"imagenes/capitulo_04/4.24.png\">"
   ]
  },
  {
   "cell_type": "code",
   "execution_count": 107,
   "metadata": {},
   "outputs": [
    {
     "name": "stdout",
     "output_type": "stream",
     "text": [
      "The card you picked is the 5 of Clubs\n"
     ]
    }
   ],
   "source": [
    "import random\n",
    "\n",
    "rank = random.randint(1, 13)\n",
    "suit = random.randint(1,4)\n",
    "\n",
    "if rank == 1:\n",
    "    rank = 'Ace'\n",
    "elif rank == 11:\n",
    "    rank = 'Jack'\n",
    "elif rank == 12:\n",
    "    rank = 'Queen'\n",
    "elif rank == 13:\n",
    "    rank = 'King'\n",
    "else:\n",
    "    rank = rank\n",
    "    \n",
    "if suit == 1:\n",
    "    suit = 'Clubs'\n",
    "elif suit == 2:\n",
    "    suit = 'Diamonds'\n",
    "elif suit == 3:\n",
    "    suit = 'Hearts'\n",
    "else:\n",
    "    suit = 'Spades'    \n",
    "\n",
    "print(f'The card you picked is the {rank} of {suit}')"
   ]
  },
  {
   "cell_type": "markdown",
   "metadata": {},
   "source": [
    "<img src=\"imagenes/capitulo_04/4.25.png\">"
   ]
  },
  {
   "cell_type": "code",
   "execution_count": 109,
   "metadata": {},
   "outputs": [
    {
     "name": "stdout",
     "output_type": "stream",
     "text": [
      "Enter x1, y1, x2, y2, x3, y3, x4, y4: 2, 2, 7, 6, 4, 2, -1, -2\n",
      "The two lines are parallel\n"
     ]
    }
   ],
   "source": [
    "x1, y1, x2, y2, x3, y3, x4, y4 = eval(input('Enter x1, y1, x2, y2, x3, y3, x4, y4: '))\n",
    "\n",
    "a = y1 - y2\n",
    "b = -(x1 - x2)\n",
    "e = (y1 - y2) * x1 - (x1 - x2) * y1 \n",
    "c = y3 - y4\n",
    "d = -(x3 - x4)\n",
    "f = (y3 - y4) * x3 - (x3 - x4) * y3\n",
    "\n",
    "\n",
    "solution = a * d - b * c\n",
    "\n",
    "if solution == 0:\n",
    "    print('The two lines are parallel')\n",
    "else:\n",
    "    x = (e * d - b * f) / (a * d - b * c)\n",
    "    y = (a * f - e * c) / (a * d - b * c)\n",
    "    print(f'The intersecting point is at ({x:1.5f}, {y:1.5f})')"
   ]
  },
  {
   "cell_type": "markdown",
   "metadata": {},
   "source": [
    "<img src=\"imagenes/capitulo_04/4.26.png\">"
   ]
  },
  {
   "cell_type": "code",
   "execution_count": 121,
   "metadata": {},
   "outputs": [
    {
     "name": "stdout",
     "output_type": "stream",
     "text": [
      "Enter a three-digit integer: 323\n",
      "323 is a palindrome\n"
     ]
    }
   ],
   "source": [
    "number1 = eval(input('Enter a three-digit integer: '))\n",
    "\n",
    "u = number1 % 10\n",
    "d = number1 // 10 % 10\n",
    "c = number1 // 100\n",
    "\n",
    "number2 = u * 100 + d * 10 + c\n",
    "\n",
    "if number1 == number2:\n",
    "    print(f'{number1} is a palindrome')\n",
    "else:\n",
    "    print(f'{number1} is not a palindrome')"
   ]
  },
  {
   "cell_type": "markdown",
   "metadata": {},
   "source": [
    "<img src=\"imagenes/capitulo_04/4.27.png\">"
   ]
  },
  {
   "cell_type": "code",
   "execution_count": 124,
   "metadata": {},
   "outputs": [
    {
     "name": "stdout",
     "output_type": "stream",
     "text": [
      "Enter a point's x- and y-coordinates: 100.5, 50.5\n",
      "The point is not in the triangle\n"
     ]
    }
   ],
   "source": [
    "x, y = eval(input(\"Enter a point's x- and y-coordinates: \"))\n",
    "\n",
    "if (x >= 0 and x <= 200) and (y >= 0 and y <= x / 2):\n",
    "    print(f'The point is in the triangle')\n",
    "else:\n",
    "    print(f'The point is not in the triangle')"
   ]
  },
  {
   "cell_type": "markdown",
   "metadata": {},
   "source": [
    "<img src=\"imagenes/capitulo_04/4.28.png\">"
   ]
  },
  {
   "cell_type": "code",
   "execution_count": 6,
   "metadata": {},
   "outputs": [
    {
     "name": "stdout",
     "output_type": "stream",
     "text": [
      "Enter r1's center x-, y-coordinates, width, and height: 2.5, 4,2.5, 43\n",
      "Enter r2's center x-, y-coordinates, width, and height: 1.5, 5, 0.5, 3\n",
      "r2 is inside r1\n"
     ]
    }
   ],
   "source": [
    "x1, y1, w1, h1 = eval(input(\"Enter r1's center x-, y-coordinates, width, and height: \"))\n",
    "\n",
    "x2, y2, w2, h2 = eval(input(\"Enter r2's center x-, y-coordinates, width, and height: \"))\n",
    "\n",
    "xDistance = x1 - x2 if x1 - x2 >= 0 else x2 - x1\n",
    "yDistance = y1 - y2 if y1 - y2 >= 0 else y2 - y1\n",
    "    \n",
    "if xDistance <= (w1 - w2) / 2 and yDistance <= (h1 - h2) / 2:\n",
    "    print(\"r2 is inside r1\")\n",
    "elif xDistance <= (w1 + w2) / 2 and yDistance <= (h1 + h2) / 2:\n",
    "    print(\"r2 overlaps r1\")\n",
    "else:\n",
    "    print(\"r2 does not overlap r1\")"
   ]
  },
  {
   "cell_type": "markdown",
   "metadata": {},
   "source": [
    "<img src=\"imagenes/capitulo_04/4.29.png\">"
   ]
  },
  {
   "cell_type": "code",
   "execution_count": 14,
   "metadata": {},
   "outputs": [
    {
     "name": "stdout",
     "output_type": "stream",
     "text": [
      "Enter circle1's center x-, y-coordinates, and radius: 4.4, 5.5, 1\n",
      "Enter circle2's center x-, y-coordinates, and radius: 5.5, 7.2, 1\n",
      "circle2 does not overlap circle1\n"
     ]
    }
   ],
   "source": [
    "import math\n",
    "\n",
    "x1, y1, r1 = eval(input(\"Enter circle1's center x-, y-coordinates, and radius: \"))\n",
    "x2, y2, r2 = eval(input(\"Enter circle2's center x-, y-coordinates, and radius: \"))\n",
    "\n",
    "# distance between 2 centers (x1, y1) and (x2, y2)\n",
    "distance = math.sqrt((x2 - x1) ** 2 + (y2 - y1) ** 2)\n",
    "\n",
    "if distance <= math.fabs(r1 - r2):\n",
    "    print('circle2 is inside circle1')\n",
    "elif distance <= r1 + r2:\n",
    "    print('circle2 overlaps circle1')\n",
    "else:\n",
    "    print('circle2 does not overlap circle1')\n",
    "    "
   ]
  },
  {
   "cell_type": "markdown",
   "metadata": {},
   "source": [
    "<img src=\"imagenes/capitulo_04/4.30.png\">"
   ]
  },
  {
   "cell_type": "code",
   "execution_count": 128,
   "metadata": {},
   "outputs": [
    {
     "name": "stdout",
     "output_type": "stream",
     "text": [
      "Enter the time zone offset to GMT: -5\n",
      "Current time is 07:26:25 GMT\n"
     ]
    }
   ],
   "source": [
    "import time\n",
    "\n",
    "gmt = eval(input('Enter the time zone offset to GMT: '))\n",
    "\n",
    "currentTime = time.time() # Get currente time\n",
    "\n",
    "# Obtain the total seconds since midnight, Jan 1, 1979\n",
    "totalSeconds = int(currentTime)\n",
    "totalSeconds = totalSeconds - gmt * 60 * 60\n",
    "\n",
    "# Get the current second\n",
    "currentSecond = totalSeconds % 60\n",
    "\n",
    "# Obtain the total minutes\n",
    "totalMinutes = totalSeconds // 60\n",
    "\n",
    "# Compute the current minute in the hour\n",
    "currentMinute =  totalMinutes % 60\n",
    "\n",
    "# Obtain the total hours\n",
    "totalHours = totalMinutes // 60\n",
    "\n",
    "# Compute the current hour\n",
    "currentHour = totalHours % 24\n",
    "\n",
    "if currentHour < 10:\n",
    "    currentHour = \"0\" + str(currentHour)\n",
    "\n",
    "# Display results\n",
    "print(f'Current time is {currentHour}:{currentMinute}:{currentSecond} GMT')\n"
   ]
  },
  {
   "cell_type": "markdown",
   "metadata": {},
   "source": [
    "<img src=\"imagenes/capitulo_04/4.31.png\">"
   ]
  },
  {
   "cell_type": "code",
   "execution_count": 25,
   "metadata": {},
   "outputs": [
    {
     "name": "stdout",
     "output_type": "stream",
     "text": [
      "Enter coordinates for the three points p0, p1, and p2: 3.4, 2, 6.5, 9.5, 5, 2.5\n",
      "p2 is on the right side of the line from p0 to p1\n"
     ]
    }
   ],
   "source": [
    "x0, y0, x1, y1, x2, y2 = eval(input('Enter coordinates for the three points p0, p1, and p2: '))\n",
    "\n",
    "result = (x1 - x0) * (y2 - y0) - (x2 - x0) * (y1 - y0) \n",
    "\n",
    "if result > 0:\n",
    "    print('p2 is on the left side of the line from p0 to p1')\n",
    "elif result < 0:\n",
    "    print('p2 is on the right side of the line from p0 to p1')\n",
    "else:\n",
    "    print('p2 is on the same line from p0 to p1')"
   ]
  },
  {
   "cell_type": "markdown",
   "metadata": {},
   "source": [
    "<img src=\"imagenes/capitulo_04/4.32.png\">"
   ]
  },
  {
   "cell_type": "code",
   "execution_count": null,
   "metadata": {},
   "outputs": [],
   "source": []
  },
  {
   "cell_type": "markdown",
   "metadata": {},
   "source": [
    "<img src=\"imagenes/capitulo_04/4.33.png\">"
   ]
  },
  {
   "cell_type": "code",
   "execution_count": 34,
   "metadata": {},
   "outputs": [
    {
     "name": "stdout",
     "output_type": "stream",
     "text": [
      "Enter a decimal value (0 to 15): 14\n",
      "The hex value is E\n"
     ]
    }
   ],
   "source": [
    "number = eval(input('Enter a decimal value (0 to 15): '))\n",
    "\n",
    "if number >= 0 and number <= 9:\n",
    "    print(f'The hex value is {number}')\n",
    "elif number >= 10 and number <= 15:\n",
    "    print(f'The hex value is {chr(number + 55)}')\n",
    "else:\n",
    "    print('Invalid input')\n"
   ]
  },
  {
   "cell_type": "markdown",
   "metadata": {},
   "source": [
    "<img src=\"imagenes/capitulo_04/4.34.png\">"
   ]
  },
  {
   "cell_type": "code",
   "execution_count": 69,
   "metadata": {},
   "outputs": [
    {
     "name": "stdout",
     "output_type": "stream",
     "text": [
      "Enter a hex character: b\n",
      "The decimal value is 11\n"
     ]
    }
   ],
   "source": [
    "character = input('Enter a hex character: ')\n",
    "\n",
    "character = ord(character)\n",
    "\n",
    "if character >= 48 and character <= 57:\n",
    "    print(f'The decimal value is {chr(character)}')\n",
    "elif character >= 65 and character <= 70:\n",
    "    print(f'The decimal value is {character - 55}')\n",
    "elif character >= 97 and character <= 102:\n",
    "    print(f'The decimal value is {character - 87}')\n",
    "else:\n",
    "    print('Invalid input')"
   ]
  },
  {
   "cell_type": "markdown",
   "metadata": {},
   "source": [
    "<img src=\"imagenes/capitulo_04/4.35.png\">"
   ]
  },
  {
   "cell_type": "code",
   "execution_count": 1,
   "metadata": {},
   "outputs": [
    {
     "name": "stdout",
     "output_type": "stream",
     "text": [
      "Enter coordinates for the three points p0, p1, and p2: -50, -50, 50, 50, 0, 0\n"
     ]
    }
   ],
   "source": [
    "import turtle \n",
    "\n",
    "t = turtle.Turtle()\n",
    "\n",
    "t.hideturtle()\n",
    "\n",
    "x0, y0, x1, y1, x2, y2 = eval(input('Enter coordinates for the three points p0, p1, and p2: '))\n",
    "\n",
    "result = (x1 - x0) * (y2 - y0) - (x2 - x0) * (y1 - y0) \n",
    "\n",
    "# Draw the line with p0 at (x0, y0) and p1 at (x1, y1)\n",
    "t.penup()\n",
    "t.goto(x0, y0)\n",
    "t.write(f'p0 ({x0},{y0})', font = (\"Times\", 10, \"normal\"))\n",
    "t.pendown()\n",
    "t.goto(x1, y1)\n",
    "t.write(f'p1 ({x1},{y1})', font = (\"Times\", 10, \"normal\"))\n",
    "t.goto(x0, y0)\n",
    "\n",
    "# Draw the point p2 at (x2, y2)\n",
    "t.penup()\n",
    "t.goto(x2 + 5 /2, y2 - 5 /2)\n",
    "t.pendown()\n",
    "t.begin_fill()\n",
    "t.circle(5)\n",
    "t.end_fill()\n",
    "t.penup()\n",
    "t.goto(x2, y2 -20)\n",
    "\n",
    "if result > 0:\n",
    "    t.write('p2 is on the left side of the line', align = \"center\", font = (\"Times\", 10, \"normal\"))\n",
    "elif result < 0:\n",
    "    t.write('p2 is on the right side of the line', font = (\"Times\", 10, \"normal\"))\n",
    "else:\n",
    "    t.write('p2 is on the same line', font = (\"Times\", 10, \"normal\"))\n",
    "\n",
    "turtle.done()"
   ]
  },
  {
   "cell_type": "markdown",
   "metadata": {},
   "source": [
    "<img src=\"imagenes/capitulo_04/4.36.png\">"
   ]
  },
  {
   "cell_type": "code",
   "execution_count": 4,
   "metadata": {},
   "outputs": [],
   "source": [
    "import turtle, random\n",
    "\n",
    "t = turtle.Turtle()\n",
    "\n",
    "t.hideturtle()\n",
    "\n",
    "x1 = 0; y1 = 0\n",
    "radius = 100\n",
    "x2 = random.randint(x1, 2 * radius)\n",
    "y2 = random.randint(y1, 2 * radius)\n",
    "\n",
    "# Draw the circle\n",
    "t.penup() # Pull the pen up\n",
    "t.goto(x1, y1 - radius)\n",
    "t.pendown() # Pull the pen down\n",
    "t.circle(radius)\n",
    "\n",
    "# Draw the point\n",
    "t.penup() # Pull the pen up\n",
    "t.goto(x2, y2)\n",
    "t.pendown() # Pull the pen down\n",
    "t.dot(6, \"red\")\n",
    "\n",
    "# Display the status\n",
    "t.penup() # Pull the pen up\n",
    "t.goto(x1, y1 - radius - 30)\n",
    "t.pendown()\n",
    "\n",
    "d = ((x2 - x1) * (x2 - x1) + (y2 - y1) * (y2 - y1)) ** 0.5\n",
    "if d <= radius:\n",
    "  t.write(\"The point is inside the circle\", align=\"center\", font = (\"Times\", 11, \"normal\"))\n",
    "else:\n",
    "  t.write(\"The point is outside the circle\", align=\"center\", font = (\"Times\", 11, \"normal\"))\n",
    "\n",
    "turtle.done()"
   ]
  },
  {
   "cell_type": "markdown",
   "metadata": {},
   "source": [
    "<img src=\"imagenes/capitulo_04/4.37.png\">"
   ]
  },
  {
   "cell_type": "code",
   "execution_count": null,
   "metadata": {},
   "outputs": [
    {
     "name": "stdout",
     "output_type": "stream",
     "text": [
      "Enter a point with two coordinates: 34,78\n"
     ]
    }
   ],
   "source": [
    "import turtle\n",
    "\n",
    "t = turtle.Turtle()\n",
    "\n",
    "t.hideturtle()\n",
    "\n",
    "x2, y2 = eval(input('Enter a point with two coordinates: '))\n",
    "\n",
    "x1 = 0; y1 = 0; w1 = 200; h1 = 100\n",
    "\n",
    "# Calculate the left upper point\n",
    "x0 = x1 - w1 / 2\n",
    "y0 = y1 - h1 /2\n",
    "\n",
    "# Draw the rectangle\n",
    "t.penup() # Pull the pen up\n",
    "t.goto(x0, y0)\n",
    "t.pendown() # Pull the pen down\n",
    "t.goto(x0 + w1, y0)\n",
    "t.goto(x0 + w1, y0 + h1)\n",
    "t.goto(x0, y0 + h1)\n",
    "t.goto(x0, y0)\n",
    "\n",
    "# Draw the point\n",
    "t.penup()\n",
    "t.goto(x2, y2)\n",
    "t.dot(10, \"red\")\n",
    "\n",
    "#Display the status\n",
    "t.penup()\n",
    "t.goto(x1, y1 - h1 + 10)\n",
    "t.pendown()\n",
    "if x2 <= w1 / 2 and y2 <= h1 / 2:\n",
    "    t.write('The point is inside the rectangle', align=\"center\", font = (\"Times\", 11, \"normal\"))\n",
    "else:\n",
    "    t.write('The point  is not inside the rectangle', align=\"center\", font = (\"Times\", 11, \"normal\"))\n",
    "\n",
    "turtle.done()"
   ]
  },
  {
   "cell_type": "markdown",
   "metadata": {},
   "source": [
    "<img src=\"imagenes/capitulo_04/4.38.png\">"
   ]
  },
  {
   "cell_type": "code",
   "execution_count": 1,
   "metadata": {},
   "outputs": [
    {
     "name": "stdout",
     "output_type": "stream",
     "text": [
      "Enter r1's center x-, y-coordinates, width, and height: 0,0,100,200\n",
      "Enter r2's center x-, y-coordinates, width, and height: 45,56, 56, 78\n"
     ]
    }
   ],
   "source": [
    "import turtle\n",
    "\n",
    "t = turtle.Turtle()\n",
    "\n",
    "t.hideturtle()\n",
    "\n",
    "x1, y1, w1, h1 = eval(input(\"Enter r1's center x-, y-coordinates, width, and height: \"))\n",
    "\n",
    "x2, y2, w2, h2 = eval(input(\"Enter r2's center x-, y-coordinates, width, and height: \"))\n",
    "\n",
    "xDistance = x1 - x2 if x1 - x2 >= 0 else x2 - x1\n",
    "yDistance = y1 - y2 if y1 - y2 >= 0 else y2 - y1\n",
    "    \n",
    "\n",
    "# Calculate the left upper point for R1\n",
    "x1_ = x1 - w1 / 2\n",
    "y1_ = y1 - h1 /2\n",
    "\n",
    "# Calculate the left upper point for R2\n",
    "x2_ = x2 - w2 / 2\n",
    "y2_ = y2 - h2 /2\n",
    "\n",
    "# Draw the rectangle R1\n",
    "t.penup() # Pull the pen up\n",
    "t.goto(x1_, y1_)\n",
    "t.pendown() # Pull the pen down\n",
    "t.goto(x1_ + w1, y1_)\n",
    "t.goto(x1_ + w1, y1_ + h1)\n",
    "t.goto(x1_, y1_ + h1)\n",
    "t.goto(x1_, y1_)\n",
    "\n",
    "# Draw the rectangle R2\n",
    "t.penup() # Pull the pen up\n",
    "t.goto(x2_, y2_)\n",
    "t.pendown() # Pull the pen down\n",
    "t.goto(x2_ + w2, y2_)\n",
    "t.goto(x2_ + w2, y2_ + h2)\n",
    "t.goto(x2_, y2_ + h2)\n",
    "t.goto(x2_, y2_)\n",
    "\n",
    "#Display the status\n",
    "t.penup()\n",
    "t.goto(0, 100)\n",
    "t.pendown()\n",
    "if xDistance <= (w1 - w2) / 2 and yDistance <= (h1 - h2) / 2:\n",
    "    t.write('r2 is inside r1', align=\"center\", font = (\"Times\", 13, \"bold\"))\n",
    "elif xDistance <= (w1 + w2) / 2 and yDistance <= (h1 + h2) / 2:\n",
    "    t.write('r2 overlaps r1', align=\"center\", font = (\"Times\", 13, \"bold\"))\n",
    "else:\n",
    "    t.write('r2 does not overlap r1', align=\"center\", font = (\"Times\", 13, \"bold\"))\n",
    "\n",
    "turtle.done()"
   ]
  },
  {
   "cell_type": "markdown",
   "metadata": {},
   "source": [
    "<img src=\"imagenes/capitulo_04/4.39.png\">"
   ]
  },
  {
   "cell_type": "code",
   "execution_count": 10,
   "metadata": {},
   "outputs": [
    {
     "name": "stdout",
     "output_type": "stream",
     "text": [
      "Enter circle1's center x-, y-coordinates, and radius: 0,0,200\n",
      "Enter circle2's center x-, y-coordinates, and radius: -200, -200, 10\n"
     ]
    }
   ],
   "source": [
    "import turtle, math\n",
    "\n",
    "t = turtle.Turtle()\n",
    "\n",
    "t.hideturtle()\n",
    "\n",
    "x1, y1, r1 = eval(input(\"Enter circle1's center x-, y-coordinates, and radius: \"))\n",
    "x2, y2, r2 = eval(input(\"Enter circle2's center x-, y-coordinates, and radius: \"))\n",
    "\n",
    "# distance between 2 centers (x1, y1) and (x2, y2)\n",
    "distance = math.sqrt((x2 - x1) ** 2 + (y2 - y1) ** 2)  \n",
    "\n",
    "# Draw the Circle 1\n",
    "t.penup()\n",
    "t.goto(x1, y1 - r1)\n",
    "t.pendown()\n",
    "t.circle(r1)\n",
    "\n",
    "# Draw the Circle 1\n",
    "t.penup()\n",
    "t.goto(x2, y2 - r2)\n",
    "t.pendown()\n",
    "t.circle(r2)\n",
    "\n",
    "#Display the status\n",
    "t.penup()\n",
    "t.goto(0, -150)\n",
    "t.pendown()\n",
    "if distance <= math.fabs(r1 - r2):\n",
    "    t.write('circle2 is inside circle1', align=\"center\", font=(\"Times\", 12, \"bold\"))\n",
    "elif distance <= r1 + r2:\n",
    "    t.write('circle2 overlaps circle1', align=\"center\", font=(\"Times\", 12, \"bold\"))\n",
    "else:\n",
    "    t.write('circle2 does not overlap circle1', align=\"center\", font=(\"Times\", 12, \"bold\"))\n",
    "\n",
    "turtle.done()\n"
   ]
  }
 ],
 "metadata": {
  "kernelspec": {
   "display_name": "Python 3",
   "language": "python",
   "name": "python3"
  },
  "language_info": {
   "codemirror_mode": {
    "name": "ipython",
    "version": 3
   },
   "file_extension": ".py",
   "mimetype": "text/x-python",
   "name": "python",
   "nbconvert_exporter": "python",
   "pygments_lexer": "ipython3",
   "version": "3.7.6"
  }
 },
 "nbformat": 4,
 "nbformat_minor": 4
}
