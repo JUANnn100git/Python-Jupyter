{
 "cells": [
  {
   "cell_type": "markdown",
   "metadata": {},
   "source": [
    "# <span style=\"color:#88B04B\">CHAPTER 06</span>\n",
    "## <span style=\"color:#1E3D89\">FUNCTIONS</span>\n",
    "___"
   ]
  },
  {
   "cell_type": "markdown",
   "metadata": {},
   "source": [
    "<img src=\"imagenes/capitulo_06/6.1.png\">"
   ]
  },
  {
   "cell_type": "code",
   "execution_count": 2,
   "metadata": {},
   "outputs": [
    {
     "name": "stdout",
     "output_type": "stream",
     "text": [
      "1 5 12 22 35 51 70 92 117 145 176 210 247 287 330 376 425 477 532 590 651 715 782 852 925 1001 1080 1162 1247 1335 1426 1520 1617 1717 1820 1926 2035 2147 2262 2380 2501 2625 2752 2882 3015 3151 3290 3432 3577 3725 3876 4030 4187 4347 4510 4676 4845 5017 5192 5370 5551 5735 5922 6112 6305 6501 6700 6902 7107 7315 7526 7740 7957 8177 8400 8626 8855 9087 9322 9560 9801 10045 10292 10542 10795 11051 11310 11572 11837 12105 12376 12650 12927 13207 13490 13776 14065 14357 14652 14950 "
     ]
    }
   ],
   "source": [
    "def getPentagonalNumber(n):\n",
    "    return n * (3 * n - 1) / 2\n",
    "\n",
    "def main():\n",
    "    for i in range(1, 101):\n",
    "        print(f'{getPentagonalNumber(i):1.0f}', end = \" \")\n",
    "\n",
    "main()        "
   ]
  },
  {
   "cell_type": "markdown",
   "metadata": {},
   "source": [
    "<img src=\"imagenes/capitulo_06/6.2.png\">"
   ]
  },
  {
   "cell_type": "code",
   "execution_count": 17,
   "metadata": {},
   "outputs": [
    {
     "name": "stdout",
     "output_type": "stream",
     "text": [
      "Enter a number: 654\n",
      "The sum of all its digits is: 15\n"
     ]
    }
   ],
   "source": [
    "def sumDigits(n):\n",
    "    sum = 0\n",
    "    while n != 0:\n",
    "        sum +=  n % 10\n",
    "        n = n // 10    \n",
    "    return sum\n",
    "\n",
    "def main():\n",
    "    number = eval(input('Enter a number: '))\n",
    "    print(f'The sum of all its digits is: {sumDigits(number)}')\n",
    "\n",
    "main()"
   ]
  },
  {
   "cell_type": "markdown",
   "metadata": {},
   "source": [
    "<img src=\"imagenes/capitulo_06/6.3.png\">"
   ]
  },
  {
   "cell_type": "code",
   "execution_count": 43,
   "metadata": {},
   "outputs": [
    {
     "name": "stdout",
     "output_type": "stream",
     "text": [
      "Enter a number: 1221\n",
      "The number 1221 is a Palindrome\n"
     ]
    }
   ],
   "source": [
    "def reverse(number):\n",
    "    sum = 0\n",
    "    while number != 0:\n",
    "        sum = sum * 10 + number % 10\n",
    "        number = number // 10\n",
    "    return sum\n",
    "\n",
    "def isPalindrome(number):\n",
    "    return number == reverse(number)\n",
    "\n",
    "def main():\n",
    "    number = eval(input('Enter a number: '))\n",
    "    if isPalindrome(number) == True:\n",
    "        print(f'The number {number} is a Palindrome')\n",
    "    else:\n",
    "        print(f'The number {number} is not a Palindrome')\n",
    "        \n",
    "main()"
   ]
  },
  {
   "cell_type": "markdown",
   "metadata": {},
   "source": [
    "<img src=\"imagenes/capitulo_06/6.4.png\">"
   ]
  },
  {
   "cell_type": "code",
   "execution_count": 44,
   "metadata": {},
   "outputs": [
    {
     "name": "stdout",
     "output_type": "stream",
     "text": [
      "Enter a number: 3456\n",
      "The reversal number is 6543\n"
     ]
    }
   ],
   "source": [
    "def reverse(number):\n",
    "    sum = 0\n",
    "    while number != 0:\n",
    "        sum = sum * 10 + number % 10\n",
    "        number = number // 10\n",
    "    return sum\n",
    "\n",
    "def main():\n",
    "    number = eval(input('Enter a number: '))\n",
    "    print(f'The reversal number is {reverse(number)}')\n",
    "        \n",
    "main()"
   ]
  },
  {
   "cell_type": "markdown",
   "metadata": {},
   "source": [
    "<img src=\"imagenes/capitulo_06/6.5.png\">"
   ]
  },
  {
   "cell_type": "code",
   "execution_count": 62,
   "metadata": {},
   "outputs": [
    {
     "name": "stdout",
     "output_type": "stream",
     "text": [
      "The sorted numbers are 12.4 15.0 31\n"
     ]
    }
   ],
   "source": [
    "def displaySortedNumbers(num1, num2, num3):\n",
    "    maxNumber = max(num1, num2, num3)\n",
    "    minNumber = min(num1, num2, num3)\n",
    "    midNumber = ((num1 + num2 + num3)*10 - (maxNumber + minNumber) * 10) / 10\n",
    "    return print(f'The sorted numbers are {minNumber} {midNumber} {maxNumber}')\n",
    "\n",
    "def main():\n",
    "    {displaySortedNumbers(31, 12.4, 15)}\n",
    "    \n",
    "main()"
   ]
  },
  {
   "cell_type": "markdown",
   "metadata": {},
   "source": [
    "<img src=\"imagenes/capitulo_06/6.6.png\">"
   ]
  },
  {
   "cell_type": "code",
   "execution_count": 82,
   "metadata": {},
   "outputs": [
    {
     "name": "stdout",
     "output_type": "stream",
     "text": [
      "Enter a number: 34\n",
      "                                                                                                   1  \n",
      "                                                                                                2  1  \n",
      "                                                                                             3  2  1  \n",
      "                                                                                          4  3  2  1  \n",
      "                                                                                       5  4  3  2  1  \n",
      "                                                                                    6  5  4  3  2  1  \n",
      "                                                                                 7  6  5  4  3  2  1  \n",
      "                                                                              8  7  6  5  4  3  2  1  \n",
      "                                                                           9  8  7  6  5  4  3  2  1  \n",
      "                                                                        10 9  8  7  6  5  4  3  2  1  \n",
      "                                                                     11 10 9  8  7  6  5  4  3  2  1  \n",
      "                                                                  12 11 10 9  8  7  6  5  4  3  2  1  \n",
      "                                                               13 12 11 10 9  8  7  6  5  4  3  2  1  \n",
      "                                                            14 13 12 11 10 9  8  7  6  5  4  3  2  1  \n",
      "                                                         15 14 13 12 11 10 9  8  7  6  5  4  3  2  1  \n",
      "                                                      16 15 14 13 12 11 10 9  8  7  6  5  4  3  2  1  \n",
      "                                                   17 16 15 14 13 12 11 10 9  8  7  6  5  4  3  2  1  \n",
      "                                                18 17 16 15 14 13 12 11 10 9  8  7  6  5  4  3  2  1  \n",
      "                                             19 18 17 16 15 14 13 12 11 10 9  8  7  6  5  4  3  2  1  \n",
      "                                          20 19 18 17 16 15 14 13 12 11 10 9  8  7  6  5  4  3  2  1  \n",
      "                                       21 20 19 18 17 16 15 14 13 12 11 10 9  8  7  6  5  4  3  2  1  \n",
      "                                    22 21 20 19 18 17 16 15 14 13 12 11 10 9  8  7  6  5  4  3  2  1  \n",
      "                                 23 22 21 20 19 18 17 16 15 14 13 12 11 10 9  8  7  6  5  4  3  2  1  \n",
      "                              24 23 22 21 20 19 18 17 16 15 14 13 12 11 10 9  8  7  6  5  4  3  2  1  \n",
      "                           25 24 23 22 21 20 19 18 17 16 15 14 13 12 11 10 9  8  7  6  5  4  3  2  1  \n",
      "                        26 25 24 23 22 21 20 19 18 17 16 15 14 13 12 11 10 9  8  7  6  5  4  3  2  1  \n",
      "                     27 26 25 24 23 22 21 20 19 18 17 16 15 14 13 12 11 10 9  8  7  6  5  4  3  2  1  \n",
      "                  28 27 26 25 24 23 22 21 20 19 18 17 16 15 14 13 12 11 10 9  8  7  6  5  4  3  2  1  \n",
      "               29 28 27 26 25 24 23 22 21 20 19 18 17 16 15 14 13 12 11 10 9  8  7  6  5  4  3  2  1  \n",
      "            30 29 28 27 26 25 24 23 22 21 20 19 18 17 16 15 14 13 12 11 10 9  8  7  6  5  4  3  2  1  \n",
      "         31 30 29 28 27 26 25 24 23 22 21 20 19 18 17 16 15 14 13 12 11 10 9  8  7  6  5  4  3  2  1  \n",
      "      32 31 30 29 28 27 26 25 24 23 22 21 20 19 18 17 16 15 14 13 12 11 10 9  8  7  6  5  4  3  2  1  \n",
      "   33 32 31 30 29 28 27 26 25 24 23 22 21 20 19 18 17 16 15 14 13 12 11 10 9  8  7  6  5  4  3  2  1  \n",
      "34 33 32 31 30 29 28 27 26 25 24 23 22 21 20 19 18 17 16 15 14 13 12 11 10 9  8  7  6  5  4  3  2  1  \n"
     ]
    }
   ],
   "source": [
    "def displayPattern(n):\n",
    "    for i in range(1, n + 1):\n",
    "        for j in range(n, 0, -1):\n",
    "            if j > i:\n",
    "                print(f'{\"\":<2}', end = \" \")\n",
    "            else:\n",
    "                print(f'{j:<2}', end = \" \")\n",
    "        print()    \n",
    "    \n",
    "def main():\n",
    "    number = eval(input('Enter a number: '))\n",
    "    displayPattern(number)\n",
    "    \n",
    "main()"
   ]
  },
  {
   "cell_type": "markdown",
   "metadata": {},
   "source": [
    "<img src=\"imagenes/capitulo_06/6.7.png\">"
   ]
  },
  {
   "cell_type": "code",
   "execution_count": 99,
   "metadata": {},
   "outputs": [
    {
     "name": "stdout",
     "output_type": "stream",
     "text": [
      "Years    Future Value\n",
      "1           1093.81\n",
      "2           1196.41\n",
      "3           1308.65\n",
      "4           1431.41\n",
      "5           1565.68\n",
      "6           1712.55\n",
      "7           1873.20\n",
      "8           2048.92\n",
      "9           2241.12\n",
      "10          2451.36\n",
      "11          2681.31\n",
      "12          2932.84\n",
      "13          3207.96\n",
      "14          3508.89\n",
      "15          3838.04\n",
      "16          4198.08\n",
      "17          4591.89\n",
      "18          5022.64\n",
      "19          5493.80\n",
      "20          6009.15\n",
      "21          6572.85\n",
      "22          7189.43\n",
      "23          7863.85\n",
      "24          8601.53\n",
      "25          9408.41\n",
      "26         10290.99\n",
      "27         11256.35\n",
      "28         12312.28\n",
      "29         13467.25\n",
      "30         14730.58\n"
     ]
    }
   ],
   "source": [
    "def futureInvestmentValue(investmentAmount, monthlyInterestRate, years):\n",
    "    numberOfMonths = years * 12\n",
    "    return investmentAmount * (1 + monthlyInterestRate) ** numberOfMonths\n",
    "\n",
    "def main():\n",
    "    investmentAmount =  1000\n",
    "    annualInterestRate = 9\n",
    "    monthlyInterestRate = (annualInterestRate / 100) / 12\n",
    "    print(f'{\"Years\":8} {\"Future Value\":10}')\n",
    "    for i in range(30):\n",
    "      print(f'{i + 1:<8} {futureInvestmentValue(investmentAmount, monthlyInterestRate, i + 1):>10.2f}')  \n",
    "    \n",
    "main()"
   ]
  },
  {
   "cell_type": "markdown",
   "metadata": {},
   "source": [
    "<img src=\"imagenes/capitulo_06/6.8.png\">"
   ]
  },
  {
   "cell_type": "code",
   "execution_count": 130,
   "metadata": {},
   "outputs": [
    {
     "name": "stdout",
     "output_type": "stream",
     "text": [
      "\u001b[1mCelsius    Fahrenheit   |   Fahrenheit   Celsius    \u001b[0;0m\n",
      "40.0       104.0        |   120.0        48.89      \n",
      "39.0       102.2        |   110.0        43.33      \n",
      "38.0       100.4        |   100.0        37.78      \n",
      "37.0       98.6         |   90.0         32.22      \n",
      "36.0       96.8         |   80.0         26.67      \n",
      "35.0       95.0         |   70.0         21.11      \n",
      "34.0       93.2         |   60.0         15.56      \n",
      "33.0       91.4         |   50.0         10.00      \n",
      "32.0       89.6         |   40.0         4.44       \n",
      "31.0       87.8         |   30.0         -1.11      \n"
     ]
    }
   ],
   "source": [
    "# Converts from Celsius to Fahrenheit\n",
    "def celsiusToFahrenheit(celsius):\n",
    "    return (9 / 5) * celsius + 32\n",
    "\n",
    "# Converts from Fahrenheit to Celsius\n",
    "def fahrenheitToCelsius(fahrenheit):\n",
    "    return (5 / 9) * (fahrenheit - 32)\n",
    "\n",
    "def main():\n",
    "    bStart = \"\\033[1m\"\n",
    "    bEnd = \"\\033[0;0m\" \n",
    "    print(f'{bStart}{\"Celsius\":10} {\"Fahrenheit\":10} {\"|\":^5} {\"Fahrenheit\":12} {\"Celsius\":10} {bEnd}')\n",
    "    for i in range(10):\n",
    "        print(f'{40 - i:<10.1f} {celsiusToFahrenheit(40 - i):<10.1f} {\"|\":^5} {120 - 10 * i:<12.1f} {fahrenheitToCelsius(120 - 10 * i):<10.2f} ')\n",
    "    \n",
    "main()"
   ]
  },
  {
   "cell_type": "markdown",
   "metadata": {},
   "source": [
    "<img src=\"imagenes/capitulo_06/6.9.png\">"
   ]
  },
  {
   "cell_type": "code",
   "execution_count": 138,
   "metadata": {},
   "outputs": [
    {
     "name": "stdout",
     "output_type": "stream",
     "text": [
      "\u001b[1mFeet       Meters       |   Meters       Feet       \u001b[0;0m\n",
      "1.0        0.305        |   20.0         65.574     \n",
      "2.0        0.610        |   26.0         85.246     \n",
      "3.0        0.915        |   32.0         104.918    \n",
      "4.0        1.220        |   38.0         124.590    \n",
      "5.0        1.525        |   44.0         144.262    \n",
      "6.0        1.830        |   50.0         163.934    \n",
      "7.0        2.135        |   56.0         183.607    \n",
      "8.0        2.440        |   62.0         203.279    \n",
      "9.0        2.745        |   68.0         222.951    \n",
      "10.0       3.050        |   74.0         242.623    \n"
     ]
    }
   ],
   "source": [
    "# Converts from feet to meters\n",
    "def footToMeter(foot):\n",
    "    return 0.305 * foot\n",
    "\n",
    "# Converts from meters to feet\n",
    "def meterToFoot(meter):\n",
    "    return meter / 0.305\n",
    "\n",
    "def main():\n",
    "    bStart = \"\\033[1m\"\n",
    "    bEnd = \"\\033[0;0m\" \n",
    "    print(f'{bStart}{\"Feet\":10} {\"Meters\":10} {\"|\":^5} {\"Meters\":12} {\"Feet\":10} {bEnd}')\n",
    "    for i in range(10):\n",
    "        print(f'{i + 1:<10.1f} {footToMeter(i + 1):<10.3f} {\"|\":^5} {20 + 6 * i:<12.1f} {meterToFoot(20 + 6 * i):<10.3f} ')\n",
    "    \n",
    "main()"
   ]
  },
  {
   "cell_type": "markdown",
   "metadata": {},
   "source": [
    "<img src=\"imagenes/capitulo_06/6.10.png\">"
   ]
  },
  {
   "cell_type": "code",
   "execution_count": 33,
   "metadata": {},
   "outputs": [
    {
     "name": "stdout",
     "output_type": "stream",
     "text": [
      "The number of prime numbers less than 10000 are 1229\n"
     ]
    }
   ],
   "source": [
    "# Check whether number is prime\n",
    "def isPrime(number):\n",
    "    divisor = 2\n",
    "    while divisor <= number / 2:\n",
    "        if number % divisor == 0:\n",
    "            # If true, number is not prime\n",
    "            return False # number is not a prime\n",
    "        divisor += 1\n",
    "    return True # number is prime\n",
    "\n",
    "def searchPrimeNumbers(limit):\n",
    "    count = 0\n",
    "    number = 2\n",
    "    while number < limit:\n",
    "        if isPrime(number) == True:\n",
    "            #print(f'{number} is prime')\n",
    "            count += 1\n",
    "        number += 1\n",
    "    return count   \n",
    "        \n",
    "def main():\n",
    "    limit = 10000\n",
    "    print(f'The number of prime numbers less than {limit} are {searchPrimeNumbers(limit)}')\n",
    "    \n",
    "main()"
   ]
  },
  {
   "cell_type": "markdown",
   "metadata": {},
   "source": [
    "<img src=\"imagenes/capitulo_06/6.11.png\">"
   ]
  },
  {
   "cell_type": "code",
   "execution_count": 53,
   "metadata": {},
   "outputs": [
    {
     "name": "stdout",
     "output_type": "stream",
     "text": [
      "Sales Amount    Commission\n",
      "\n",
      "10000             900.0   \n",
      "15000             1500.0  \n",
      "20000             2100.0  \n",
      "25000             2700.0  \n",
      "30000             3300.0  \n",
      "35000             3900.0  \n",
      "40000             4500.0  \n",
      "45000             5100.0  \n",
      "50000             5700.0  \n",
      "55000             6300.0  \n",
      "60000             6900.0  \n",
      "65000             7500.0  \n",
      "70000             8100.0  \n",
      "75000             8700.0  \n",
      "80000             9300.0  \n",
      "85000             9900.0  \n",
      "90000            10500.0  \n",
      "95000            11100.0  \n",
      "100000           11700.0  \n"
     ]
    }
   ],
   "source": [
    "def computeCommision(salesAmount):\n",
    "    commision = 0\n",
    "    if salesAmount > 10000:\n",
    "        commision = (5000 * 0.08) + (5000 * 0.1) + (salesAmount - 10000) * 0.12\n",
    "    elif salesAmount > 5000:\n",
    "        commision = (5000 * 0.08) + (salesAmount - 5000) * 0.1\n",
    "    else:\n",
    "        commision = salesAmount * 0.08\n",
    "    return commision\n",
    "\n",
    "def main():\n",
    "    print(f'{\"Sales Amount\":<15} {\"Commission\":>10}')\n",
    "    print()\n",
    "    for i in range(10000, 100001, 5000):\n",
    "        print(f'{i:<15} {computeCommision(i):^10}')\n",
    "    \n",
    "main()"
   ]
  },
  {
   "cell_type": "markdown",
   "metadata": {},
   "source": [
    "<img src=\"imagenes/capitulo_06/6.12.png\">"
   ]
  },
  {
   "cell_type": "code",
   "execution_count": 70,
   "metadata": {},
   "outputs": [
    {
     "name": "stdout",
     "output_type": "stream",
     "text": [
      "1 2 3 4 5 6 7 8 9 : \n",
      "; < = > ? @ A B C D \n",
      "E F G H I J K L M N \n",
      "O P Q R S T U V W X \n",
      "Y Z [ \\ ] ^ _ ` a b \n",
      "c d e f g h i j k l \n",
      "m n o p q r s t u v \n",
      "w x y z "
     ]
    }
   ],
   "source": [
    "def printChars(ch1, ch2, numberPerLine):\n",
    "    count = 1\n",
    "    for i in range(ord(ch1), ord(ch2) + 1):\n",
    "        print(f'{chr(i)}', end = \" \")\n",
    "        if count % numberPerLine == 0:\n",
    "            print()\n",
    "        count += 1\n",
    "        \n",
    "def main():\n",
    "    printChars('1', 'z', 10)\n",
    "    \n",
    "main()"
   ]
  },
  {
   "cell_type": "markdown",
   "metadata": {},
   "source": [
    "<img src=\"imagenes/capitulo_06/6.13.png\">"
   ]
  },
  {
   "cell_type": "code",
   "execution_count": 97,
   "metadata": {},
   "outputs": [
    {
     "name": "stdout",
     "output_type": "stream",
     "text": [
      "i             m(i)   \n",
      "\n",
      "1            0.5000  \n",
      "2            1.1667  \n",
      "3            1.9167  \n",
      "4            2.7167  \n",
      "5            3.5500  \n",
      "6            4.4071  \n",
      "7            5.2821  \n",
      "8            6.1710  \n",
      "9            7.0710  \n",
      "10           7.9801  \n",
      "11           8.8968  \n",
      "12           9.8199  \n",
      "13          10.7484  \n",
      "14          11.6818  \n",
      "15          12.6193  \n",
      "16          13.5604  \n",
      "17          14.5049  \n",
      "18          15.4523  \n",
      "19          16.4023  \n",
      "20          17.3546  \n"
     ]
    }
   ],
   "source": [
    "def sumSeries(i):\n",
    "    sum = 0\n",
    "    for j in range(1, i + 1):\n",
    "        sum += j / (j + 1)\n",
    "    return sum\n",
    "\n",
    "def main():\n",
    "    print(f'{\"i\":<10} {\"m(i)\":^10}')\n",
    "    print()\n",
    "    for i in range(20):\n",
    "        print(f'{i + 1:<10} {sumSeries(i + 1):^10.4f}')\n",
    "main()"
   ]
  },
  {
   "cell_type": "markdown",
   "metadata": {},
   "source": [
    "<img src=\"imagenes/capitulo_06/6.14.png\">"
   ]
  },
  {
   "cell_type": "code",
   "execution_count": 110,
   "metadata": {},
   "outputs": [
    {
     "name": "stdout",
     "output_type": "stream",
     "text": [
      "i             m(i)   \n",
      "\n",
      "1            4.0000  \n",
      "101          3.1515  \n",
      "201          3.1466  \n",
      "301          3.1449  \n",
      "401          3.1441  \n",
      "501          3.1436  \n",
      "601          3.1433  \n",
      "701          3.1430  \n",
      "801          3.1428  \n",
      "901          3.1427  \n"
     ]
    }
   ],
   "source": [
    "def sumSeries(i):\n",
    "    sum = 0\n",
    "    for j in range(1, i + 1):\n",
    "        sum += ((-1) ** (j + 1)) / (2 * j - 1)\n",
    "    return 4 * sum\n",
    "\n",
    "def main():\n",
    "    print(f'{\"i\":<10} {\"m(i)\":^10}')\n",
    "    print()\n",
    "    print(f'{1:<10} {sumSeries(1):^10.4f}')\n",
    "    for i in range(101, 902, 100):\n",
    "        print(f'{i:<10} {sumSeries(i):^10.4f}')\n",
    "main()"
   ]
  },
  {
   "cell_type": "markdown",
   "metadata": {},
   "source": [
    "<img src=\"imagenes/capitulo_06/6.15.png\">"
   ]
  },
  {
   "cell_type": "code",
   "execution_count": 120,
   "metadata": {},
   "outputs": [
    {
     "name": "stdout",
     "output_type": "stream",
     "text": [
      "\u001b[1mTaxable      Single       Married      Married      Head of     \u001b[0m\n",
      "\u001b[1mIncome                    Joint        Separate     a House     \u001b[0m\n",
      "\n",
      "50000        8688         6665         8688         7352        \n",
      "50050        8700         6672         8700         7365        \n",
      "50100        8712         6680         8712         7378        \n",
      "50150        8725         6688         8725         7390        \n",
      "50200        8738         6695         8738         7402        \n",
      "50250        8750         6702         8750         7415        \n",
      "50300        8762         6710         8762         7428        \n",
      "50350        8775         6718         8775         7440        \n",
      "50400        8788         6725         8788         7452        \n",
      "50450        8800         6732         8800         7465        \n",
      "50500        8812         6740         8812         7478        \n",
      "50550        8825         6748         8825         7490        \n",
      "50600        8838         6755         8838         7502        \n",
      "50650        8850         6762         8850         7515        \n",
      "50700        8862         6770         8862         7528        \n",
      "50750        8875         6778         8875         7540        \n",
      "50800        8888         6785         8888         7552        \n",
      "50850        8900         6792         8900         7565        \n",
      "50900        8912         6800         8912         7578        \n",
      "50950        8925         6808         8925         7590        \n",
      "51000        8938         6815         8938         7602        \n",
      "51050        8950         6822         8950         7615        \n",
      "51100        8962         6830         8962         7628        \n",
      "51150        8975         6838         8975         7640        \n",
      "51200        8988         6845         8988         7652        \n",
      "51250        9000         6852         9000         7665        \n",
      "51300        9012         6860         9012         7678        \n",
      "51350        9025         6868         9025         7690        \n",
      "51400        9038         6875         9038         7702        \n",
      "51450        9050         6882         9050         7715        \n",
      "51500        9062         6890         9062         7728        \n",
      "51550        9075         6898         9075         7740        \n",
      "51600        9088         6905         9088         7752        \n",
      "51650        9100         6912         9100         7765        \n",
      "51700        9112         6920         9112         7778        \n",
      "51750        9125         6928         9125         7790        \n",
      "51800        9138         6935         9138         7802        \n",
      "51850        9150         6942         9150         7815        \n",
      "51900        9162         6950         9162         7828        \n",
      "51950        9175         6958         9175         7840        \n",
      "52000        9188         6965         9188         7852        \n",
      "52050        9200         6972         9200         7865        \n",
      "52100        9212         6980         9212         7878        \n",
      "52150        9225         6988         9225         7890        \n",
      "52200        9238         6995         9238         7902        \n",
      "52250        9250         7002         9250         7915        \n",
      "52300        9262         7010         9262         7928        \n",
      "52350        9275         7018         9275         7940        \n",
      "52400        9288         7025         9288         7952        \n",
      "52450        9300         7032         9300         7965        \n",
      "52500        9312         7040         9312         7978        \n",
      "52550        9325         7048         9325         7990        \n",
      "52600        9338         7055         9338         8002        \n",
      "52650        9350         7062         9350         8015        \n",
      "52700        9362         7070         9362         8028        \n",
      "52750        9375         7078         9375         8040        \n",
      "52800        9388         7085         9388         8052        \n",
      "52850        9400         7092         9400         8065        \n",
      "52900        9412         7100         9412         8078        \n",
      "52950        9425         7108         9425         8090        \n",
      "53000        9438         7115         9438         8102        \n",
      "53050        9450         7122         9450         8115        \n",
      "53100        9462         7130         9462         8128        \n",
      "53150        9475         7138         9475         8140        \n",
      "53200        9488         7145         9488         8152        \n",
      "53250        9500         7152         9500         8165        \n",
      "53300        9512         7160         9512         8178        \n",
      "53350        9525         7168         9525         8190        \n",
      "53400        9538         7175         9538         8202        \n",
      "53450        9550         7182         9550         8215        \n",
      "53500        9562         7190         9562         8228        \n",
      "53550        9575         7198         9575         8240        \n",
      "53600        9588         7205         9588         8252        \n",
      "53650        9600         7212         9600         8265        \n",
      "53700        9612         7220         9612         8278        \n",
      "53750        9625         7228         9625         8290        \n",
      "53800        9638         7235         9638         8302        \n",
      "53850        9650         7242         9650         8315        \n",
      "53900        9662         7250         9662         8328        \n",
      "53950        9675         7258         9675         8340        \n",
      "54000        9688         7265         9688         8352        \n",
      "54050        9700         7272         9700         8365        \n",
      "54100        9712         7280         9712         8378        \n",
      "54150        9725         7288         9725         8390        \n",
      "54200        9738         7295         9738         8402        \n",
      "54250        9750         7302         9750         8415        \n",
      "54300        9762         7310         9762         8428        \n",
      "54350        9775         7318         9775         8440        \n",
      "54400        9788         7325         9788         8452        \n",
      "54450        9800         7332         9800         8465        \n",
      "54500        9812         7340         9812         8478        \n",
      "54550        9825         7348         9825         8490        \n",
      "54600        9838         7355         9838         8502        \n",
      "54650        9850         7362         9850         8515        \n",
      "54700        9862         7370         9862         8528        \n",
      "54750        9875         7378         9875         8540        \n",
      "54800        9888         7385         9888         8552        \n",
      "54850        9900         7392         9900         8565        \n",
      "54900        9912         7400         9912         8578        \n",
      "54950        9925         7408         9925         8590        \n",
      "55000        9938         7415         9938         8602        \n",
      "55050        9950         7422         9950         8615        \n",
      "55100        9962         7430         9962         8628        \n",
      "55150        9975         7438         9975         8640        \n",
      "55200        9988         7445         9988         8652        \n",
      "55250        10000        7452         10000        8665        \n",
      "55300        10012        7460         10012        8678        \n",
      "55350        10025        7468         10025        8690        \n",
      "55400        10038        7475         10038        8702        \n",
      "55450        10050        7482         10050        8715        \n",
      "55500        10062        7490         10062        8728        \n",
      "55550        10075        7498         10075        8740        \n",
      "55600        10088        7505         10088        8752        \n",
      "55650        10100        7512         10100        8765        \n",
      "55700        10112        7520         10112        8778        \n",
      "55750        10125        7528         10125        8790        \n",
      "55800        10138        7535         10138        8802        \n",
      "55850        10150        7542         10150        8815        \n",
      "55900        10162        7550         10162        8828        \n",
      "55950        10175        7558         10175        8840        \n",
      "56000        10188        7565         10188        8852        \n",
      "56050        10200        7572         10200        8865        \n",
      "56100        10212        7580         10212        8878        \n",
      "56150        10225        7588         10225        8890        \n",
      "56200        10238        7595         10238        8902        \n",
      "56250        10250        7602         10250        8915        \n",
      "56300        10262        7610         10262        8928        \n",
      "56350        10275        7618         10275        8940        \n",
      "56400        10288        7625         10288        8952        \n",
      "56450        10300        7632         10300        8965        \n",
      "56500        10312        7640         10312        8978        \n",
      "56550        10325        7648         10325        8990        \n",
      "56600        10338        7655         10338        9002        \n",
      "56650        10350        7662         10350        9015        \n",
      "56700        10362        7670         10362        9028        \n",
      "56750        10375        7678         10375        9040        \n",
      "56800        10388        7685         10388        9052        \n",
      "56850        10400        7692         10400        9065        \n",
      "56900        10412        7700         10412        9078        \n",
      "56950        10425        7708         10425        9090        \n",
      "57000        10438        7715         10438        9102        \n",
      "57050        10450        7722         10450        9115        \n",
      "57100        10462        7730         10462        9128        \n",
      "57150        10475        7738         10475        9140        \n",
      "57200        10488        7745         10488        9152        \n",
      "57250        10500        7752         10500        9165        \n",
      "57300        10512        7760         10512        9178        \n",
      "57350        10525        7768         10525        9190        \n",
      "57400        10538        7775         10538        9202        \n",
      "57450        10550        7782         10550        9215        \n",
      "57500        10562        7790         10562        9228        \n",
      "57550        10575        7798         10575        9240        \n",
      "57600        10588        7805         10588        9252        \n",
      "57650        10600        7812         10600        9265        \n",
      "57700        10612        7820         10612        9278        \n",
      "57750        10625        7828         10625        9290        \n",
      "57800        10638        7835         10638        9302        \n",
      "57850        10650        7842         10650        9315        \n",
      "57900        10662        7850         10662        9328        \n",
      "57950        10675        7858         10675        9340        \n",
      "58000        10688        7865         10688        9352        \n",
      "58050        10700        7872         10700        9365        \n",
      "58100        10712        7880         10712        9378        \n",
      "58150        10725        7888         10725        9390        \n",
      "58200        10738        7895         10738        9402        \n",
      "58250        10750        7902         10750        9415        \n",
      "58300        10762        7910         10762        9428        \n",
      "58350        10775        7918         10775        9440        \n",
      "58400        10788        7925         10788        9452        \n",
      "58450        10800        7932         10800        9465        \n",
      "58500        10812        7940         10812        9478        \n",
      "58550        10825        7948         10825        9490        \n",
      "58600        10838        7955         10838        9502        \n",
      "58650        10850        7962         10850        9515        \n",
      "58700        10862        7970         10862        9528        \n",
      "58750        10875        7978         10875        9540        \n",
      "58800        10888        7985         10888        9552        \n",
      "58850        10900        7992         10900        9565        \n",
      "58900        10912        8000         10912        9578        \n",
      "58950        10925        8008         10925        9590        \n",
      "59000        10938        8015         10938        9602        \n",
      "59050        10950        8022         10950        9615        \n",
      "59100        10962        8030         10962        9628        \n",
      "59150        10975        8038         10975        9640        \n",
      "59200        10988        8045         10988        9652        \n",
      "59250        11000        8052         11000        9665        \n",
      "59300        11012        8060         11012        9678        \n",
      "59350        11025        8068         11025        9690        \n",
      "59400        11038        8075         11038        9702        \n",
      "59450        11050        8082         11050        9715        \n",
      "59500        11062        8090         11062        9728        \n",
      "59550        11075        8098         11075        9740        \n",
      "59600        11088        8105         11088        9752        \n",
      "59650        11100        8112         11100        9765        \n",
      "59700        11112        8120         11112        9778        \n",
      "59750        11125        8128         11125        9790        \n",
      "59800        11138        8135         11138        9802        \n",
      "59850        11150        8142         11150        9815        \n",
      "59900        11162        8150         11162        9828        \n",
      "59950        11175        8158         11175        9840        \n",
      "60000        11188        8165         11188        9852        \n"
     ]
    }
   ],
   "source": [
    "def computeTax(status, taxableIncome):\n",
    "    import sys\n",
    "    # Compute tax\n",
    "    tax = 0\n",
    "    if status == 0: # Compute tax for single filers\n",
    "        if taxableIncome <= 8350:\n",
    "            tax = taxableIncome * 0.10\n",
    "        elif taxableIncome <= 33950:\n",
    "            tax = 8350 * 0.10 + (taxableIncome - 8350) * 0.15\n",
    "        elif taxableIncome <= 82250:\n",
    "            tax = 8350 * 0.10 + (33950 - 8350) * 0.15 + (taxableIncome - 33950) * 0.25\n",
    "        elif taxableIncome <= 171550:\n",
    "            tax = 8350 * 0.10 + (33950 - 8350) * 0.15 + (82250 - 33950) * 0.25 + \\\n",
    "            (taxableIncome - 82250) * 0.28\n",
    "        elif taxableIncome <= 372950:\n",
    "            tax = 8350 * 0.10 + (33950 - 8350) * 0.15 + (82250 - 33950) * 0.25 + \\\n",
    "            (171550 - 82250) * 0.28 + (taxableIncome - 171550) * 0.33\n",
    "        else:\n",
    "            tax = 8350 * 0.10 + (33950 - 8350) * 0.15 + (82250 - 33950) * 0.25 + \\\n",
    "            (171550 - 82250) * 0.28 + (372950 - 171550) * 0.33 + (taxableIncome - 372950) * 0.35\n",
    "    elif status == 1: # Compute tax for married file jointly\n",
    "        if taxableIncome <= 16700:\n",
    "            tax = taxableIncome * 0.10\n",
    "        elif taxableIncome <= 67900:\n",
    "            tax = 16700 * 0.10 + (taxableIncome - 16700) * 0.15\n",
    "        elif taxableIncome <= 137050:\n",
    "            tax = 16700 * 0.10 + (67900 - 16700) * 0.15 + (taxableIncome - 67900) * 0.25\n",
    "        elif taxableIncome <= 208850:\n",
    "            tax = 16700 * 0.10 + (67900 - 16700) * 0.15 + (137050 - 67900) * 0.25 + \\\n",
    "            (taxableIncome - 137050) * 0.28\n",
    "        elif taxableIncome <= 372950:\n",
    "            tax = 16700 * 0.10 + (67900 - 16700) * 0.15 + (137050 - 67900) * 0.25 + \\\n",
    "            (208850 - 137050) * 0.28 + (taxableIncome - 208850) * 0.33\n",
    "        else:\n",
    "            tax = 16700 * 0.10 + (67900 - 16700) * 0.15 + (137050 - 67900) * 0.25 + \\\n",
    "            (208850 - 137050) * 0.28 + (372950 - 208850) * 0.33 + (taxableIncome - 372950) * 0.35\n",
    "    elif status == 2: # Compute tax for married separately\n",
    "        if taxableIncome <= 8350:\n",
    "            tax = taxableIncome * 0.10\n",
    "        elif taxableIncome <= 33950:\n",
    "            tax = 8350 * 0.10 + (taxableIncome - 8350) * 0.15\n",
    "        elif taxableIncome <= 68525:\n",
    "            tax = 8350 * 0.10 + (33950 - 8350) * 0.15 + (taxableIncome - 33950) * 0.25\n",
    "        elif taxableIncome <= 104425:\n",
    "            tax = 8350 * 0.10 + (33950 - 8350) * 0.15 + (68525 - 33950) * 0.25 + \\\n",
    "            (taxableIncome - 68525) * 0.28\n",
    "        elif taxableIncome <= 186475:\n",
    "            tax = 8350 * 0.10 + (33950 - 8350) * 0.15 + (68525 - 33950) * 0.25 + \\\n",
    "            (104425 - 68525) * 0.28 + (taxableIncome - 104425) * 0.33\n",
    "        else:\n",
    "            tax = 8350 * 0.10 + (33950 - 8350) * 0.15 + (68525 - 33950) * 0.25 + \\\n",
    "            (104425 - 68525) * 0.28 + (186475 - 104425) * 0.33 + (taxableIncome - 186475) * 0.35\n",
    "    elif status == 3: # Compute tax for head of household\n",
    "        if taxableIncome <= 11950:\n",
    "            tax = taxableIncome * 0.10\n",
    "        elif taxableIncome <= 45500:\n",
    "            tax = 11950 * 0.10 + (taxableIncome - 11950) * 0.15\n",
    "        elif taxableIncome <= 117450:\n",
    "            tax = 11950 * 0.10 + (45500 - 11950) * 0.15 + (taxableIncome - 45500) * 0.25\n",
    "        elif taxableIncome <= 190200:\n",
    "            tax = 11950 * 0.10 + (45500 - 11950) * 0.15 + (117450 - 45500) * 0.25 + \\\n",
    "            (taxableIncome - 117450) * 0.28\n",
    "        elif taxableIncome <= 372950:\n",
    "            tax = 11950 * 0.10 + (45500 - 11950) * 0.15 + (117450 - 45500) * 0.25 + \\\n",
    "            (190200 - 117450) * 0.28 + (taxableIncome - 190200) * 0.33\n",
    "        else:\n",
    "            tax = 11950 * 0.10 + (45500 - 11950) * 0.15 + (117450 - 45500) * 0.25 + \\\n",
    "            (190200 - 117450) * 0.28 + (372950 - 190200) * 0.33 + (taxableIncome - 372950) * 0.35\n",
    "    else:\n",
    "        return \"Error\"\n",
    "\n",
    "    # Display the result\n",
    "    return tax\n",
    "    \n",
    "    \n",
    "def main():\n",
    "    print(f'\\033[1m{\"Taxable\":<12} {\"Single\":<12} {\"Married\":<12} {\"Married\":<12} {\"Head of\":<12}\\033[0m')\n",
    "    print(f'\\033[1m{\"Income\":<12} {\"\":<12} {\"Joint\":<12} {\"Separate\":<12} {\"a House\":<12}\\033[0m')\n",
    "    print()\n",
    "    for i in range(50000, 60001, 50):\n",
    "        print(f'{i:<12} {round(computeTax(0, i)):<12} {round(computeTax(1, i)):<12} {round(computeTax(2, i)):<12} {round(computeTax(3, i)):<12}')\n",
    "    \n",
    "main()    "
   ]
  },
  {
   "cell_type": "markdown",
   "metadata": {},
   "source": [
    "<img src=\"imagenes/capitulo_06/6.16.png\">"
   ]
  },
  {
   "cell_type": "code",
   "execution_count": 125,
   "metadata": {},
   "outputs": [
    {
     "name": "stdout",
     "output_type": "stream",
     "text": [
      "2010 total days 365\n",
      "2011 total days 365\n",
      "2012 total days 366\n",
      "2013 total days 365\n",
      "2014 total days 365\n",
      "2015 total days 365\n",
      "2016 total days 366\n",
      "2017 total days 365\n",
      "2018 total days 365\n",
      "2019 total days 365\n",
      "2020 total days 366\n"
     ]
    }
   ],
   "source": [
    "# Determine if it is a leap year\n",
    "def isLeapYear(year):\n",
    "    return year % 400 == 0 or (year % 4 == 0 and year % 100 != 0)\n",
    "\n",
    "\n",
    "# Get the number of days in a month\n",
    "def getNumberOfDaysInMonth(year, month):\n",
    "    if (month == 1 or month == 3 or month == 5 or month == 7 or\n",
    "        month == 8 or month == 10 or month == 12):\n",
    "        return 31\n",
    "    if month == 4 or month == 6 or month == 9 or month == 11:\n",
    "        return 30\n",
    "    if month == 2:\n",
    "        return 29 if isLeapYear(year) else 28\n",
    "    return 0 # If month is incorrect\n",
    "\n",
    "def getNumberOfDaysInYear(year):\n",
    "    days = 0\n",
    "    for i in range(12):\n",
    "        days += getNumberOfDaysInMonth(year, i + 1)\n",
    "    return days\n",
    "\n",
    "def main():\n",
    "    for year in range(2010, 2021):\n",
    "        print(f'{year} total days {getNumberOfDaysInYear(year)}')\n",
    "    \n",
    "main()    "
   ]
  },
  {
   "cell_type": "markdown",
   "metadata": {},
   "source": [
    "<img src=\"imagenes/capitulo_06/6.17.png\">"
   ]
  },
  {
   "cell_type": "code",
   "execution_count": 128,
   "metadata": {},
   "outputs": [
    {
     "name": "stdout",
     "output_type": "stream",
     "text": [
      "The area of the triangle is 0.4330127018922193\n"
     ]
    }
   ],
   "source": [
    "# Returns true if the sum of any two sides is\n",
    "# greater than the third side.\n",
    "def isValid(side1, side2, side3):\n",
    "    if (side1 + side2 > side3) and (side2 + side3 > side1) and (side1 + side3 > side2):\n",
    "        return True\n",
    "    else:\n",
    "        return False\n",
    "    \n",
    "# Returns the area of the triangle.\n",
    "def area(side1, side2, side3):\n",
    "    s = (side1 + side2 + side3) / 2\n",
    "    return (s * (s - side1) * (s - side2) * (s - side3)) ** 0.5\n",
    "\n",
    "def main():\n",
    "    a,b,c = 1, 1, 1\n",
    "    if isValid(a, b, c):\n",
    "        print(f'The area of the triangle is {area(a, b, c)}')\n",
    "    else:\n",
    "        print('Input is invalid')\n",
    "    \n",
    "main()"
   ]
  },
  {
   "cell_type": "markdown",
   "metadata": {},
   "source": [
    "<img src=\"imagenes/capitulo_06/6.18.png\">"
   ]
  },
  {
   "cell_type": "code",
   "execution_count": 134,
   "metadata": {},
   "outputs": [
    {
     "name": "stdout",
     "output_type": "stream",
     "text": [
      "Enter n: 3\n",
      "0 0 0 \n",
      "1 1 1 \n",
      "1 1 1 \n"
     ]
    }
   ],
   "source": [
    "import random\n",
    "\n",
    "def printMatrix(n):\n",
    "    for i in range(n):\n",
    "        for j in range(n):\n",
    "            value = random.randint(0,1)\n",
    "            print(f'{value}', end = \" \")\n",
    "        print()\n",
    "        \n",
    "def main():\n",
    "    size = eval(input('Enter n: '))\n",
    "    printMatrix(size)\n",
    "    \n",
    "main()    "
   ]
  },
  {
   "cell_type": "markdown",
   "metadata": {},
   "source": [
    "<img src=\"imagenes/capitulo_06/6.19.png\">"
   ]
  },
  {
   "cell_type": "code",
   "execution_count": null,
   "metadata": {},
   "outputs": [],
   "source": [
    "#Incompleto Trabajar en el algoritmo\n",
    "def leftOfTheLine(x0, y0, x1, y1, x2, y2):\n",
    "    result = (x1 - x0) * (y2 - y0) - (x2 - x0) * (y1 - y0)\n",
    "    if result > 0:\n",
    "        return True\n",
    "    else:\n",
    "        return False\n",
    "def onTheSameLine(x0, y0, x1, y1, x2, y2):\n",
    "    result = (x1 - x0) * (y2 - y0) - (x2 - x0) * (y1 - y0)\n",
    "    if result = 0:\n",
    "        return True\n",
    "    else:\n",
    "        return False    \n",
    "def lefOfTheLine(x0, y0, x1, y1, x2, y2):    \n",
    "    result = (x1 - x0) * (y2 - y0) - (x2 - x0) * (y1 - y0)\n",
    "    if result = 0:\n",
    "        return True\n",
    "    else:\n",
    "        return False    \n",
    "    \n",
    "def main():\n",
    "    x0, y0, x1, y1, x2, y2 = 3.4, 2, 6.5, 9.5, -5, 4\n",
    "    \n",
    "    if leftOfTheLine(x0, y0, x1, y1, x2, y2):\n",
    "        print('p2 is on the left side of the line from p0 to p1')\n",
    "    elif onTheSameLine(x0, y0, x1, y1, x2, y2):\n",
    "        print('p2 is on the same line from p0 to p1')\n",
    "    elif lefOfTheLine(x0, y0, x1, y1, x2, y2):\n",
    "        print(3)\n",
    "    else:\n",
    "        print(4)\n",
    "\n",
    "\n",
    "\n",
    "if result > 0:\n",
    "    print('p2 is on the left side of the line from p0 to p1')\n",
    "elif result < 0:\n",
    "    print('p2 is on the right side of the line from p0 to p1')\n",
    "else:\n",
    "    print('p2 is on the same line from p0 to p1')\n"
   ]
  },
  {
   "cell_type": "markdown",
   "metadata": {},
   "source": [
    "<img src=\"imagenes/capitulo_06/6.20.png\">"
   ]
  },
  {
   "cell_type": "code",
   "execution_count": 136,
   "metadata": {},
   "outputs": [
    {
     "name": "stdout",
     "output_type": "stream",
     "text": [
      "Enter x1 and y1 for Point 1: 1.5, -3.4\n",
      "Enter x2 and y2 for Point 2: 4, 5\n",
      "The distance between the two points is 8.764131445842194\n"
     ]
    }
   ],
   "source": [
    "def distance(x1, y1, x2, y2):\n",
    "    return ((x1 - x2) * (x1 - x2) + (y1 - y2) * (y1 - y2)) ** 0.5\n",
    "\n",
    "def main():\n",
    "    # Enter the first point with two float values\n",
    "    x1, y1 = eval(input(\"Enter x1 and y1 for Point 1: \"))\n",
    "    # Enter the second point with two float values\n",
    "    x2, y2 = eval(input(\"Enter x2 and y2 for Point 2: \"))\n",
    "    print(f'The distance between the two points is {distance(x1, y1, x2, y2)}')\n",
    "    \n",
    "main()"
   ]
  },
  {
   "cell_type": "markdown",
   "metadata": {},
   "source": [
    "<img src=\"imagenes/capitulo_06/6.21.png\">"
   ]
  },
  {
   "cell_type": "code",
   "execution_count": 170,
   "metadata": {},
   "outputs": [
    {
     "name": "stdout",
     "output_type": "stream",
     "text": [
      "1.001\n"
     ]
    }
   ],
   "source": [
    "# Resolver en papel no sale bien la aproximación debe haber algún problema entre lastGuess y nexGuess\n",
    "def sqrt(n):\n",
    "    nextGuess = 1.001\n",
    "    lastGuess = 1\n",
    "    while abs(lastGuess - nextGuess) < 0.0001:\n",
    "        print(f'lastGuess -> {lastGuess}')\n",
    "        nextGuess = (lastGuess + (n / lastGuess)) / 2\n",
    "        lastGuess += 0.1\n",
    "        #print(f'lastGuess - nextGuess -> {lastGuess} - {nextGuess} = {lastGuess - nextGuess}')\n",
    "        print(f'{abs(lastGuess - nextGuess)} < 0.0001 -> {abs(lastGuess - nextGuess) < 0.0001}')\n",
    "        print(nextGuess)\n",
    "    return nextGuess\n",
    "\n",
    "def main():\n",
    "    print(sqrt(4))\n",
    "    \n",
    "main()    "
   ]
  },
  {
   "cell_type": "markdown",
   "metadata": {},
   "source": [
    "<img src=\"imagenes/capitulo_06/6.22.png\">"
   ]
  },
  {
   "cell_type": "code",
   "execution_count": null,
   "metadata": {},
   "outputs": [],
   "source": [
    "# Sin resolver !!!!!!!!!!!!!!!!!!!!!!!!!!!!!!!!!!!!!!!"
   ]
  },
  {
   "cell_type": "markdown",
   "metadata": {},
   "source": [
    "<img src=\"imagenes/capitulo_06/6.23.png\">"
   ]
  },
  {
   "cell_type": "code",
   "execution_count": 33,
   "metadata": {},
   "outputs": [
    {
     "name": "stdout",
     "output_type": "stream",
     "text": [
      "0:0:5\n",
      "0:1:40\n",
      "154:19:10\n"
     ]
    }
   ],
   "source": [
    "def convertMillis(millis):\n",
    "    hours = millis // (60*60*1000)\n",
    "    minutes = millis % (60*60*1000) // (60*1000)\n",
    "    seconds = (millis % (60*60*1000)) % (60*1000) // 1000\n",
    "    print(f'{hours}:{minutes}:{seconds}')\n",
    "\n",
    "def main():\n",
    "    convertMillis(5500)\n",
    "    convertMillis(100000)\n",
    "    convertMillis(555550000)\n",
    "    \n",
    "main()    "
   ]
  },
  {
   "cell_type": "markdown",
   "metadata": {},
   "source": [
    "<img src=\"imagenes/capitulo_06/6.24.png\">"
   ]
  },
  {
   "cell_type": "code",
   "execution_count": 37,
   "metadata": {},
   "outputs": [
    {
     "name": "stdout",
     "output_type": "stream",
     "text": [
      "     2      3      5      7     11    101    131    151    181    191 \n",
      "   313    353    373    383    727    757    787    797    919    929 \n",
      " 10301  10501  10601  11311  11411  12421  12721  12821  13331  13831 \n",
      " 13931  14341  14741  15451  15551  16061  16361  16561  16661  17471 \n",
      " 17971  18181  18481  19391  19891  19991  30103  30203  30403  30703 \n",
      " 30803  31013  31513  32323  32423  33533  34543  34843  35053  35153 \n",
      " 35353  35753  36263  36563  37273  37573  38083  38183  38783  39293 \n",
      " 70207  70507  70607  71317  71917  72227  72727  73037  73237  73637 \n",
      " 74047  74747  75557  76367  76667  77377  77477  77977  78487  78787 \n",
      " 78887  79397  79697  79997  90709  91019  93139  93239  93739  94049 \n"
     ]
    }
   ],
   "source": [
    "# Check whether number is prime\n",
    "def isPrime(number):\n",
    "    divisor = 2\n",
    "    while divisor <= number / 2:\n",
    "        if number % divisor == 0:\n",
    "            # If true, number is not prime\n",
    "            return False # number is not a prime\n",
    "        divisor += 1\n",
    "    return True # number is prime\n",
    "\n",
    "def searchPalindromicPrimeNumbers(limit):\n",
    "    count = 0\n",
    "    number = 2\n",
    "    while count < limit:\n",
    "        if isPrime(number) == True and isPalindrome(number) == True:\n",
    "            print(f'{number:>6}', end = \" \")\n",
    "            count += 1\n",
    "            if count % 10 == 0:\n",
    "                print()\n",
    "        number += 1\n",
    "    return count\n",
    "\n",
    "def reverse(number):\n",
    "    sum = 0\n",
    "    while number != 0:\n",
    "        sum = sum * 10 + number % 10\n",
    "        number = number // 10\n",
    "    return sum\n",
    "\n",
    "def isPalindrome(number):\n",
    "    return number == reverse(number)\n",
    "        \n",
    "def main():\n",
    "    searchPalindromicPrimeNumbers(100)\n",
    "    \n",
    "main()"
   ]
  },
  {
   "cell_type": "markdown",
   "metadata": {},
   "source": [
    "<img src=\"imagenes/capitulo_06/6.25.png\">"
   ]
  },
  {
   "cell_type": "code",
   "execution_count": 49,
   "metadata": {},
   "outputs": [
    {
     "name": "stdout",
     "output_type": "stream",
     "text": [
      "    13     17     31     37     71     73     79     97    107    113 \n",
      "   149    157    167    179    199    311    337    347    359    389 \n",
      "   701    709    733    739    743    751    761    769    907    937 \n",
      "   941    953    967    971    983    991   1009   1021   1031   1033 \n",
      "  1061   1069   1091   1097   1103   1109   1151   1153   1181   1193 \n",
      "  1201   1213   1217   1223   1229   1231   1237   1249   1259   1279 \n",
      "  1283   1301   1321   1381   1399   1409   1429   1439   1453   1471 \n",
      "  1487   1499   1511   1523   1559   1583   1597   1601   1619   1657 \n",
      "  1669   1723   1733   1741   1753   1789   1811   1831   1847   1867 \n",
      "  1879   1901   1913   1933   1949   1979   3011   3019   3023   3049 \n"
     ]
    }
   ],
   "source": [
    "# Check whether number is prime\n",
    "def isPrime(number):\n",
    "    divisor = 2\n",
    "    while divisor <= number / 2:\n",
    "        if number % divisor == 0:\n",
    "            # If true, number is not prime\n",
    "            return False # number is not a prime\n",
    "        divisor += 1\n",
    "    return True # number is prime\n",
    "\n",
    "def searchEmirpsNumbers(limit):\n",
    "    count = 0\n",
    "    number = 2\n",
    "    while count < limit:\n",
    "        if not isPalindrome(number) and isPrime(number) and isPrime(reverse(number)):\n",
    "            print(f'{number:>6}', end = \" \")\n",
    "            count += 1\n",
    "            if count % 10 == 0:\n",
    "                print()\n",
    "        number += 1\n",
    "    return count\n",
    "\n",
    "def reverse(number):\n",
    "    sum = 0\n",
    "    while number != 0:\n",
    "        sum = sum * 10 + number % 10\n",
    "        number = number // 10\n",
    "    return sum\n",
    "\n",
    "def isPalindrome(number):\n",
    "    return number == reverse(number)\n",
    "        \n",
    "def main():\n",
    "    searchEmirpsNumbers(100)\n",
    "    \n",
    "main()"
   ]
  },
  {
   "cell_type": "markdown",
   "metadata": {},
   "source": [
    "<img src=\"imagenes/capitulo_06/6.26.png\">"
   ]
  },
  {
   "cell_type": "code",
   "execution_count": 55,
   "metadata": {},
   "outputs": [
    {
     "name": "stdout",
     "output_type": "stream",
     "text": [
      "p     2^p - 1\n",
      "2        3  \n",
      "3        7  \n",
      "5       31  \n",
      "7       127 \n",
      "13     8191 \n",
      "17     131071\n",
      "19     524287\n",
      "31     2147483647\n"
     ]
    }
   ],
   "source": [
    "def isPrime(number):\n",
    "    divisor = 2\n",
    "    while divisor <= number / 2:\n",
    "        if number % divisor == 0:\n",
    "            # If true, number is not prime\n",
    "            return False # number is not a prime\n",
    "        divisor += 1\n",
    "    return True # number is prime\n",
    "\n",
    "def searchMersennePrimeNumbers(limit):\n",
    "    positiveInteger = 2\n",
    "    print(f'{\"p\":<5} {\"2^p - 1\":^6}')\n",
    "    while positiveInteger <= limit:\n",
    "        number = 2 ** positiveInteger - 1\n",
    "        if isPrime(number):\n",
    "            print(f'{positiveInteger:<6} {number:^5}')\n",
    "        positiveInteger += 1\n",
    "        \n",
    "def main():\n",
    "    searchMersennePrimeNumbers(31)\n",
    "    \n",
    "main()"
   ]
  },
  {
   "cell_type": "markdown",
   "metadata": {},
   "source": [
    "<img src=\"imagenes/capitulo_06/6.27.png\">"
   ]
  },
  {
   "cell_type": "code",
   "execution_count": 57,
   "metadata": {},
   "outputs": [
    {
     "name": "stdout",
     "output_type": "stream",
     "text": [
      "(3, 5)\n",
      "(5, 7)\n",
      "(11, 13)\n",
      "(17, 19)\n",
      "(29, 31)\n",
      "(41, 43)\n",
      "(59, 61)\n",
      "(71, 73)\n",
      "(101, 103)\n",
      "(107, 109)\n",
      "(137, 139)\n",
      "(149, 151)\n",
      "(179, 181)\n",
      "(191, 193)\n",
      "(197, 199)\n",
      "(227, 229)\n",
      "(239, 241)\n",
      "(269, 271)\n",
      "(281, 283)\n",
      "(311, 313)\n",
      "(347, 349)\n",
      "(419, 421)\n",
      "(431, 433)\n",
      "(461, 463)\n",
      "(521, 523)\n",
      "(569, 571)\n",
      "(599, 601)\n",
      "(617, 619)\n",
      "(641, 643)\n",
      "(659, 661)\n",
      "(809, 811)\n",
      "(821, 823)\n",
      "(827, 829)\n",
      "(857, 859)\n",
      "(881, 883)\n"
     ]
    }
   ],
   "source": [
    "def isPrime(number):\n",
    "    divisor = 2\n",
    "    while divisor <= number / 2:\n",
    "        if number % divisor == 0:\n",
    "            # If true, number is not prime\n",
    "            return False # number is not a prime\n",
    "        divisor += 1\n",
    "    return True # number is prime\n",
    "\n",
    "def searchTwinMersennePrimeNumbers(limit):\n",
    "    count = 0\n",
    "    number = 2\n",
    "    while number < limit:\n",
    "        if isPrime(number) and isPrime(number + 2):\n",
    "            print(f'({number}, {number + 2})')\n",
    "            count += 1\n",
    "        number += 1\n",
    "        \n",
    "def main():\n",
    "    searchTwinMersennePrimeNumbers(1000)\n",
    "    \n",
    "main()"
   ]
  },
  {
   "cell_type": "markdown",
   "metadata": {},
   "source": [
    "<img src=\"imagenes/capitulo_06/6.28.png\">"
   ]
  },
  {
   "cell_type": "code",
   "execution_count": 21,
   "metadata": {},
   "outputs": [
    {
     "name": "stdout",
     "output_type": "stream",
     "text": [
      "You rolled 6 + 1 =  7\n",
      "You win\n"
     ]
    }
   ],
   "source": [
    "import random\n",
    "\n",
    "def playCraps():\n",
    "    dice1 = random.randint(1, 6)\n",
    "    dice2 = random.randint(1, 6)\n",
    "\n",
    "    sum = dice1 + dice2\n",
    "\n",
    "    print(f'You rolled {dice1} + {dice2} =  {sum}')\n",
    "\n",
    "    if sum == 2 or sum == 3 or sum == 12:\n",
    "        print(f'You lose')\n",
    "    elif sum == 7 or sum == 11:\n",
    "        print(f'You win')\n",
    "    else:\n",
    "        print(f'point is {sum}')\n",
    "        sumTemp = -1\n",
    "        dice1 = random.randint(1, 6)\n",
    "        dice2 = random.randint(1, 6)\n",
    "        sumTemp = dice1 + dice2\n",
    "        print(f'You rolled {dice1} + {dice2} =  {sumTemp}')\n",
    "        if sumTemp != sum or sumTemp != 7:\n",
    "            print(f'You win')\n",
    "        else:\n",
    "            print(f'you lose')\n",
    "\n",
    "def main():\n",
    "    playCraps()\n",
    "\n",
    "main()    "
   ]
  },
  {
   "cell_type": "markdown",
   "metadata": {},
   "source": [
    "<img src=\"imagenes/capitulo_06/6.29.png\">"
   ]
  },
  {
   "cell_type": "code",
   "execution_count": 67,
   "metadata": {},
   "outputs": [
    {
     "name": "stdout",
     "output_type": "stream",
     "text": [
      "d-> 4\n",
      "None\n"
     ]
    }
   ],
   "source": [
    "# Return true if the card number is valid\n",
    "def isValid(number):\n",
    "    return number % 10 == 0\n",
    "    \n",
    "# Get the result from Step 2\n",
    "def sumOfDoubleEvenPlace(number):\n",
    "    \n",
    "    \n",
    "# Return this number if it is a single digit, otherwise, return\n",
    "# the sum of the two digits\n",
    "def getDigit(number):\n",
    "    if getSize(number) == 1:\n",
    "        return number\n",
    "    else:\n",
    "        return (number // 10) + (number % 10)\n",
    "    \n",
    "# Return sum of odd place digits in number\n",
    "def sumOfOddPlace(number):\n",
    "    print()\n",
    "    \n",
    "# Return true if the digit d is a prefix for number\n",
    "def prefixMatched(number, d):\n",
    "    print()\n",
    "    \n",
    "# Return the number of digits in d\n",
    "def getSize(d):\n",
    "    count = 0\n",
    "    if d == 0:\n",
    "        return 1\n",
    "    while d != 0:\n",
    "        d = d // 10\n",
    "        count += 1\n",
    "    return count\n",
    "\n",
    "# Return the first k number of digits from number. If the\n",
    "# number of digits in number is less than k, return number.\n",
    "def getPrefix(number, k):\n",
    "    print()\n",
    "    \n",
    "def main():\n",
    "    print(sumOfDoubleEvenPlace(1234))\n",
    "    \n",
    "main()    "
   ]
  },
  {
   "cell_type": "markdown",
   "metadata": {},
   "source": [
    "<img src=\"imagenes/capitulo_06/6.30.png\">"
   ]
  },
  {
   "cell_type": "code",
   "execution_count": null,
   "metadata": {},
   "outputs": [],
   "source": []
  },
  {
   "cell_type": "markdown",
   "metadata": {},
   "source": [
    "<img src=\"imagenes/capitulo_06/6.31.png\">"
   ]
  },
  {
   "cell_type": "code",
   "execution_count": null,
   "metadata": {},
   "outputs": [],
   "source": []
  },
  {
   "cell_type": "markdown",
   "metadata": {},
   "source": [
    "<img src=\"imagenes/capitulo_06/6.32.png\">"
   ]
  },
  {
   "cell_type": "code",
   "execution_count": null,
   "metadata": {},
   "outputs": [],
   "source": []
  },
  {
   "cell_type": "markdown",
   "metadata": {},
   "source": [
    "<img src=\"imagenes/capitulo_06/6.33.png\">"
   ]
  },
  {
   "cell_type": "code",
   "execution_count": null,
   "metadata": {},
   "outputs": [],
   "source": []
  },
  {
   "cell_type": "markdown",
   "metadata": {},
   "source": [
    "<img src=\"imagenes/capitulo_06/6.34.png\">"
   ]
  },
  {
   "cell_type": "code",
   "execution_count": null,
   "metadata": {},
   "outputs": [],
   "source": []
  },
  {
   "cell_type": "markdown",
   "metadata": {},
   "source": [
    "<img src=\"imagenes/capitulo_06/6.35.png\">"
   ]
  },
  {
   "cell_type": "code",
   "execution_count": null,
   "metadata": {},
   "outputs": [],
   "source": []
  },
  {
   "cell_type": "markdown",
   "metadata": {},
   "source": [
    "<img src=\"imagenes/capitulo_06/6.36.png\">"
   ]
  },
  {
   "cell_type": "code",
   "execution_count": null,
   "metadata": {},
   "outputs": [],
   "source": []
  },
  {
   "cell_type": "markdown",
   "metadata": {},
   "source": [
    "<img src=\"imagenes/capitulo_06/6.37.png\">"
   ]
  },
  {
   "cell_type": "code",
   "execution_count": null,
   "metadata": {},
   "outputs": [],
   "source": []
  },
  {
   "cell_type": "markdown",
   "metadata": {},
   "source": [
    "<img src=\"imagenes/capitulo_06/6.38.png\">"
   ]
  },
  {
   "cell_type": "code",
   "execution_count": null,
   "metadata": {},
   "outputs": [],
   "source": []
  },
  {
   "cell_type": "markdown",
   "metadata": {},
   "source": [
    "<img src=\"imagenes/capitulo_06/6.39.png\">"
   ]
  },
  {
   "cell_type": "code",
   "execution_count": null,
   "metadata": {},
   "outputs": [],
   "source": []
  },
  {
   "cell_type": "markdown",
   "metadata": {},
   "source": [
    "<img src=\"imagenes/capitulo_06/6.40.png\">"
   ]
  },
  {
   "cell_type": "code",
   "execution_count": null,
   "metadata": {},
   "outputs": [],
   "source": []
  },
  {
   "cell_type": "markdown",
   "metadata": {},
   "source": [
    "<img src=\"imagenes/capitulo_06/6.41.png\">"
   ]
  },
  {
   "cell_type": "code",
   "execution_count": null,
   "metadata": {},
   "outputs": [],
   "source": []
  },
  {
   "cell_type": "markdown",
   "metadata": {},
   "source": [
    "<img src=\"imagenes/capitulo_06/6.42.png\">"
   ]
  },
  {
   "cell_type": "code",
   "execution_count": null,
   "metadata": {},
   "outputs": [],
   "source": []
  },
  {
   "cell_type": "markdown",
   "metadata": {},
   "source": [
    "<img src=\"imagenes/capitulo_06/6.43.png\">"
   ]
  },
  {
   "cell_type": "code",
   "execution_count": null,
   "metadata": {},
   "outputs": [],
   "source": []
  },
  {
   "cell_type": "markdown",
   "metadata": {},
   "source": [
    "<img src=\"imagenes/capitulo_06/6.44.png\">"
   ]
  },
  {
   "cell_type": "code",
   "execution_count": null,
   "metadata": {},
   "outputs": [],
   "source": []
  },
  {
   "cell_type": "markdown",
   "metadata": {},
   "source": [
    "<img src=\"imagenes/capitulo_06/6.45.png\">"
   ]
  },
  {
   "cell_type": "code",
   "execution_count": null,
   "metadata": {},
   "outputs": [],
   "source": []
  },
  {
   "cell_type": "markdown",
   "metadata": {},
   "source": [
    "<img src=\"imagenes/capitulo_06/6.46.png\">"
   ]
  },
  {
   "cell_type": "code",
   "execution_count": null,
   "metadata": {},
   "outputs": [],
   "source": []
  },
  {
   "cell_type": "markdown",
   "metadata": {},
   "source": [
    "<img src=\"imagenes/capitulo_06/6.47.png\">"
   ]
  },
  {
   "cell_type": "code",
   "execution_count": null,
   "metadata": {},
   "outputs": [],
   "source": []
  },
  {
   "cell_type": "markdown",
   "metadata": {},
   "source": [
    "<img src=\"imagenes/capitulo_06/6.48.png\">"
   ]
  },
  {
   "cell_type": "code",
   "execution_count": null,
   "metadata": {},
   "outputs": [],
   "source": []
  }
 ],
 "metadata": {
  "kernelspec": {
   "display_name": "Python 3",
   "language": "python",
   "name": "python3"
  },
  "language_info": {
   "codemirror_mode": {
    "name": "ipython",
    "version": 3
   },
   "file_extension": ".py",
   "mimetype": "text/x-python",
   "name": "python",
   "nbconvert_exporter": "python",
   "pygments_lexer": "ipython3",
   "version": "3.7.6"
  }
 },
 "nbformat": 4,
 "nbformat_minor": 4
}
