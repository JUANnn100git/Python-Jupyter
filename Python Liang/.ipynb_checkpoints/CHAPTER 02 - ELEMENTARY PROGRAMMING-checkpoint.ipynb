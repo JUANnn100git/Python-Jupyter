{
 "cells": [
  {
   "cell_type": "markdown",
   "metadata": {},
   "source": [
    "# <span style=\"color:#88B04B\">CHAPTER 02</span>\n",
    "## <span style=\"color:#1E3D89\">ELEMENTARY PROGRAMMING</span>\n",
    "___"
   ]
  },
  {
   "cell_type": "markdown",
   "metadata": {},
   "source": [
    "<img src=\"imagenes/capitulo_02/2.1.png\">"
   ]
  },
  {
   "cell_type": "code",
   "execution_count": 25,
   "metadata": {},
   "outputs": [
    {
     "name": "stdout",
     "output_type": "stream",
     "text": [
      "Enter a degree in Celsius: 43\n",
      "43 Celsius is 109.4 Fahrenheit\n"
     ]
    }
   ],
   "source": [
    "celsius = eval(input(\"Enter a degree in Celsius: \"))\n",
    "\n",
    "fahrenheit = (9 / 5) * celsius + 32\n",
    "\n",
    "print(f'{celsius} Celsius is {fahrenheit:1.1f} Fahrenheit')"
   ]
  },
  {
   "cell_type": "markdown",
   "metadata": {},
   "source": [
    "<img src=\"imagenes/capitulo_02/2.2.png\">"
   ]
  },
  {
   "cell_type": "code",
   "execution_count": 26,
   "metadata": {},
   "outputs": [
    {
     "name": "stdout",
     "output_type": "stream",
     "text": [
      "Enter the radius and length of a cylinder: 5.5, 12\n",
      "The area is 95.0332\n",
      "The volume is 1140.4\n"
     ]
    }
   ],
   "source": [
    "import math\n",
    "radius, length = eval(input(\"Enter the radius and length of a cylinder: \"))\n",
    "\n",
    "area = radius * radius * math.pi\n",
    "volume = area *  length\n",
    "\n",
    "print(f'The area is {area:1.4f}')\n",
    "print(f'The volume is {volume:1.1f}')"
   ]
  },
  {
   "cell_type": "markdown",
   "metadata": {},
   "source": [
    "<img src=\"imagenes/capitulo_02/2.3.png\">"
   ]
  },
  {
   "cell_type": "code",
   "execution_count": 27,
   "metadata": {},
   "outputs": [
    {
     "name": "stdout",
     "output_type": "stream",
     "text": [
      "Enter a value for feet: 16.5\n",
      "16.5 feet is 5.0325 meters\n"
     ]
    }
   ],
   "source": [
    "feet = eval(input('Enter a value for feet: '))\n",
    "\n",
    "meters = feet * 0.305\n",
    "\n",
    "print(f'{feet} feet is {meters} meters')"
   ]
  },
  {
   "cell_type": "markdown",
   "metadata": {},
   "source": [
    "<img src=\"imagenes/capitulo_02/2.4.png\">"
   ]
  },
  {
   "cell_type": "code",
   "execution_count": 28,
   "metadata": {},
   "outputs": [
    {
     "name": "stdout",
     "output_type": "stream",
     "text": [
      "Enter a value in pounds: 55.5\n",
      "55.5 pounds is 25.197 kilograms\n"
     ]
    }
   ],
   "source": [
    "pounds = eval(input('Enter a value in pounds: '))\n",
    "\n",
    "kilograms = pounds * 0.454\n",
    "\n",
    "print(f'{pounds} pounds is {kilograms} kilograms')"
   ]
  },
  {
   "cell_type": "markdown",
   "metadata": {},
   "source": [
    "<img src=\"imagenes/capitulo_02/2.5.png\">"
   ]
  },
  {
   "cell_type": "code",
   "execution_count": 29,
   "metadata": {},
   "outputs": [
    {
     "name": "stdout",
     "output_type": "stream",
     "text": [
      "Enter the subtotal and a gratuity rate: 15.69, 15\n",
      "The gratuity is 2.35  and the total is 18.04\n"
     ]
    }
   ],
   "source": [
    "subtotal, gratuity_rate = eval(input('Enter the subtotal and a gratuity rate: '))\n",
    "\n",
    "gratuity = subtotal * gratuity_rate / 100\n",
    "total = subtotal + gratuity\n",
    "\n",
    "print(f'The gratuity is {gratuity:1.2f}  and the total is {total:1.2f}')"
   ]
  },
  {
   "cell_type": "markdown",
   "metadata": {},
   "source": [
    "<img src=\"imagenes/capitulo_02/2.6.png\">"
   ]
  },
  {
   "cell_type": "code",
   "execution_count": 30,
   "metadata": {},
   "outputs": [
    {
     "name": "stdout",
     "output_type": "stream",
     "text": [
      "Enter a number between 0 and 1000: 999\n",
      "The sum of the digits is 27\n"
     ]
    }
   ],
   "source": [
    "number = eval(input('Enter a number between 0 and 1000: '))\n",
    "\n",
    "sum_digits = number % 10 + (number // 10) % 10 + number // 100\n",
    "\n",
    "print(f'The sum of the digits is {sum_digits}')"
   ]
  },
  {
   "cell_type": "markdown",
   "metadata": {},
   "source": [
    "<img src=\"imagenes/capitulo_02/2.7.png\">"
   ]
  },
  {
   "cell_type": "code",
   "execution_count": 31,
   "metadata": {},
   "outputs": [
    {
     "name": "stdout",
     "output_type": "stream",
     "text": [
      "Enter the number of minutes: 1000000000\n",
      "1000000000 is approximately 1902 years and 214 days\n"
     ]
    }
   ],
   "source": [
    "minutes = eval(input('Enter the number of minutes: '))\n",
    "\n",
    "years = ((minutes / 60) / 24) // 365\n",
    "days = ((minutes / 60) / 24) % 365\n",
    "\n",
    "print(f'{minutes} is approximately {years:1.0f} years and {days:1.0f} days')"
   ]
  },
  {
   "cell_type": "markdown",
   "metadata": {},
   "source": [
    "<img src=\"imagenes/capitulo_02/2.8.png\">"
   ]
  },
  {
   "cell_type": "code",
   "execution_count": 32,
   "metadata": {},
   "outputs": [
    {
     "name": "stdout",
     "output_type": "stream",
     "text": [
      "Enter the amount of water in kilograms: 55.5\n",
      "Enter the initial temperature: 3.5\n",
      "Enter the final temperature: 10.5\n",
      "The energy needed is 1625484.0\n"
     ]
    }
   ],
   "source": [
    "amountWater = eval(input('Enter the amount of water in kilograms: '))\n",
    "initialTemperature = eval(input('Enter the initial temperature: '))\n",
    "finalTemperature = eval(input('Enter the final temperature: '))\n",
    "\n",
    "energy =  amountWater *  (finalTemperature - initialTemperature) * 4184\n",
    "\n",
    "print(f'The energy needed is {energy}')"
   ]
  },
  {
   "cell_type": "markdown",
   "metadata": {},
   "source": [
    "<img src=\"imagenes/capitulo_02/2.9.png\">"
   ]
  },
  {
   "cell_type": "code",
   "execution_count": 39,
   "metadata": {},
   "outputs": [
    {
     "name": "stdout",
     "output_type": "stream",
     "text": [
      "Enter the temperature in Fahrenheit between -58 and 41: 5.3\n",
      "Enter the wind speed in miles per hour: 6\n",
      "The wind chill index is -5.56707\n"
     ]
    }
   ],
   "source": [
    "temperature = eval(input('Enter the temperature in Fahrenheit between -58 and 41: '))\n",
    "windSpeed = eval(input('Enter the wind speed in miles per hour: '))\n",
    "\n",
    "windChill =  35.74 + (0.6215 * temperature) - (35.75 * windSpeed ** 0.16) + (0.4275 * temperature * windSpeed ** 0.16)\n",
    "\n",
    "print(f'The wind chill index is {windChill:1.5f}')"
   ]
  },
  {
   "cell_type": "markdown",
   "metadata": {},
   "source": [
    "<img src=\"imagenes/capitulo_02/2.10.png\">"
   ]
  },
  {
   "cell_type": "code",
   "execution_count": 40,
   "metadata": {},
   "outputs": [
    {
     "name": "stdout",
     "output_type": "stream",
     "text": [
      "Enter speed and acceleration: 60, 3.5\n",
      "The minimun runway length for this airplane is 514.286 meters\n"
     ]
    }
   ],
   "source": [
    "speed, acceleration = eval(input('Enter speed and acceleration: '))\n",
    "\n",
    "length = (speed ** 2) / (2 * acceleration)\n",
    "\n",
    "print(f'The minimun runway length for this airplane is {length:1.3f} meters')"
   ]
  },
  {
   "cell_type": "markdown",
   "metadata": {},
   "source": [
    "<img src=\"imagenes/capitulo_02/2.11.png\">"
   ]
  },
  {
   "cell_type": "code",
   "execution_count": 17,
   "metadata": {},
   "outputs": [
    {
     "name": "stdout",
     "output_type": "stream",
     "text": [
      "Enter final account value: 1000\n",
      "Enter annual interest rate in percent: 4.25\n",
      "Enter number of years: 5\n",
      "Initial deposit value is 808.8639197424636\n"
     ]
    }
   ],
   "source": [
    "finalAccountValue = eval(input('Enter final account value: '))\n",
    "annualInterestRate = eval(input('Enter annual interest rate in percent: '))\n",
    "years = eval(input('Enter number of years: '))\n",
    "\n",
    "monthlyInterestRate = annualInterestRate / 100 / 12\n",
    "numberOfMonths = years * 12\n",
    "\n",
    "initialDepositAmount = finalAccountValue / (1 + monthlyInterestRate) ** numberOfMonths\n",
    "\n",
    "print(f'Initial deposit value is {initialDepositAmount}')"
   ]
  },
  {
   "cell_type": "markdown",
   "metadata": {},
   "source": [
    "## <img src=\"imagenes/capitulo_02/2.12.png\">"
   ]
  },
  {
   "cell_type": "code",
   "execution_count": 26,
   "metadata": {},
   "outputs": [
    {
     "name": "stdout",
     "output_type": "stream",
     "text": [
      "a        b        a ** b  \n",
      "1        2        1       \n",
      "2        3        8       \n",
      "3        4        81      \n",
      "4        5        1024    \n",
      "5        6        15625   \n"
     ]
    }
   ],
   "source": [
    "print(f'{\"a\":8} {\"b\":8} {\"a ** b\":8}')\n",
    "print(f'{1:<8} {2:<8} {1 ** 2:<8}')\n",
    "print(f'{2:<8} {3:<8} {2 ** 3:<8}')\n",
    "print(f'{3:<8} {4:<8} {3 ** 4:<8}')\n",
    "print(f'{4:<8} {5:<8} {4 ** 5:<8}')\n",
    "print(f'{5:<8} {6:<8} {5 ** 6:<8}')"
   ]
  },
  {
   "cell_type": "markdown",
   "metadata": {},
   "source": [
    "<img src=\"imagenes/capitulo_02/2.13.png\">"
   ]
  },
  {
   "cell_type": "code",
   "execution_count": 35,
   "metadata": {},
   "outputs": [
    {
     "name": "stdout",
     "output_type": "stream",
     "text": [
      "Enter a integer: 3125\n",
      "3\n",
      "1\n",
      "2\n",
      "5\n"
     ]
    }
   ],
   "source": [
    "number = eval(input('Enter a integer: '))\n",
    "print(number // 1000)\n",
    "print((number % 1000) // 100)\n",
    "print(((number % 1000) % 100) // 10)\n",
    "print(((number % 1000) % 100) % 10)"
   ]
  },
  {
   "cell_type": "markdown",
   "metadata": {},
   "source": [
    "<img src=\"imagenes/capitulo_02/2.14.png\">"
   ]
  },
  {
   "cell_type": "code",
   "execution_count": 37,
   "metadata": {},
   "outputs": [
    {
     "name": "stdout",
     "output_type": "stream",
     "text": [
      "Enter three points for a triangle: 1.5, -3.4, 4.6, 5, 9.5, -3.4\n",
      "The area of the triangle is 33.6\n"
     ]
    }
   ],
   "source": [
    "x1, y1, x2, y2, x3, y3 =  eval(input('Enter three points for a triangle: '))\n",
    "\n",
    "d1 = ((x2 - x1) ** 2 + (y2 - y1) ** 2) ** 0.5 # p1 to p2\n",
    "d2 = ((x3 - x2) ** 2 + (y3 - y2) ** 2) ** 0.5 # p2 to p3\n",
    "d3 = ((x3 - x1) ** 2 + (y3 - y1) ** 2) ** 0.5 # p1 to p3\n",
    "s =  (d1 + d2 + d3) / 2\n",
    "area = (s * (s - d1) * (s - d2) * (s - d3)) ** 0.5\n",
    "\n",
    "print(f'The area of the triangle is {area:1.1f}')"
   ]
  },
  {
   "cell_type": "markdown",
   "metadata": {},
   "source": [
    "<img src=\"imagenes/capitulo_02/2.15.png\">"
   ]
  },
  {
   "cell_type": "code",
   "execution_count": 38,
   "metadata": {},
   "outputs": [
    {
     "name": "stdout",
     "output_type": "stream",
     "text": [
      "Enter the side: 5.5\n",
      "The area of the hexagon is 78.5918\n"
     ]
    }
   ],
   "source": [
    "side = eval(input('Enter the side: '))\n",
    "\n",
    "area = ((3 * 3 ** 0.5) / 2) * (side ** 2)\n",
    "\n",
    "print(f'The area of the hexagon is {area:1.4f}')"
   ]
  },
  {
   "cell_type": "markdown",
   "metadata": {},
   "source": [
    "<img src=\"imagenes/capitulo_02/2.16.png\">"
   ]
  },
  {
   "cell_type": "code",
   "execution_count": 39,
   "metadata": {},
   "outputs": [
    {
     "name": "stdout",
     "output_type": "stream",
     "text": [
      "Enter v0, v1, and t: 5.5, 50.9, 4.5\n",
      "The average acceleration is 10.0889\n"
     ]
    }
   ],
   "source": [
    "v0, v1, t = eval(input('Enter v0, v1, and t: '))\n",
    "\n",
    "aceleration = (v1 - v0) / t\n",
    "\n",
    "print(f'The average acceleration is {aceleration:1.4f}')"
   ]
  },
  {
   "cell_type": "markdown",
   "metadata": {},
   "source": [
    "<img src=\"imagenes/capitulo_02/2.17.png\">"
   ]
  },
  {
   "cell_type": "code",
   "execution_count": 41,
   "metadata": {},
   "outputs": [
    {
     "name": "stdout",
     "output_type": "stream",
     "text": [
      "Enter weight in pounds: 95.5\n",
      "Enter height in inches: 50\n",
      "BMI is 26.8573\n"
     ]
    }
   ],
   "source": [
    "pounds = eval(input('Enter weight in pounds: '))\n",
    "inches = eval(input('Enter height in inches: '))\n",
    "\n",
    "kilograms = pounds * 0.45359237\n",
    "meters = inches * 0.0254\n",
    "\n",
    "bmi = kilograms / (meters ** 2)\n",
    "\n",
    "print(f'BMI is {bmi:1.4f}')\n"
   ]
  },
  {
   "cell_type": "markdown",
   "metadata": {},
   "source": [
    "<img src=\"imagenes/capitulo_02/2.18.png\">"
   ]
  },
  {
   "cell_type": "code",
   "execution_count": 8,
   "metadata": {},
   "outputs": [
    {
     "name": "stdout",
     "output_type": "stream",
     "text": [
      "Enter the time zone offset to GMT: 5\n",
      "Current time is 20:9:22 GMT\n"
     ]
    }
   ],
   "source": [
    "import time\n",
    "\n",
    "gmt = eval(input('Enter the time zone offset to GMT: '))\n",
    "\n",
    "currentTime = time.time() # Get currente time\n",
    "\n",
    "# Obtain the total seconds since midnight, Jan 1, 1979\n",
    "totalSeconds = int(currentTime)\n",
    "totalSeconds = totalSeconds - gmt * 60 * 60\n",
    "\n",
    "# Get the current second\n",
    "currentSecond = totalSeconds % 60\n",
    "\n",
    "# Obtain the total minutes\n",
    "totalMinutes = totalSeconds // 60\n",
    "\n",
    "# Compute the current minute in the hour\n",
    "currentMinute =  totalMinutes % 60\n",
    "\n",
    "# Obtain the total hours\n",
    "totalHours = totalMinutes // 60\n",
    "\n",
    "# Compute the current hour\n",
    "currentHour = totalHours % 24\n",
    "\n",
    "# Display results\n",
    "print(f'Current time is {currentHour}:{currentMinute}:{currentSecond} GMT')\n"
   ]
  },
  {
   "cell_type": "markdown",
   "metadata": {},
   "source": [
    "<img src=\"imagenes/capitulo_02/2.19.png\">"
   ]
  },
  {
   "cell_type": "code",
   "execution_count": 11,
   "metadata": {},
   "outputs": [
    {
     "name": "stdout",
     "output_type": "stream",
     "text": [
      "Enter investment amount: 1000\n",
      "Enter annual interest rate: 4.25\n",
      "Enter number of years: 1\n",
      "Accumulated value is 1043.34\n"
     ]
    }
   ],
   "source": [
    "investmentAmount = eval(input('Enter investment amount: '))\n",
    "annualInterestRate =  eval(input('Enter annual interest rate: '))\n",
    "numberOfYears = eval(input('Enter number of years: '))\n",
    "\n",
    "monthlyInterestRate = (annualInterestRate / 100) / 12\n",
    "numberOfMonths = numberOfYears * 12\n",
    "futureInvestmentValue = investmentAmount * (1 + monthlyInterestRate) ** numberOfMonths\n",
    "\n",
    "print(f'Accumulated value is {futureInvestmentValue:1.2f}')"
   ]
  },
  {
   "cell_type": "markdown",
   "metadata": {},
   "source": [
    "<img src=\"imagenes/capitulo_02/2.20.png\">"
   ]
  },
  {
   "cell_type": "code",
   "execution_count": 12,
   "metadata": {},
   "outputs": [
    {
     "name": "stdout",
     "output_type": "stream",
     "text": [
      "Enter balance and interest rate (e.g., 3 for 3%): 1000, 3.5\n",
      "The interest is 2.91667\n"
     ]
    }
   ],
   "source": [
    "balance, annualInterestRate = eval(input('Enter balance and interest rate (e.g., 3 for 3%): '))\n",
    "\n",
    "interest =  balance * (annualInterestRate / 1200)\n",
    "\n",
    "print(f'The interest is {interest:1.5f}')"
   ]
  },
  {
   "cell_type": "markdown",
   "metadata": {},
   "source": [
    "<img src=\"imagenes/capitulo_02/2.21.png\">"
   ]
  },
  {
   "cell_type": "code",
   "execution_count": 17,
   "metadata": {},
   "outputs": [
    {
     "name": "stdout",
     "output_type": "stream",
     "text": [
      "Enter the monthly saving amount: 100\n",
      "After the sixth month, the account value is 608.81\n"
     ]
    }
   ],
   "source": [
    "initialAmmount = eval(input('Enter the monthly saving amount: '))\n",
    "\n",
    "monthlyInterestRate = 0.05 / 12\n",
    "month_0 = 0\n",
    "month_1 = (initialAmmount + month_0) * (1 +  monthlyInterestRate)\n",
    "month_2 = (initialAmmount + month_1) * (1 +  monthlyInterestRate)\n",
    "month_3 = (initialAmmount + month_2) * (1 +  monthlyInterestRate)\n",
    "month_4 = (initialAmmount + month_3) * (1 +  monthlyInterestRate)\n",
    "month_5 = (initialAmmount + month_4) * (1 +  monthlyInterestRate)\n",
    "month_6 = (initialAmmount + month_5) * (1 +  monthlyInterestRate)\n",
    "accountValue = month_6\n",
    "\n",
    "print(f'After the sixth month, the account value is {accountValue:1.2f}')"
   ]
  },
  {
   "cell_type": "markdown",
   "metadata": {},
   "source": [
    "<img src=\"imagenes/capitulo_02/2.22.png\">"
   ]
  },
  {
   "cell_type": "code",
   "execution_count": 19,
   "metadata": {},
   "outputs": [
    {
     "name": "stdout",
     "output_type": "stream",
     "text": [
      "Enter the number of years: 20\n",
      "The population in 20 is 367634406\n"
     ]
    }
   ],
   "source": [
    "numberOfYears = eval(input('Enter the number of years: '))\n",
    "\n",
    "# current population\n",
    "current_population = 312032486\n",
    "# seconds in a year\n",
    "year = 365 * 24 * 60 * 60\n",
    "# assumptions\n",
    "birth = 7\n",
    "death = 13\n",
    "inmmigrant = 45\n",
    "\n",
    "# year variation in population\n",
    "year_variation = year // birth - year // death + year // inmmigrant\n",
    "\n",
    "population = current_population + numberOfYears * year_variation     \n",
    "\n",
    "print(f'The population in {numberOfYears} is {population}')"
   ]
  },
  {
   "cell_type": "markdown",
   "metadata": {},
   "source": [
    "<img src=\"imagenes/capitulo_02/2.23.png\">"
   ]
  },
  {
   "cell_type": "code",
   "execution_count": 1,
   "metadata": {},
   "outputs": [
    {
     "name": "stdout",
     "output_type": "stream",
     "text": [
      "Enter the radius: 120\n"
     ]
    }
   ],
   "source": [
    "import turtle \n",
    "\n",
    "t = turtle.Turtle()\n",
    "\n",
    "radius = eval(input('Enter the radius: '))\n",
    "\n",
    "t.penup()\n",
    "t.goto(radius,0)\n",
    "t.pendown()\n",
    "t.circle(radius)\n",
    "\n",
    "t.penup()\n",
    "t.goto(-radius,0)\n",
    "t.pendown()\n",
    "t.circle(radius)\n",
    "\n",
    "t.penup()\n",
    "t.goto(-radius,-radius*2)\n",
    "t.pendown()\n",
    "t.circle(radius)\n",
    "\n",
    "t.penup()\n",
    "t.goto(radius,-radius*2)\n",
    "t.pendown()\n",
    "t.circle(radius)\n",
    "\n",
    "turtle.done()"
   ]
  },
  {
   "cell_type": "markdown",
   "metadata": {},
   "source": [
    "<img src=\"imagenes/capitulo_02/2.24.png\">"
   ]
  },
  {
   "cell_type": "code",
   "execution_count": 1,
   "metadata": {},
   "outputs": [],
   "source": [
    "import turtle \n",
    "\n",
    "t = turtle.Turtle()\n",
    "\n",
    "t.penup()\n",
    "t.goto(-50,0)\n",
    "t.pendown()\n",
    "t.lt(30)\n",
    "t.fd(50)\n",
    "t.lt(60)\n",
    "t.fd(50)\n",
    "t.lt(60)\n",
    "t.fd(50)\n",
    "t.lt(60)\n",
    "t.fd(50)\n",
    "t.lt(60)\n",
    "t.fd(50)\n",
    "t.lt(60)\n",
    "t.fd(50)\n",
    "\n",
    "t.fd(50)\n",
    "t.rt(60)\n",
    "t.fd(50)\n",
    "t.rt(60)\n",
    "t.fd(50)\n",
    "t.rt(60)\n",
    "t.fd(50)\n",
    "t.rt(60)\n",
    "t.fd(50)\n",
    "t.rt(60)\n",
    "t.fd(50)\n",
    "t.rt(60)\n",
    "\n",
    "\n",
    "t.penup()\n",
    "t.goto(50,0)\n",
    "t.pendown()\n",
    "t.lt(30)\n",
    "t.lt(30)\n",
    "t.fd(50)\n",
    "t.lt(60)\n",
    "t.fd(50)\n",
    "t.lt(60)\n",
    "t.fd(50)\n",
    "t.lt(60)\n",
    "t.fd(50)\n",
    "t.lt(60)\n",
    "t.fd(50)\n",
    "t.lt(60)\n",
    "t.fd(50)\n",
    "\n",
    "t.fd(50)\n",
    "t.rt(60)\n",
    "t.fd(50)\n",
    "t.rt(60)\n",
    "t.fd(50)\n",
    "t.rt(60)\n",
    "t.fd(50)\n",
    "t.rt(60)\n",
    "t.fd(50)\n",
    "t.rt(60)\n",
    "t.fd(50)\n",
    "t.rt(60)\n",
    "\n",
    "turtle.done()"
   ]
  },
  {
   "cell_type": "markdown",
   "metadata": {},
   "source": [
    "<img src=\"imagenes/capitulo_02/2.25.png\">"
   ]
  },
  {
   "cell_type": "code",
   "execution_count": 5,
   "metadata": {},
   "outputs": [
    {
     "name": "stdout",
     "output_type": "stream",
     "text": [
      "Enter the center of rectangle c1 and c2: 0,0\n",
      "Enter the width and the height: 100,50\n"
     ]
    }
   ],
   "source": [
    "import turtle \n",
    "\n",
    "t = turtle.Turtle()\n",
    "\n",
    "t.hideturtle()\n",
    "\n",
    "# centro (c1, c2)\n",
    "c1, c2 = eval(input('Enter the center of rectangle c1 and c2: '))\n",
    "\n",
    "width, height = eval(input('Enter the width and the height: '))\n",
    "\n",
    "# (x1, y1) -> (- +)\n",
    "x1 = c1 - width / 2\n",
    "y1 = c2 + height / 2\n",
    "t.penup()\n",
    "t.goto(x1, y1)\n",
    "t.pendown()\n",
    "# (x2, y2) -> (+ +)\n",
    "x2 = x1 + width\n",
    "y2 = y1\n",
    "t.goto(x2, y2)\n",
    "# (x3, y3) -> (+ -)\n",
    "x3 = x2\n",
    "y3 = y2 - height\n",
    "t.goto(x3, y3)\n",
    "# (x4, y4) -> (- -)\n",
    "x4 = x3 - width\n",
    "y4 = y3\n",
    "t.goto(x4, y4)\n",
    "t.goto(x1, y1)\n",
    "\n",
    "turtle.done()"
   ]
  },
  {
   "cell_type": "markdown",
   "metadata": {},
   "source": [
    "<img src=\"imagenes/capitulo_02/2.26.png\">"
   ]
  },
  {
   "cell_type": "code",
   "execution_count": 1,
   "metadata": {},
   "outputs": [
    {
     "name": "stdout",
     "output_type": "stream",
     "text": [
      "Enter the center of circle c1 and c2: 0,0\n",
      "Enter the radius: 50\n"
     ]
    }
   ],
   "source": [
    "import turtle, math\n",
    "\n",
    "t = turtle.Turtle()\n",
    "\n",
    "t.hideturtle()\n",
    "\n",
    "# centro (c1, c2)\n",
    "c1, c2 = eval(input('Enter the center of circle c1 and c2: '))\n",
    "radius = eval(input('Enter the radius: '))\n",
    "\n",
    "area = math.pi * (radius ** 2)\n",
    "\n",
    "t.goto(c1, c2)\n",
    "t.write(f'{area:1.2f}')\n",
    "t.goto(c1, c2-radius)\n",
    "t.circle(radius)\n",
    "\n",
    "\n",
    "\n",
    "turtle.done()"
   ]
  }
 ],
 "metadata": {
  "kernelspec": {
   "display_name": "Python 3",
   "language": "python",
   "name": "python3"
  },
  "language_info": {
   "codemirror_mode": {
    "name": "ipython",
    "version": 3
   },
   "file_extension": ".py",
   "mimetype": "text/x-python",
   "name": "python",
   "nbconvert_exporter": "python",
   "pygments_lexer": "ipython3",
   "version": "3.7.6"
  }
 },
 "nbformat": 4,
 "nbformat_minor": 4
}
