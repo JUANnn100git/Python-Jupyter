{
 "cells": [
  {
   "cell_type": "markdown",
   "metadata": {},
   "source": [
    "# <span style=\"color:#88B04B\">CHAPTER 03</span>\n",
    "## <span style=\"color:#1E3D89\">MATHEMATICAL FUNCTIONS, STRINGS, AND OBJECTS</span>\n",
    "___"
   ]
  },
  {
   "cell_type": "markdown",
   "metadata": {},
   "source": [
    "<img src=\"imagenes/capitulo_03/3.1.png\">"
   ]
  },
  {
   "cell_type": "code",
   "execution_count": 2,
   "metadata": {},
   "outputs": [
    {
     "name": "stdout",
     "output_type": "stream",
     "text": [
      "Enter the length from the center to a vertex: 5.5\n",
      "The area of the pentagon is 108.61\n"
     ]
    }
   ],
   "source": [
    "import math\n",
    "r = eval(input('Enter the length from the center to a vertex: '))\n",
    "s = 2 * r * math.sin(math.pi / 5)\n",
    "area = 3 * math.sqrt(3) * math.pow(s, 2) / 2\n",
    "print(f'The area of the pentagon is {area:1.2f}')"
   ]
  },
  {
   "cell_type": "markdown",
   "metadata": {},
   "source": [
    "<img src=\"imagenes/capitulo_03/3.2.png\">"
   ]
  },
  {
   "cell_type": "code",
   "execution_count": 5,
   "metadata": {},
   "outputs": [
    {
     "name": "stdout",
     "output_type": "stream",
     "text": [
      "Enter point 1 (latitude and longitude) in degrees: 39.55, -116.25\n",
      "Enter point 2 (latitude and longitude) in degrees: 41.5, 87.37\n",
      "The distance between the two points is 10691.79183231593 km\n"
     ]
    }
   ],
   "source": [
    "import math\n",
    "x1, y1 = eval(input('Enter point 1 (latitude and longitude) in degrees: '))\n",
    "x2, y2 = eval(input('Enter point 2 (latitude and longitude) in degrees: '))\n",
    "d = 6371.01 * math.acos(math.sin(math.radians(x1)) * math.sin(math.radians(x2)) + math.cos(math.radians(x1)) * math.cos(math.radians(x2)) * math.cos(math.radians(y1 - y2)))\n",
    "print(f'The distance between the two points is {d} km')"
   ]
  },
  {
   "cell_type": "markdown",
   "metadata": {},
   "source": [
    "<img src=\"imagenes/capitulo_03/3.3.png\">"
   ]
  },
  {
   "cell_type": "code",
   "execution_count": 39,
   "metadata": {},
   "outputs": [
    {
     "name": "stdout",
     "output_type": "stream",
     "text": [
      "The total area is 117863.34 km\n"
     ]
    }
   ],
   "source": [
    "import math\n",
    "# Atlanta, Georgia (x1, y1)\n",
    "x1 = 33.7489954\n",
    "y1 = -84.3879824\n",
    "# Orlando, Florida (x2, y2)\n",
    "x2 = 28.538335\n",
    "y2 = -81.379235\n",
    "# Savannah, Georgia (x3, y3)\n",
    "x3 = 32.0835407\n",
    "y3 = -81.0998342\n",
    "# Charlotte, Norh Carolina (x4, y4)\n",
    "x4 = 35.2270869\n",
    "y4 = -80.8431267\n",
    "\n",
    "# d1 -> (x1, y1) - (x2, y2)\n",
    "d1 = 6371.01 * math.acos(math.sin(math.radians(x1)) * math.sin(math.radians(x2)) + math.cos(math.radians(x1)) * math.cos(math.radians(x2)) * math.cos(math.radians(y1 - y2)))\n",
    "# d2 -> (x2, y2) - (x3, y3)\n",
    "d2 = 6371.01 * math.acos(math.sin(math.radians(x2)) * math.sin(math.radians(x3)) + math.cos(math.radians(x2)) * math.cos(math.radians(x3)) * math.cos(math.radians(y2 - y3)))\n",
    "# d3 -> (x1, y1) - (x3, y3)\n",
    "d3 = 6371.01 * math.acos(math.sin(math.radians(x1)) * math.sin(math.radians(x3)) + math.cos(math.radians(x1)) * math.cos(math.radians(x3)) * math.cos(math.radians(y1 - y3)))\n",
    "# d4 -> (x1, y1) - (x4, y4)\n",
    "d4 = 6371.01 * math.acos(math.sin(math.radians(x1)) * math.sin(math.radians(x4)) + math.cos(math.radians(x1)) * math.cos(math.radians(x4)) * math.cos(math.radians(y1 - y4)))\n",
    "# d5 -> (x3, y3) - (x4, y4)\n",
    "d5 = 6371.01 * math.acos(math.sin(math.radians(x3)) * math.sin(math.radians(x4)) + math.cos(math.radians(x3)) * math.cos(math.radians(x4)) * math.cos(math.radians(y3 - y4)))\n",
    "\n",
    "# Fórmula de Herón para el área del triangulo 1\n",
    "s1 =  (d1 + d2 + d3) / 2\n",
    "area1 = (s1 * (s1 - d1) * (s1 - d2) * (s1 - d3)) ** 0.5\n",
    "# Fórmula de Herón para el área del triangulo 2\n",
    "s2 =  (d3 + d4 + d5) / 2\n",
    "area2 = (s2 * (s2 - d3) * (s2 - d4) * (s2 - d5)) ** 0.5\n",
    "\n",
    "areaTotal = area1 + area2\n",
    "\n",
    "print(f'The total area is {areaTotal:1.2f} km')\n"
   ]
  },
  {
   "cell_type": "markdown",
   "metadata": {},
   "source": [
    "<img src=\"imagenes/capitulo_03/3.4.png\">"
   ]
  },
  {
   "cell_type": "code",
   "execution_count": 8,
   "metadata": {},
   "outputs": [
    {
     "name": "stdout",
     "output_type": "stream",
     "text": [
      "Enter the side: 5.5\n",
      "The area of the pentagon is 52.044441367816255\n"
     ]
    }
   ],
   "source": [
    "import math\n",
    "s = eval(input('Enter the side: '))\n",
    "area = (5 * math.pow(s, 2)) / (4 * math.tan(math.pi / 5))\n",
    "print(f'The area of the pentagon is {area}')"
   ]
  },
  {
   "cell_type": "markdown",
   "metadata": {},
   "source": [
    "<img src=\"imagenes/capitulo_03/3.5.png\">"
   ]
  },
  {
   "cell_type": "code",
   "execution_count": 9,
   "metadata": {},
   "outputs": [
    {
     "name": "stdout",
     "output_type": "stream",
     "text": [
      "Enter the number of sides: 5\n",
      "Enter the side: 6.5\n",
      "The area of the polygon is 72.69017017488386\n"
     ]
    }
   ],
   "source": [
    "import math\n",
    "n = eval(input('Enter the number of sides: '))\n",
    "s = eval(input('Enter the side: '))\n",
    "area = (n * math.pow(s, 2)) / (4 * math.tan(math.pi / n))\n",
    "print(f'The area of the polygon is {area}')"
   ]
  },
  {
   "cell_type": "markdown",
   "metadata": {},
   "source": [
    "<img src=\"imagenes/capitulo_03/3.6.png\">"
   ]
  },
  {
   "cell_type": "code",
   "execution_count": 49,
   "metadata": {},
   "outputs": [
    {
     "name": "stdout",
     "output_type": "stream",
     "text": [
      "Enter an ASCII code: 90\n",
      "The character is Z\n"
     ]
    }
   ],
   "source": [
    "code = eval(input('Enter an ASCII code: '))\n",
    "print(f'The character is {chr(code)}')"
   ]
  },
  {
   "cell_type": "markdown",
   "metadata": {},
   "source": [
    "<img src=\"imagenes/capitulo_03/3.7.png\">"
   ]
  },
  {
   "cell_type": "code",
   "execution_count": 95,
   "metadata": {},
   "outputs": [
    {
     "name": "stdout",
     "output_type": "stream",
     "text": [
      "M\n"
     ]
    }
   ],
   "source": [
    "import time\n",
    "random = time.time()\n",
    "randomUppercase = round(random % 25) + 65\n",
    "print(chr(randomUppercase))"
   ]
  },
  {
   "cell_type": "markdown",
   "metadata": {},
   "source": [
    "<img src=\"imagenes/capitulo_03/3.8.png\">"
   ]
  },
  {
   "cell_type": "code",
   "execution_count": 126,
   "metadata": {},
   "outputs": [
    {
     "name": "stdout",
     "output_type": "stream",
     "text": [
      "Your amount 1156 consist of\n",
      "\t 11 dollars\n",
      "\t 2 quarters\n",
      "\t 0 dimes\n",
      "\t 1 nickels\n",
      "\t 1 pennies\n",
      "\n"
     ]
    }
   ],
   "source": [
    "# Receive the amount\n",
    "amount = 1156 #eval(input(\"Enter an amount, for example, 1156: \"))\n",
    "\n",
    "# Convert the amount to cents\n",
    "remainingAmount = amount % 100\n",
    "\n",
    "# Find the number of one dollars\n",
    "numberOfOneDollars = amount // 100\n",
    "\n",
    "# Find the number of quarters in the remaining amount\n",
    "numberOfQuarters = remainingAmount // 25\n",
    "remainingAmount = remainingAmount % 25\n",
    "\n",
    "# Find the number of dimes in the remaining amount\n",
    "numberOfDimes = remainingAmount // 10\n",
    "remainingAmount = remainingAmount % 10\n",
    "\n",
    "# Find the number of nickels in the remaining amount\n",
    "numberOfNickels = remainingAmount // 5\n",
    "remainingAmount = remainingAmount % 5\n",
    "\n",
    "# Find the number of pennies in the remaining amount\n",
    "numberOfPennies = remainingAmount\n",
    "\n",
    "# Display the results\n",
    "print(f'Your amount {amount} consist of\\n' +\n",
    "      f'\\t {numberOfOneDollars} dollars\\n' +\n",
    "      f'\\t {numberOfQuarters} quarters\\n' +\n",
    "      f'\\t {numberOfDimes} dimes\\n' +\n",
    "      f'\\t {numberOfNickels} nickels\\n' +\n",
    "      f'\\t {numberOfPennies} pennies\\n')"
   ]
  },
  {
   "cell_type": "markdown",
   "metadata": {},
   "source": [
    "<img src=\"imagenes/capitulo_03/3.9.png\">"
   ]
  },
  {
   "cell_type": "code",
   "execution_count": 136,
   "metadata": {},
   "outputs": [
    {
     "name": "stdout",
     "output_type": "stream",
     "text": [
      "Employee Name: Smith\n",
      "Hours Worked: 10.0\n",
      "Pay Rate: $9.8\n",
      "Gross Pay: $97.5\n",
      "Deductions:\n",
      "\tFederal Withholding (20.0%): $19.5\n",
      "\tState Withholding (9.0%): $8.775\n",
      "\tTotal Deduction: $28.27\n",
      "Hours Worked: $69.22\n",
      "\n"
     ]
    }
   ],
   "source": [
    "name = 'Smith'\n",
    "hoursWorked = 10\n",
    "payRate = 9.75\n",
    "federalTax = 0.20\n",
    "stateTax = 0.09\n",
    "\n",
    "grossPay = payRate * hoursWorked\n",
    "federalWithholding = payRate * hoursWorked * federalTax\n",
    "stateWithholding = payRate * hoursWorked * stateTax\n",
    "totalDeduction = federalWithholding + stateWithholding\n",
    "netPay = grossPay - totalDeduction\n",
    "\n",
    "print(f'Employee Name: {name}\\n' +\n",
    "      f'Hours Worked: {hoursWorked:1.1f}\\n' +\n",
    "      f'Pay Rate: ${payRate:1.1f}\\n' +\n",
    "      f'Gross Pay: ${grossPay:1.1f}\\n' +\n",
    "      'Deductions:\\n' +\n",
    "      f'\\tFederal Withholding ({federalTax * 100}%): ${federalWithholding}\\n' +\n",
    "      f'\\tState Withholding ({stateTax * 100}%): ${stateWithholding}\\n' +\n",
    "      f'\\tTotal Deduction: ${totalDeduction :1.2f}\\n' +\n",
    "      f'Hours Worked: ${netPay:1.2f}\\n')"
   ]
  },
  {
   "cell_type": "markdown",
   "metadata": {},
   "source": [
    "<img src=\"imagenes/capitulo_03/3.10.png\">"
   ]
  },
  {
   "cell_type": "code",
   "execution_count": 1,
   "metadata": {},
   "outputs": [],
   "source": [
    "import turtle\n",
    "\n",
    "t = turtle.Turtle()\n",
    "\n",
    "t.hideturtle()\n",
    "\n",
    "t.write('\\u03b1\\u03b2\\u03b3\\u03b4\\u03b5\\u03b6\\u03b7\\u03b8')\n",
    "\n",
    "\n",
    "turtle.done()"
   ]
  },
  {
   "cell_type": "markdown",
   "metadata": {},
   "source": [
    "<img src=\"imagenes/capitulo_03/3.11.png\">"
   ]
  },
  {
   "cell_type": "code",
   "execution_count": 168,
   "metadata": {},
   "outputs": [
    {
     "name": "stdout",
     "output_type": "stream",
     "text": [
      "Enter an integer: 9876\n",
      "The reversed number is 6789\n"
     ]
    }
   ],
   "source": [
    "number = eval(input('Enter an integer: '))\n",
    "\n",
    "u = number % 10\n",
    "d = number % 100 // 10\n",
    "c = number // 100 % 10\n",
    "m = number // 1000\n",
    "reverse = m + c * 10 + d * 100 + u * 1000\n",
    "\n",
    "print(f'The reversed number is {reverse}')"
   ]
  },
  {
   "cell_type": "markdown",
   "metadata": {},
   "source": [
    "<img src=\"imagenes/capitulo_03/3.12.png\">"
   ]
  },
  {
   "cell_type": "code",
   "execution_count": 1,
   "metadata": {},
   "outputs": [
    {
     "name": "stdout",
     "output_type": "stream",
     "text": [
      "Enter the length of the star: 300\n"
     ]
    }
   ],
   "source": [
    "import turtle \n",
    "\n",
    "t = turtle.Turtle()\n",
    "\n",
    "t.hideturtle()\n",
    "\n",
    "length = eval(input('Enter the length of the star: '))\n",
    "\n",
    "t.penup()\n",
    "t.goto(0,length / 2)\n",
    "t.pendown()\n",
    "t.rt(72)\n",
    "t.showturtle()\n",
    "t.fd(length)\n",
    "t.rt(144)\n",
    "t.fd(length)\n",
    "t.rt(144)\n",
    "t.fd(length)\n",
    "t.rt(144)\n",
    "t.fd(length)\n",
    "t.rt(144)\n",
    "t.fd(length)\n",
    "\n",
    "turtle.done()"
   ]
  },
  {
   "cell_type": "markdown",
   "metadata": {},
   "source": [
    "<img src=\"imagenes/capitulo_03/3.13.png\">"
   ]
  },
  {
   "cell_type": "code",
   "execution_count": 1,
   "metadata": {},
   "outputs": [],
   "source": [
    "import turtle \n",
    "\n",
    "t = turtle.Turtle()\n",
    "\n",
    "t.hideturtle()\n",
    "\n",
    "t.penup()\n",
    "t.setheading(60)\n",
    "t.fd(100)\n",
    "t.lt(120)\n",
    "\n",
    "t.pendown()\n",
    "t.color(\"red\")\n",
    "t.begin_fill()\n",
    "t.fd(100)\n",
    "t.lt(60)\n",
    "t.fd(100)\n",
    "t.lt(60)\n",
    "t.fd(100)\n",
    "t.lt(60)\n",
    "t.fd(100)\n",
    "t.lt(60)\n",
    "t.fd(100)\n",
    "t.lt(60)\n",
    "t.fd(100)\n",
    "t.lt(60)\n",
    "t.end_fill()\n",
    "\n",
    "t.penup()\n",
    "t.color(\"white\")\n",
    "t.goto(0,-25)\n",
    "t.write(\"STOP\", True, align=\"center\", font=(\"Cooper\", 33, \"bold\"))\n",
    "\n",
    "turtle.done()"
   ]
  },
  {
   "cell_type": "markdown",
   "metadata": {},
   "source": [
    "<img src=\"imagenes/capitulo_03/3.14.png\">"
   ]
  },
  {
   "cell_type": "code",
   "execution_count": 1,
   "metadata": {},
   "outputs": [],
   "source": [
    "import turtle \n",
    "\n",
    "t = turtle.Turtle()\n",
    "\n",
    "turtle.screensize(800, 200)\n",
    "\n",
    "t.hideturtle()\n",
    "\n",
    "t.pensize(20)\n",
    "\n",
    "t.goto(0,0)\n",
    "t.color(\"black\")\n",
    "t.circle(100)\n",
    "\n",
    "t.penup()\n",
    "t.goto(-250, 0)\n",
    "t.color(\"#007DC3\")\n",
    "t.pendown()\n",
    "t.circle(100)\n",
    "\n",
    "t.penup()\n",
    "t.goto(250, 0)\n",
    "t.color(\"#E7324C\")\n",
    "t.pendown()\n",
    "t.circle(100)\n",
    "\n",
    "t.penup()\n",
    "t.goto(-125,-100)\n",
    "t.color(\"#F5AC30\")\n",
    "t.pendown()\n",
    "t.circle(100)\n",
    "\n",
    "t.penup()\n",
    "t.goto(125,-100)\n",
    "t.color(\"#00A14F\")\n",
    "t.pendown()\n",
    "t.circle(100)\n",
    "\n",
    "turtle.done()"
   ]
  },
  {
   "cell_type": "markdown",
   "metadata": {},
   "source": [
    "<img src=\"imagenes/capitulo_03/3.15.png\">"
   ]
  },
  {
   "cell_type": "code",
   "execution_count": 1,
   "metadata": {},
   "outputs": [],
   "source": [
    "import turtle \n",
    "\n",
    "t = turtle.Turtle()\n",
    "\n",
    "t.hideturtle()\n",
    "\n",
    "t.penup()\n",
    "t.goto(0,-150)\n",
    "t.pendown()\n",
    "t.circle(150)\n",
    "\n",
    "t.penup()\n",
    "t.goto(0,50)\n",
    "t.setheading(-60)\n",
    "t.pendown()\n",
    "t.fd(110)\n",
    "\n",
    "t.penup()\n",
    "t.goto(0,50)\n",
    "t.setheading(240)\n",
    "t.pendown()\n",
    "t.fd(110)\n",
    "\n",
    "t.penup()\n",
    "t.goto(0,-110)\n",
    "t.setheading(30)\n",
    "t.pendown()\n",
    "t.fd(110)\n",
    "\n",
    "t.penup()\n",
    "t.goto(0,-110)\n",
    "t.setheading(150)\n",
    "t.pendown()\n",
    "t.fd(110)\n",
    "\n",
    "t.penup()\n",
    "t.goto(60,50)\n",
    "t.setheading(0)\n",
    "t.pendown()\n",
    "t.begin_fill()\n",
    "t.circle(20)\n",
    "t.end_fill()\n",
    "\n",
    "t.penup()\n",
    "t.goto(-60,50)\n",
    "t.setheading(0)\n",
    "t.pendown()\n",
    "t.begin_fill()\n",
    "t.circle(20)\n",
    "t.end_fill()\n",
    "\n",
    "turtle.done()"
   ]
  },
  {
   "cell_type": "markdown",
   "metadata": {},
   "source": [
    "<img src=\"imagenes/capitulo_03/3.16.png\">"
   ]
  },
  {
   "cell_type": "code",
   "execution_count": 7,
   "metadata": {},
   "outputs": [],
   "source": [
    "import turtle \n",
    "\n",
    "t = turtle.Turtle()\n",
    "\n",
    "t.hideturtle()\n",
    "\n",
    "t.penup()\n",
    "t.goto(-180,0)\n",
    "t.setheading(-60)\n",
    "t.color(\"green\")\n",
    "t.pendown()\n",
    "t.begin_fill()\n",
    "t.circle(30, steps = 3)\n",
    "t.end_fill()\n",
    "\n",
    "t.penup()\n",
    "t.goto(-60,0)\n",
    "t.setheading(45)\n",
    "t.color(\"orange\")\n",
    "t.pendown()\n",
    "t.begin_fill()\n",
    "t.circle(30, steps = 4)\n",
    "t.end_fill()\n",
    "\n",
    "t.penup()\n",
    "t.goto(10,0)\n",
    "t.setheading(36)\n",
    "t.color(\"yellow\")\n",
    "t.pendown()\n",
    "t.begin_fill()\n",
    "t.circle(30, steps = 5)\n",
    "t.end_fill()\n",
    "\n",
    "t.penup()\n",
    "t.goto(80,0)\n",
    "t.setheading(30)\n",
    "t.pendown()\n",
    "t.color(\"pink\")\n",
    "t.begin_fill()\n",
    "t.circle(30, steps = 6)\n",
    "t.end_fill()\n",
    "\n",
    "t.penup()\n",
    "t.goto(150,0)\n",
    "t.setheading(51.43/2)\n",
    "t.color(\"blue\")\n",
    "t.pendown()\n",
    "t.begin_fill()\n",
    "t.circle(30, steps = 7)\n",
    "t.end_fill()\n",
    "\n",
    "t.penup()\n",
    "t.goto(0, 100)\n",
    "t.color(\"brown\")\n",
    "t.pendown()\n",
    "t.write(\"Cool Colorful Shapes\", align=\"center\", font = (\"Times\", 22, \"bold\"))\n",
    "\n",
    "turtle.done()"
   ]
  },
  {
   "cell_type": "markdown",
   "metadata": {},
   "source": [
    "<img src=\"imagenes/capitulo_03/3.17.png\">"
   ]
  },
  {
   "cell_type": "code",
   "execution_count": 10,
   "metadata": {},
   "outputs": [
    {
     "name": "stdout",
     "output_type": "stream",
     "text": [
      "Enter three points for a triangle: -10, 50, -50, -50, 50, -30\n"
     ]
    }
   ],
   "source": [
    "import turtle \n",
    "\n",
    "t = turtle.Turtle()\n",
    "\n",
    "t.hideturtle()\n",
    "\n",
    "x1, y1, x2, y2, x3, y3 =  eval(input('Enter three points for a triangle: '))\n",
    "\n",
    "d1 = ((x2 - x1) ** 2 + (y2 - y1) ** 2) ** 0.5 # p1 to p2\n",
    "d2 = ((x3 - x2) ** 2 + (y3 - y2) ** 2) ** 0.5 # p2 to p3\n",
    "d3 = ((x3 - x1) ** 2 + (y3 - y1) ** 2) ** 0.5 # p1 to p3\n",
    "s =  (d1 + d2 + d3) / 2\n",
    "area = (s * (s - d1) * (s - d2) * (s - d3)) ** 0.5\n",
    "\n",
    "\n",
    "t.penup()\n",
    "t.goto(x1, y1)\n",
    "t.write(f'p1 ({x1},{y1})', font = (\"Times\", 11, \"normal\"))\n",
    "t.pendown()\n",
    "t.goto(x2, y2)\n",
    "t.write(f'p2 ({x2},{y2})', font = (\"Times\", 11, \"normal\"))\n",
    "t.goto(x3, y3)\n",
    "t.write(f'p3 ({x3},{y3})', font = (\"Times\", 11, \"normal\"))\n",
    "t.goto(x1, y1)\n",
    "\n",
    "t.penup()\n",
    "t.goto(0,-120)\n",
    "t.write(f'The area of the triangle is {area:1.1f}', align=\"center\", font = (\"Times\", 11, \"normal\"))\n",
    "\n",
    "\n",
    "turtle.done()"
   ]
  },
  {
   "cell_type": "markdown",
   "metadata": {},
   "source": [
    "<img src=\"imagenes/capitulo_03/3.18.png\">"
   ]
  },
  {
   "cell_type": "code",
   "execution_count": 17,
   "metadata": {},
   "outputs": [
    {
     "name": "stdout",
     "output_type": "stream",
     "text": [
      "Enter three points: 10, 10, 65, 10, 65, 25\n"
     ]
    }
   ],
   "source": [
    "import turtle, math\n",
    "\n",
    "t = turtle.Turtle()\n",
    "\n",
    "t.hideturtle()\n",
    "\n",
    "x1, y1, x2, y2, x3, y3 = eval(input(\"Enter three points: \"))\n",
    "\n",
    "a = math.sqrt((x2 - x3) * (x2 - x3) + (y2 - y3) * (y2 - y3))\n",
    "b = math.sqrt((x1 - x3) * (x1 - x3) + (y1 - y3) * (y1 - y3))\n",
    "c = math.sqrt((x1 - x2) * (x1 - x2) + (y1 - y2) * (y1 - y2))\n",
    "\n",
    "A = math.degrees(math.acos((a * a - b * b - c * c) / (-2 * b * c)))\n",
    "B = math.degrees(math.acos((b * b - a * a - c * c) / (-2 * a * c)))\n",
    "C = math.degrees(math.acos((c * c - b * b - a * a) / (-2 * a * b)))\n",
    "\n",
    "t.penup()\n",
    "t.goto(x1, y1)\n",
    "t.write(f'p1 ({x1},{y1})', font = (\"Times\", 11, \"normal\"))\n",
    "t.pendown()\n",
    "t.goto(x2, y2)\n",
    "t.write(f'p2 ({x2},{y2})', font = (\"Times\", 11, \"normal\"))\n",
    "t.goto(x3, y3)\n",
    "t.write(f'p3 ({x3},{y3})', font = (\"Times\", 11, \"normal\"))\n",
    "t.goto(x1, y1)\n",
    "\n",
    "t.penup()\n",
    "t.goto(0,-120)\n",
    "t.write(f'The three angles are {round(A * 100) / 100}°   {round(B * 100) / 100}°   {round(C * 100) / 100}°', align=\"center\", font = (\"Times\", 11, \"normal\"))\n",
    "\n",
    "\n",
    "turtle.done()"
   ]
  },
  {
   "cell_type": "markdown",
   "metadata": {},
   "source": [
    "<img src=\"imagenes/capitulo_03/3.19.png\">"
   ]
  },
  {
   "cell_type": "code",
   "execution_count": 20,
   "metadata": {},
   "outputs": [
    {
     "name": "stdout",
     "output_type": "stream",
     "text": [
      "Enter two points: -39, 49, 50, -50\n"
     ]
    }
   ],
   "source": [
    "import turtle \n",
    "\n",
    "t = turtle.Turtle()\n",
    "\n",
    "t.hideturtle()\n",
    "\n",
    "x1, y1, x2, y2 = eval(input(\"Enter two points: \"))\n",
    "\n",
    "t.penup()\n",
    "t.goto(x1, y1)\n",
    "t.write(f'({x1},{y1})', font = (\"Times\", 11, \"normal\"))\n",
    "t.pendown()\n",
    "t.goto(x2, y2)\n",
    "t.write(f'({x2},{y2})', font = (\"Times\", 11, \"normal\"))\n",
    "t.goto(x1, y1)\n",
    "\n",
    "turtle.done()"
   ]
  }
 ],
 "metadata": {
  "kernelspec": {
   "display_name": "Python 3",
   "language": "python",
   "name": "python3"
  },
  "language_info": {
   "codemirror_mode": {
    "name": "ipython",
    "version": 3
   },
   "file_extension": ".py",
   "mimetype": "text/x-python",
   "name": "python",
   "nbconvert_exporter": "python",
   "pygments_lexer": "ipython3",
   "version": "3.7.6"
  }
 },
 "nbformat": 4,
 "nbformat_minor": 4
}
