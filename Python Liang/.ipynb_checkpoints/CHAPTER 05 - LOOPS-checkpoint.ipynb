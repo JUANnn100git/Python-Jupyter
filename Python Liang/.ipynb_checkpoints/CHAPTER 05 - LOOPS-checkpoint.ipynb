{
 "cells": [
  {
   "cell_type": "markdown",
   "metadata": {},
   "source": [
    "# <span style=\"color:#88B04B\">CHAPTER 05</span>\n",
    "## <span style=\"color:#1E3D89\">LOOPS</span>\n",
    "___"
   ]
  },
  {
   "cell_type": "markdown",
   "metadata": {},
   "source": [
    "<img src=\"imagenes/capitulo_05/5.1.png\">"
   ]
  },
  {
   "cell_type": "code",
   "execution_count": 4,
   "metadata": {},
   "outputs": [
    {
     "name": "stdout",
     "output_type": "stream",
     "text": [
      "Enter an integer, the input ends if it is 0: 1\n",
      "Enter an integer, the input ends if it is 0: 2\n",
      "Enter an integer, the input ends if it is 0: -1\n",
      "Enter an integer, the input ends if it is 0: 3\n",
      "Enter an integer, the input ends if it is 0: 0\n",
      "The number of positives is 3\n",
      "The number of negatives is 1\n",
      "The total is 5\n",
      "The average is 1.25\n"
     ]
    }
   ],
   "source": [
    "data = eval(input('Enter an integer, the input ends if it is 0: '))\n",
    "\n",
    "numPositive = 0\n",
    "numNegative = 0\n",
    "sum_ = 0\n",
    "\n",
    "while data != 0:\n",
    "    if data > 0:\n",
    "        numPositive += 1\n",
    "    if data < 0:\n",
    "        numNegative += 1\n",
    "    sum_ += data\n",
    "    data = eval(input('Enter an integer, the input ends if it is 0: '))\n",
    "\n",
    "if numPositive + numNegative == 0:\n",
    "    print(\"You didn't enter any number\")\n",
    "else:\n",
    "    print(f'The number of positives is {numPositive}')\n",
    "    print(f'The number of negatives is {numNegative}')\n",
    "    print(f'The total is {sum_}')\n",
    "    print(f'The average is {sum_ / (numPositive + numNegative)}')"
   ]
  },
  {
   "cell_type": "markdown",
   "metadata": {},
   "source": [
    "<img src=\"imagenes/capitulo_05/5.2.png\">"
   ]
  },
  {
   "cell_type": "code",
   "execution_count": 10,
   "metadata": {},
   "outputs": [
    {
     "name": "stdout",
     "output_type": "stream",
     "text": [
      "What is 4 + 7 ? 11\n",
      "You are correct!\n",
      "What is 7 + 4 ? 11\n",
      "You are correct!\n",
      "What is 5 + 5 ? 1\n",
      "Your answer is wrong.\n",
      "5 + 5 is 10\n",
      "What is 6 + 3 ? 1\n",
      "Your answer is wrong.\n",
      "6 + 3 is 9\n",
      "What is 8 + 6 ? 1\n",
      "Your answer is wrong.\n",
      "8 + 6 is 14\n",
      "What is 8 + 7 ? 1\n",
      "Your answer is wrong.\n",
      "8 + 7 is 15\n",
      "What is 6 + 7 ? 1\n",
      "Your answer is wrong.\n",
      "6 + 7 is 13\n",
      "What is 1 + 1 ? 1\n",
      "Your answer is wrong.\n",
      "1 + 1 is 2\n",
      "What is 6 + 3 ? 1\n",
      "Your answer is wrong.\n",
      "6 + 3 is 9\n",
      "What is 5 + 0 ? 1\n",
      "Your answer is wrong.\n",
      "5 + 0 is 5\n",
      "Correct count is 2 out of 10 \n",
      "Test time is 11 seconds\n"
     ]
    }
   ],
   "source": [
    "import random\n",
    "import time\n",
    "\n",
    "correctCount = 0 # Count the number of correct answers\n",
    "count = 0 # Count the number of questions\n",
    "NUMBER_OF_QUESTIONS = 10 # Constant\n",
    "\n",
    "startTime = time.time() # Get start time\n",
    "\n",
    "while count < NUMBER_OF_QUESTIONS:\n",
    "    # Generate two random single-digit integers\n",
    "    number1 = random.randint(0, 9)\n",
    "    number2 = random.randint(0, 9)\n",
    "\n",
    "    # Prompt the student to answer \"What is number1 - number2?\n",
    "    answer = eval(input(f'What is {number1} + {number2} ? '))\n",
    "    \n",
    "    # Grade the answer and display the result\n",
    "    if number1 + number2 == answer:\n",
    "        print('You are correct!')\n",
    "        correctCount += 1\n",
    "    else:\n",
    "        print(f'Your answer is wrong.\\n{number1} + {number2} is {number1 + number2}')\n",
    "        \n",
    "    # Increase the count\n",
    "    count += 1\n",
    "    \n",
    "endTime = time.time() # Get end time\n",
    "testTime = int(endTime - startTime) # Get test time\n",
    "    \n",
    "print(f'Correct count is {correctCount} out of {NUMBER_OF_QUESTIONS} \\nTest time is {testTime} seconds')"
   ]
  },
  {
   "cell_type": "markdown",
   "metadata": {},
   "source": [
    "<img src=\"imagenes/capitulo_05/5.3.png\">"
   ]
  },
  {
   "cell_type": "code",
   "execution_count": 47,
   "metadata": {},
   "outputs": [
    {
     "name": "stdout",
     "output_type": "stream",
     "text": [
      "kilograms      Pounds\n",
      "\n",
      "1                 2.2\n",
      "3                 6.6\n",
      "5                11.0\n",
      "7                15.4\n",
      "9                19.8\n",
      "11               24.2\n",
      "13               28.6\n",
      "15               33.0\n",
      "17               37.4\n",
      "19               41.8\n",
      "21               46.2\n",
      "23               50.6\n",
      "25               55.0\n",
      "27               59.4\n",
      "29               63.8\n",
      "31               68.2\n",
      "33               72.6\n",
      "35               77.0\n",
      "37               81.4\n",
      "39               85.8\n",
      "41               90.2\n",
      "43               94.6\n",
      "45               99.0\n",
      "47              103.4\n",
      "49              107.8\n",
      "51              112.2\n",
      "53              116.6\n",
      "55              121.0\n",
      "57              125.4\n",
      "59              129.8\n",
      "61              134.2\n",
      "63              138.6\n",
      "65              143.0\n",
      "67              147.4\n",
      "69              151.8\n",
      "71              156.2\n",
      "73              160.6\n",
      "75              165.0\n",
      "77              169.4\n",
      "79              173.8\n",
      "81              178.2\n",
      "83              182.6\n",
      "85              187.0\n",
      "87              191.4\n",
      "89              195.8\n",
      "91              200.2\n",
      "93              204.6\n",
      "95              209.0\n",
      "97              213.4\n",
      "99              217.8\n",
      "101             222.2\n",
      "103             226.6\n",
      "105             231.0\n",
      "107             235.4\n",
      "109             239.8\n",
      "111             244.2\n",
      "113             248.6\n",
      "115             253.0\n",
      "117             257.4\n",
      "119             261.8\n",
      "121             266.2\n",
      "123             270.6\n",
      "125             275.0\n",
      "127             279.4\n",
      "129             283.8\n",
      "131             288.2\n",
      "133             292.6\n",
      "135             297.0\n",
      "137             301.4\n",
      "139             305.8\n",
      "141             310.2\n",
      "143             314.6\n",
      "145             319.0\n",
      "147             323.4\n",
      "149             327.8\n",
      "151             332.2\n",
      "153             336.6\n",
      "155             341.0\n",
      "157             345.4\n",
      "159             349.8\n",
      "161             354.2\n",
      "163             358.6\n",
      "165             363.0\n",
      "167             367.4\n",
      "169             371.8\n",
      "171             376.2\n",
      "173             380.6\n",
      "175             385.0\n",
      "177             389.4\n",
      "179             393.8\n",
      "181             398.2\n",
      "183             402.6\n",
      "185             407.0\n",
      "187             411.4\n",
      "189             415.8\n",
      "191             420.2\n",
      "193             424.6\n",
      "195             429.0\n",
      "197             433.4\n",
      "199             437.8\n"
     ]
    }
   ],
   "source": [
    "print(f'{\"kilograms\":10} {\"Pounds\":>10}')\n",
    "print()\n",
    "\n",
    "for n in range(1, 200, 2):\n",
    "    print(f'{n:<10} {n * 2.2:>10.1f}')"
   ]
  },
  {
   "cell_type": "markdown",
   "metadata": {},
   "source": [
    "<img src=\"imagenes/capitulo_05/5.4.png\">"
   ]
  },
  {
   "cell_type": "code",
   "execution_count": 44,
   "metadata": {},
   "outputs": [
    {
     "name": "stdout",
     "output_type": "stream",
     "text": [
      "Miles      Kilometers\n",
      "\n",
      "1               1.609\n",
      "2               3.218\n",
      "3               4.827\n",
      "4               6.436\n",
      "5               8.045\n",
      "6               9.654\n",
      "7              11.263\n",
      "8              12.872\n",
      "9              14.481\n",
      "10             16.090\n"
     ]
    }
   ],
   "source": [
    "print(f'{\"Miles\":10} {\"Kilometers\":10}')\n",
    "print()\n",
    "\n",
    "for n in range(1, 11):\n",
    "    print(f'{n:<10} {n * 1.609:>10.3f}')"
   ]
  },
  {
   "cell_type": "markdown",
   "metadata": {},
   "source": [
    "<img src=\"imagenes/capitulo_05/5.5.png\">"
   ]
  },
  {
   "cell_type": "code",
   "execution_count": 77,
   "metadata": {},
   "outputs": [
    {
     "name": "stdout",
     "output_type": "stream",
     "text": [
      "kilograms    Pounds      |     Pounds     Kilograms   \n",
      "\n",
      "1            2.2         |      20         9.09        \n",
      "3            6.6         |      25         11.36       \n",
      "5            11.0        |      30         13.63       \n",
      "7            15.4        |      35         15.91       \n",
      "9            19.8        |      40         18.18       \n",
      "11           24.2        |      45         20.45       \n",
      "13           28.6        |      50         22.73       \n",
      "15           33.0        |      55         25.00       \n",
      "17           37.4        |      60         27.27       \n",
      "19           41.8        |      65         29.54       \n",
      "21           46.2        |      70         31.82       \n",
      "23           50.6        |      75         34.09       \n",
      "25           55.0        |      80         36.36       \n",
      "27           59.4        |      85         38.63       \n",
      "29           63.8        |      90         40.91       \n",
      "31           68.2        |      95         43.18       \n",
      "33           72.6        |      100        45.45       \n",
      "35           77.0        |      105        47.72       \n",
      "37           81.4        |      110        50.00       \n",
      "39           85.8        |      115        52.27       \n",
      "41           90.2        |      120        54.54       \n",
      "43           94.6        |      125        56.81       \n",
      "45           99.0        |      130        59.09       \n",
      "47           103.4       |      135        61.36       \n",
      "49           107.8       |      140        63.63       \n",
      "51           112.2       |      145        65.90       \n",
      "53           116.6       |      150        68.17       \n",
      "55           121.0       |      155        70.45       \n",
      "57           125.4       |      160        72.72       \n",
      "59           129.8       |      165        74.99       \n",
      "61           134.2       |      170        77.27       \n",
      "63           138.6       |      175        79.54       \n",
      "65           143.0       |      180        81.81       \n",
      "67           147.4       |      185        84.08       \n",
      "69           151.8       |      190        86.36       \n",
      "71           156.2       |      195        88.63       \n",
      "73           160.6       |      200        90.90       \n",
      "75           165.0       |      205        93.17       \n",
      "77           169.4       |      210        95.45       \n",
      "79           173.8       |      215        97.72       \n",
      "81           178.2       |      220        99.99       \n",
      "83           182.6       |      225        102.26      \n",
      "85           187.0       |      230        104.53      \n",
      "87           191.4       |      235        106.81      \n",
      "89           195.8       |      240        109.08      \n",
      "91           200.2       |      245        111.35      \n",
      "93           204.6       |      250        113.62      \n",
      "95           209.0       |      255        115.90      \n",
      "97           213.4       |      260        118.17      \n",
      "99           217.8       |      265        120.44      \n",
      "101          222.2       |      270        122.72      \n",
      "103          226.6       |      275        124.99      \n",
      "105          231.0       |      280        127.26      \n",
      "107          235.4       |      285        129.53      \n",
      "109          239.8       |      290        131.81      \n",
      "111          244.2       |      295        134.08      \n",
      "113          248.6       |      300        136.35      \n",
      "115          253.0       |      305        138.62      \n",
      "117          257.4       |      310        140.90      \n",
      "119          261.8       |      315        143.17      \n",
      "121          266.2       |      320        145.44      \n",
      "123          270.6       |      325        147.71      \n",
      "125          275.0       |      330        149.99      \n",
      "127          279.4       |      335        152.26      \n",
      "129          283.8       |      340        154.53      \n",
      "131          288.2       |      345        156.80      \n",
      "133          292.6       |      350        159.08      \n",
      "135          297.0       |      355        161.35      \n",
      "137          301.4       |      360        163.62      \n",
      "139          305.8       |      365        165.89      \n",
      "141          310.2       |      370        168.16      \n",
      "143          314.6       |      375        170.44      \n",
      "145          319.0       |      380        172.71      \n",
      "147          323.4       |      385        174.98      \n",
      "149          327.8       |      390        177.25      \n",
      "151          332.2       |      395        179.53      \n",
      "153          336.6       |      400        181.80      \n",
      "155          341.0       |      405        184.07      \n",
      "157          345.4       |      410        186.34      \n",
      "159          349.8       |      415        188.62      \n",
      "161          354.2       |      420        190.89      \n",
      "163          358.6       |      425        193.16      \n",
      "165          363.0       |      430        195.44      \n",
      "167          367.4       |      435        197.71      \n",
      "169          371.8       |      440        199.98      \n",
      "171          376.2       |      445        202.25      \n",
      "173          380.6       |      450        204.53      \n",
      "175          385.0       |      455        206.80      \n",
      "177          389.4       |      460        209.07      \n",
      "179          393.8       |      465        211.34      \n",
      "181          398.2       |      470        213.62      \n",
      "183          402.6       |      475        215.89      \n",
      "185          407.0       |      480        218.16      \n",
      "187          411.4       |      485        220.43      \n",
      "189          415.8       |      490        222.71      \n",
      "191          420.2       |      495        224.98      \n",
      "193          424.6       |      500        227.25      \n",
      "195          429.0       |      505        229.52      \n",
      "197          433.4       |      510        231.80      \n",
      "199          437.8       |      515        234.07      \n"
     ]
    }
   ],
   "source": [
    "print(f'{\"kilograms\":12} {\"Pounds\":8} {\"|\":^8} {\"Pounds\":10} {\"Kilograms\":12}')\n",
    "print()\n",
    "for n in range(1, 200, 2):\n",
    "    print(f'{n:<12} {n * 2.2:<8.1f} {\"|\":^8}  {20 + (n // 2) * 5:<10} {(20 + (n // 2) * 5) * 0.4545:<12.2f}')"
   ]
  },
  {
   "cell_type": "markdown",
   "metadata": {},
   "source": [
    "<img src=\"imagenes/capitulo_05/5.6.png\">"
   ]
  },
  {
   "cell_type": "code",
   "execution_count": 86,
   "metadata": {},
   "outputs": [
    {
     "name": "stdout",
     "output_type": "stream",
     "text": [
      "Miles      Kilometers    |     Kilometers      Miles       \n",
      "\n",
      "1          1.609         |      20              12.420      \n",
      "2          3.218         |      25              15.525      \n",
      "3          4.827         |      30              18.630      \n",
      "4          6.436         |      35              21.735      \n",
      "5          8.045         |      40              24.840      \n",
      "6          9.654         |      45              27.945      \n",
      "7          11.263        |      50              31.050      \n",
      "8          12.872        |      55              34.155      \n",
      "9          14.481        |      60              37.260      \n",
      "10         16.090        |      65              40.365      \n"
     ]
    }
   ],
   "source": [
    "print(f'{\"Miles\":10} {\"Kilometers\":10} {\"|\":^8} {\"Kilometers\":15} {\"Miles\":12}')\n",
    "print()\n",
    "for n in range(1, 11):\n",
    "    print(f'{n:<10} {n * 1.609:<10.3f} {\"|\":^8}  {15 + n  * 5:<15} {(15 + n * 5) * 0.621:<12.3f}')"
   ]
  },
  {
   "cell_type": "markdown",
   "metadata": {},
   "source": [
    "<img src=\"imagenes/capitulo_05/5.7.png\">"
   ]
  },
  {
   "cell_type": "code",
   "execution_count": 91,
   "metadata": {},
   "outputs": [
    {
     "name": "stdout",
     "output_type": "stream",
     "text": [
      "Degree     Sin        Cos       \n",
      "0          0.0000     1.0000    \n",
      "10         0.1736     0.9848    \n",
      "20         0.3420     0.9397    \n",
      "30         0.5000     0.8660    \n",
      "40         0.6428     0.7660    \n",
      "50         0.7660     0.6428    \n",
      "60         0.8660     0.5000    \n",
      "70         0.9397     0.3420    \n",
      "80         0.9848     0.1736    \n",
      "90         1.0000     0.0000    \n",
      "100        0.9848     -0.1736   \n",
      "110        0.9397     -0.3420   \n",
      "120        0.8660     -0.5000   \n",
      "130        0.7660     -0.6428   \n",
      "140        0.6428     -0.7660   \n",
      "150        0.5000     -0.8660   \n",
      "160        0.3420     -0.9397   \n",
      "170        0.1736     -0.9848   \n",
      "180        0.0000     -1.0000   \n",
      "190        -0.1736    -0.9848   \n",
      "200        -0.3420    -0.9397   \n",
      "210        -0.5000    -0.8660   \n",
      "220        -0.6428    -0.7660   \n",
      "230        -0.7660    -0.6428   \n",
      "240        -0.8660    -0.5000   \n",
      "250        -0.9397    -0.3420   \n",
      "260        -0.9848    -0.1736   \n",
      "270        -1.0000    -0.0000   \n",
      "280        -0.9848    0.1736    \n",
      "290        -0.9397    0.3420    \n",
      "300        -0.8660    0.5000    \n",
      "310        -0.7660    0.6428    \n",
      "320        -0.6428    0.7660    \n",
      "330        -0.5000    0.8660    \n",
      "340        -0.3420    0.9397    \n",
      "350        -0.1736    0.9848    \n",
      "360        -0.0000    1.0000    \n"
     ]
    }
   ],
   "source": [
    "import math\n",
    "\n",
    "print(f'{\"Degree\":10} {\"Sin\":10} {\"Cos\":10}')\n",
    "for n in range(0, 361, 10):\n",
    "    print(f'{n:<10} {math.sin(math.radians(n)):<10.4f} {math.cos(math.radians(n)):<10.4f}')"
   ]
  },
  {
   "cell_type": "markdown",
   "metadata": {},
   "source": [
    "<img src=\"imagenes/capitulo_05/5.8.png\">"
   ]
  },
  {
   "cell_type": "code",
   "execution_count": 95,
   "metadata": {},
   "outputs": [
    {
     "name": "stdout",
     "output_type": "stream",
     "text": [
      "Number          Square Root    \n",
      "\n",
      "0               0.0000         \n",
      "2               1.4142         \n",
      "4               2.0000         \n",
      "6               2.4495         \n",
      "8               2.8284         \n",
      "10              3.1623         \n",
      "12              3.4641         \n",
      "14              3.7417         \n",
      "16              4.0000         \n",
      "18              4.2426         \n",
      "20              4.4721         \n"
     ]
    }
   ],
   "source": [
    "import math\n",
    "\n",
    "print(f'{\"Number\":15} {\"Square Root\":15}')\n",
    "print()\n",
    "for n in range(0,21, 2):\n",
    "    print(f'{n:<15} {math.sqrt(n):<15.4f}')"
   ]
  },
  {
   "cell_type": "markdown",
   "metadata": {},
   "source": [
    "<img src=\"imagenes/capitulo_05/5.9.png\">"
   ]
  },
  {
   "cell_type": "code",
   "execution_count": 9,
   "metadata": {},
   "outputs": [
    {
     "name": "stdout",
     "output_type": "stream",
     "text": [
      "Tuition in ten years will be 16288.95\n"
     ]
    }
   ],
   "source": [
    "# No se entiende bien el problema\n",
    "year = 0\n",
    "tuition = 10000\n",
    "rate = 1.05\n",
    "\n",
    "for year in range(10):\n",
    "    tuition = tuition * rate\n",
    "\n",
    "print(f'Tuition in ten years will be {tuition:1.2f}')"
   ]
  },
  {
   "cell_type": "markdown",
   "metadata": {},
   "source": [
    "<img src=\"imagenes/capitulo_05/5.10.png\">"
   ]
  },
  {
   "cell_type": "code",
   "execution_count": 31,
   "metadata": {},
   "outputs": [
    {
     "name": "stdout",
     "output_type": "stream",
     "text": [
      "Enter the number of students: 4\n",
      "Enter student[1] score: 12\n",
      "Enter student[2] score: 18\n",
      "Enter student[3] score: 12\n",
      "Enter student[4] score: 11\n",
      "The highest score is 18\n"
     ]
    }
   ],
   "source": [
    "numStudent = eval(input('Enter the number of students: '))\n",
    "\n",
    "maxScore = -1\n",
    "\n",
    "for i in range(numStudent):\n",
    "    temp = eval(input(f'Enter student[{i+1}] score: '))\n",
    "    if temp > maxScore:\n",
    "        maxScore = temp\n",
    "\n",
    "print(f'The highest score is {maxScore}')"
   ]
  },
  {
   "cell_type": "markdown",
   "metadata": {},
   "source": [
    "<img src=\"imagenes/capitulo_05/5.11.png\">"
   ]
  },
  {
   "cell_type": "code",
   "execution_count": null,
   "metadata": {},
   "outputs": [],
   "source": [
    "# NO SOLUCIONADO\n",
    "numStudent = eval(input('Enter the number of students: '))\n",
    "\n",
    "maxScore1 = -1\n",
    "maxScore2 = -1\n",
    "\n",
    "i = 0\n",
    "\n",
    "for i in range(2):\n",
    "    temp = eval(input(f'Enter student[{i+1}] score: '))\n",
    "    \n",
    "    if temp > maxScore1:\n",
    "        maxScore1 = temp\n",
    "    \n",
    "    if maxScore1 < maxScore2:\n",
    "\n",
    "print(f'The highest score is {maxScore}')"
   ]
  },
  {
   "cell_type": "markdown",
   "metadata": {},
   "source": [
    "<img src=\"imagenes/capitulo_05/5.12.png\">"
   ]
  },
  {
   "cell_type": "code",
   "execution_count": 40,
   "metadata": {},
   "outputs": [
    {
     "name": "stdout",
     "output_type": "stream",
     "text": [
      "120 150 180 210 240 270 300 330 360 390 \n",
      "420 450 480 510 540 570 600 630 660 690 \n",
      "720 750 780 810 840 870 900 930 960 990 \n"
     ]
    }
   ],
   "source": [
    "count = 0\n",
    "for i in range(100, 1001):\n",
    "    if i % 5 == 0 and i % 6 == 0:\n",
    "        print(f'{i}', end = \" \")\n",
    "        count += 1\n",
    "        if count == 10:\n",
    "            print()\n",
    "            count = 0\n",
    "    "
   ]
  },
  {
   "cell_type": "markdown",
   "metadata": {},
   "source": [
    "<img src=\"imagenes/capitulo_05/5.13.png\">"
   ]
  },
  {
   "cell_type": "code",
   "execution_count": 42,
   "metadata": {},
   "outputs": [
    {
     "name": "stdout",
     "output_type": "stream",
     "text": [
      "100 102 105 108 110 114 115 125 126 130 \n",
      "132 135 138 140 144 145 155 156 160 162 \n",
      "165 168 170 174 175 185 186 190 192 195 \n",
      "198 200 "
     ]
    }
   ],
   "source": [
    "count = 0\n",
    "for i in range(100, 201):\n",
    "    if (i % 5 == 0 or i % 6 == 0) and not(i % 5 == 0 and i % 6 == 0):\n",
    "        print(f'{i}', end = \" \")\n",
    "        count += 1\n",
    "        if count == 10:\n",
    "            print()\n",
    "            count = 0\n",
    "    "
   ]
  },
  {
   "cell_type": "markdown",
   "metadata": {},
   "source": [
    "<img src=\"imagenes/capitulo_05/5.14.png\">"
   ]
  },
  {
   "cell_type": "code",
   "execution_count": 31,
   "metadata": {},
   "outputs": [
    {
     "name": "stdout",
     "output_type": "stream",
     "text": [
      "The smallest value is 109 \n",
      "109^2 => 11881 < 12000 : True\n",
      "110^2 => 12100 < 12000 : False\n"
     ]
    }
   ],
   "source": [
    "value = 0\n",
    "number = 0\n",
    "\n",
    "while number < 12000:\n",
    "    number += 1\n",
    "    value = number ** 2\n",
    "    if value > 12000:\n",
    "        number -= 1\n",
    "        break\n",
    "print(f'The smallest value is {number} ')\n",
    "print(f'{number}^2 => {number ** 2} < 12000 : {number ** 2 < 12000}')\n",
    "print(f'{number +  1}^2 => {(number + 1) ** 2} < 12000 : {(number + 1) ** 2 < 12000}')"
   ]
  },
  {
   "cell_type": "markdown",
   "metadata": {},
   "source": [
    "<img src=\"imagenes/capitulo_05/5.15.png\">"
   ]
  },
  {
   "cell_type": "code",
   "execution_count": 32,
   "metadata": {},
   "outputs": [
    {
     "name": "stdout",
     "output_type": "stream",
     "text": [
      "The smallest value is 22 \n",
      "22^3 => 10648 < 12000 : True\n",
      "23^3 => 12167 < 12000 : False\n"
     ]
    }
   ],
   "source": [
    "value = 0\n",
    "number = 0\n",
    "\n",
    "while number < 12000:\n",
    "    number += 1\n",
    "    value = number ** 3\n",
    "    if value > 12000:\n",
    "        number -= 1\n",
    "        break\n",
    "print(f'The smallest value is {number} ')\n",
    "print(f'{number}^3 => {number ** 3} < 12000 : {number ** 3 < 12000}')\n",
    "print(f'{number +  1}^3 => {(number + 1) ** 3} < 12000 : {(number + 1) ** 3 < 12000}')"
   ]
  },
  {
   "cell_type": "markdown",
   "metadata": {},
   "source": [
    "<img src=\"imagenes/capitulo_05/5.16.png\">"
   ]
  },
  {
   "cell_type": "code",
   "execution_count": null,
   "metadata": {},
   "outputs": [],
   "source": [
    "# NO SOLUCIONADO"
   ]
  },
  {
   "cell_type": "markdown",
   "metadata": {},
   "source": [
    "<img src=\"imagenes/capitulo_05/5.17.png\">"
   ]
  },
  {
   "cell_type": "code",
   "execution_count": 43,
   "metadata": {},
   "outputs": [
    {
     "name": "stdout",
     "output_type": "stream",
     "text": [
      "! \" # $ % & ' ( ) * \n",
      "+ , - . / 0 1 2 3 4 \n",
      "5 6 7 8 9 : ; < = > \n",
      "? @ A B C D E F G H \n",
      "I J K L M N O P Q R \n",
      "S T U V W X Y Z [ \\ \n",
      "] ^ _ ` a b c d e f \n",
      "g h i j k l m n o p \n",
      "q r s t u v w x y z \n",
      "{ | } ~  "
     ]
    }
   ],
   "source": [
    "count = 0\n",
    "for i in range(33, 128):\n",
    "    print(f'{chr(i)}', end = ' ')\n",
    "    count += 1\n",
    "    if count == 10:\n",
    "        print()\n",
    "        count = 0"
   ]
  },
  {
   "cell_type": "markdown",
   "metadata": {},
   "source": [
    "<img src=\"imagenes/capitulo_05/5.18.png\">"
   ]
  },
  {
   "cell_type": "code",
   "execution_count": 16,
   "metadata": {},
   "outputs": [
    {
     "name": "stdout",
     "output_type": "stream",
     "text": [
      "Enter a number: 156\n",
      "2, 2, 3, 13\n"
     ]
    }
   ],
   "source": [
    "number = eval(input('Enter a number: '))\n",
    "divisor = 2\n",
    "\n",
    "while number != 1:\n",
    "    while number % divisor == 0:\n",
    "        number =  number / divisor\n",
    "        if number != 1:\n",
    "            print(f'{divisor}', end = \", \")\n",
    "        else:\n",
    "            print(f'{divisor}')\n",
    "    divisor += 1    "
   ]
  },
  {
   "cell_type": "markdown",
   "metadata": {},
   "source": [
    "<img src=\"imagenes/capitulo_05/5.19.png\">"
   ]
  },
  {
   "cell_type": "code",
   "execution_count": 70,
   "metadata": {},
   "outputs": [
    {
     "name": "stdout",
     "output_type": "stream",
     "text": [
      "                  1                    \n",
      "               2  1  2                 \n",
      "            3  2  1  2  3              \n",
      "         4  3  2  1  2  3  4           \n",
      "      5  4  3  2  1  2  3  4  5        \n",
      "   6  5  4  3  2  1  2  3  4  5  6     \n",
      "7  6  5  4  3  2  1  2  3  4  5  6  7  \n"
     ]
    }
   ],
   "source": [
    "lines = 7\n",
    "for i in range(1, lines + 1):\n",
    "    for j in range(lines - 1):\n",
    "        if lines - j > i:\n",
    "            print(\" \", end = \"  \")\n",
    "        else:\n",
    "            print(lines - j, end = \"  \")\n",
    "    for j in range(lines):\n",
    "        if j + 1 > i:\n",
    "            print(\" \", end = \"  \")\n",
    "        else:\n",
    "            print(j + 1, end = \"  \")\n",
    "    print()"
   ]
  },
  {
   "cell_type": "markdown",
   "metadata": {},
   "source": [
    "<img src=\"imagenes/capitulo_05/5.20.png\">"
   ]
  },
  {
   "cell_type": "code",
   "execution_count": 97,
   "metadata": {},
   "outputs": [
    {
     "name": "stdout",
     "output_type": "stream",
     "text": [
      "Pattern A\n",
      "\n",
      "1  \n",
      "1  2  \n",
      "1  2  3  \n",
      "1  2  3  4  \n",
      "1  2  3  4  5  \n",
      "1  2  3  4  5  6  \n",
      "\n",
      "Pattern B\n",
      "\n",
      "1  2  3  4  5  6  \n",
      "1  2  3  4  5  \n",
      "1  2  3  4  \n",
      "1  2  3  \n",
      "1  2  \n",
      "1  \n",
      "\n",
      "Pattern C\n",
      "\n",
      "                  1  \n",
      "               2  1  \n",
      "            3  2  1  \n",
      "         4  3  2  1  \n",
      "      5  4  3  2  1  \n",
      "   6  5  4  3  2  1  \n",
      "\n",
      "Pattern D\n",
      "\n",
      "1  2  3  4  5  6  \n",
      "1  2  3  4  5  \n",
      "1  2  3  4  \n",
      "1  2  3  \n",
      "1  2  \n",
      "1  \n"
     ]
    }
   ],
   "source": [
    "lines = 7\n",
    "\n",
    "print(f'Pattern A\\n')\n",
    "for i in range(1, lines):\n",
    "    for j in range(i):\n",
    "        print(j + 1, end = \"  \")\n",
    "    print()\n",
    "\n",
    "print(f'\\nPattern B\\n')\n",
    "for i in range(1, lines):\n",
    "    for j in range(lines - i):\n",
    "        print(j + 1, end = \"  \")\n",
    "    print()\n",
    "\n",
    "print(f'\\nPattern C\\n')\n",
    "for i in range(1, lines):\n",
    "    for j in range(lines):\n",
    "        if lines - j > i:\n",
    "            print(\" \", end = \"  \")\n",
    "        else:\n",
    "            print(lines - j, end = \"  \")\n",
    "    print()\n",
    "\n",
    "print(f'\\nPattern D\\n')\n",
    "for i in range(1, lines):\n",
    "    for j in range(lines - i):\n",
    "        print(j + 1, end = \"  \")\n",
    "    print()"
   ]
  },
  {
   "cell_type": "markdown",
   "metadata": {},
   "source": [
    "<img src=\"imagenes/capitulo_05/5.21.png\">"
   ]
  },
  {
   "cell_type": "code",
   "execution_count": 150,
   "metadata": {},
   "outputs": [
    {
     "name": "stdout",
     "output_type": "stream",
     "text": [
      "                              1                             \n",
      "                          1   2   1                         \n",
      "                      1   2   4   2   1                     \n",
      "                  1   2   4   8   4   2   1                 \n",
      "              1   2   4   8  16   8   4   2   1             \n",
      "          1   2   4   8  16  32  16   8   4   2   1         \n",
      "      1   2   4   8  16  32  64  32  16   8   4   2   1     \n",
      "  1   2   4   8  16  32  64 128  64  32  16   8   4   2   1 \n"
     ]
    }
   ],
   "source": [
    "lines = 8\n",
    "for i in range(1, lines + 1):\n",
    "    count = 1\n",
    "    for j in range(lines):\n",
    "        if lines - j > i:\n",
    "            print(\" \", end = \"   \")\n",
    "        else:\n",
    "            print(f'{count:>3}', end = \" \")\n",
    "            count *= 2\n",
    "    count //= 2\n",
    "    for j in range(lines):\n",
    "        if j == 0:\n",
    "            continue\n",
    "        if j + 1 > i:\n",
    "            print(\" \", end = \"   \")\n",
    "        else:\n",
    "            count //= 2\n",
    "            print(f'{count:>3}', end = \" \") \n",
    "    print()"
   ]
  },
  {
   "cell_type": "markdown",
   "metadata": {},
   "source": [
    "<img src=\"imagenes/capitulo_05/5.22.png\">"
   ]
  },
  {
   "cell_type": "code",
   "execution_count": null,
   "metadata": {},
   "outputs": [],
   "source": []
  },
  {
   "cell_type": "markdown",
   "metadata": {},
   "source": [
    "<img src=\"imagenes/capitulo_05/5.23.png\">"
   ]
  },
  {
   "cell_type": "code",
   "execution_count": 222,
   "metadata": {},
   "outputs": [
    {
     "name": "stdout",
     "output_type": "stream",
     "text": [
      "Interest Rate      Monthly Payment    Total Payment     \n",
      "\n",
      "5.000%             188.71             11322.74\n",
      "5.125%             189.29             11357.13\n",
      "5.250%             189.86             11391.59\n",
      "5.375%             190.44             11426.11\n",
      "5.500%             191.01             11460.70\n",
      "5.625%             191.59             11495.35\n",
      "5.750%             192.17             11530.06\n",
      "5.875%             192.75             11564.84\n",
      "6.000%             193.33             11599.68\n",
      "6.125%             193.91             11634.59\n",
      "6.250%             194.49             11669.56\n",
      "6.375%             195.08             11704.59\n",
      "6.500%             195.66             11739.69\n",
      "6.625%             196.25             11774.85\n",
      "6.750%             196.83             11810.08\n",
      "6.875%             197.42             11845.37\n",
      "7.000%             198.01             11880.72\n",
      "7.125%             198.60             11916.14\n",
      "7.250%             199.19             11951.62\n",
      "7.375%             199.79             11987.16\n",
      "7.500%             200.38             12022.77\n",
      "7.625%             200.97             12058.44\n",
      "7.750%             201.57             12094.18\n",
      "7.875%             202.17             12129.97\n",
      "8.000%             202.76             12165.84\n"
     ]
    }
   ],
   "source": [
    "loanAmount = 10000\n",
    "numberOfYears = 5\n",
    "\n",
    "print(f'{\"Interest Rate\":<18} {\"Monthly Payment\":<18} {\"Total Payment\":<18}')\n",
    "print()\n",
    "\n",
    "\n",
    "for i in range(5000, 8001, 125):\n",
    "    monthlyInterestRate = i / 1000 / 1200\n",
    "    monthlyPayment = loanAmount * monthlyInterestRate / (1 - 1 / (1 + monthlyInterestRate) ** (numberOfYears * 12))\n",
    "    totalPayment = monthlyPayment * numberOfYears * 12\n",
    "    print(f'{monthlyInterestRate * 1200:<1.3f}% {monthlyPayment:>18.2f} {totalPayment:>20.2f}')\n",
    "    \n",
    "    "
   ]
  },
  {
   "cell_type": "markdown",
   "metadata": {},
   "source": [
    "<img src=\"imagenes/capitulo_05/5.24.png\">"
   ]
  },
  {
   "cell_type": "code",
   "execution_count": 14,
   "metadata": {},
   "outputs": [
    {
     "name": "stdout",
     "output_type": "stream",
     "text": [
      "Loan Amount: 10000\n",
      "Number of Years: 1\n",
      "Monthly Payment: 865.27\n",
      "Total Payment: 10383.21\n",
      "\n",
      "Payment#     Interest     Principal    Balance     \n",
      "1            58.33        806.93       9193.07     \n",
      "2            53.63        811.64       8381.42     \n",
      "3            48.89        816.38       7565.05     \n",
      "4            44.13        821.14       6743.91     \n",
      "5            39.34        825.93       5917.98     \n",
      "6            34.52        830.75       5087.24     \n",
      "7            29.68        835.59       4251.65     \n",
      "8            24.80        840.47       3411.18     \n",
      "9            19.90        845.37       2565.81     \n",
      "10           14.97        850.30       1715.51     \n",
      "11           10.01        855.26       860.25      \n",
      "12           5.02         860.25       0.00        \n"
     ]
    }
   ],
   "source": [
    "loanAmount = eval(input('Loan Amount: '))\n",
    "numberOfYears = eval(input('Number of Years: '))\n",
    "i = eval(input('Anual Interest Rate: '))\n",
    "\n",
    "monthlyInterestRate = i  / 1200\n",
    "balance = loanAmount\n",
    "\n",
    "monthlyPayment = loanAmount * monthlyInterestRate / (1 - 1 / (1 + monthlyInterestRate) ** (numberOfYears * 12))\n",
    "totalPayment = monthlyPayment * numberOfYears * 12\n",
    "\n",
    "print(f'Monthly Payment: {monthlyPayment:>1.2f}')\n",
    "print(f'Total Payment: {totalPayment:>1.2f}')\n",
    "print()\n",
    "print(f'{\"Payment#\":<12} {\"Interest\":<12} {\"Principal\":<12} {\"Balance\":<12}')\n",
    "\n",
    "for i in range(1, numberOfYears * 12 + 1):\n",
    "    interest = monthlyInterestRate * balance\n",
    "    principal = monthlyPayment - interest\n",
    "    balance = balance - principal\n",
    "    print(f'{i:<12} {interest:<12.2f} {principal:<12.2f} {balance:<12.2f}')    \n",
    "    "
   ]
  },
  {
   "cell_type": "markdown",
   "metadata": {},
   "source": [
    "<img src=\"imagenes/capitulo_05/5.25.png\">"
   ]
  },
  {
   "cell_type": "code",
   "execution_count": 38,
   "metadata": {},
   "outputs": [
    {
     "name": "stdout",
     "output_type": "stream",
     "text": [
      "11.397003949278504\n",
      "11.397003949278519\n"
     ]
    }
   ],
   "source": [
    "sum1 = 0\n",
    "sum2 = 0\n",
    "n = 50000\n",
    "\n",
    "for i in range(1, n + 1):\n",
    "    sum1 += 1 / i\n",
    "print(sum1)\n",
    "\n",
    "for i in range(n, 0, -1):\n",
    "    sum2 += 1 / i\n",
    "print(sum2)"
   ]
  },
  {
   "cell_type": "markdown",
   "metadata": {},
   "source": [
    "<img src=\"imagenes/capitulo_05/5.26.png\">"
   ]
  },
  {
   "cell_type": "code",
   "execution_count": 46,
   "metadata": {},
   "outputs": [
    {
     "name": "stdout",
     "output_type": "stream",
     "text": [
      "121.5\n"
     ]
    }
   ],
   "source": [
    "n = 48\n",
    "sum = 0\n",
    "for i in range(n + 1):\n",
    "    sum = 2 * i + 1 / 2 * (i + 1) + 1\n",
    "print(sum)"
   ]
  },
  {
   "cell_type": "markdown",
   "metadata": {},
   "source": [
    "<img src=\"imagenes/capitulo_05/5.27.png\">"
   ]
  },
  {
   "cell_type": "code",
   "execution_count": 18,
   "metadata": {},
   "outputs": [
    {
     "name": "stdout",
     "output_type": "stream",
     "text": [
      "For 10000 : 3.1414926535900345\n",
      "For 20000 : 3.1415426535898248\n",
      "For 30000 : 3.141559320256462\n",
      "For 40000 : 3.1415676535897985\n",
      "For 50000 : 3.1415726535897814\n",
      "For 60000 : 3.141575986923102\n",
      "For 70000 : 3.141578367875482\n",
      "For 80000 : 3.1415801535897496\n",
      "For 90000 : 3.1415815424786238\n",
      "For 100000 : 3.1415826535897198\n"
     ]
    }
   ],
   "source": [
    "n = 100000\n",
    "\n",
    "for i in range (10000, 100000 + 1, 10000):\n",
    "    sum = 0\n",
    "    for j in range(1, i + 1):\n",
    "        sum += (-1) ** (j + 1) / (2 * j - 1)\n",
    "    print(f'For {i} : {4*sum}')\n",
    "    \n"
   ]
  },
  {
   "cell_type": "markdown",
   "metadata": {},
   "source": [
    "<img src=\"imagenes/capitulo_05/5.28.png\">"
   ]
  },
  {
   "cell_type": "code",
   "execution_count": 32,
   "metadata": {},
   "outputs": [
    {
     "name": "stdout",
     "output_type": "stream",
     "text": [
      "For 10000 : 1.7182818284590455\n",
      "For 20000 : 1.7182818284590455\n",
      "For 30000 : 1.7182818284590455\n",
      "For 40000 : 1.7182818284590455\n",
      "For 50000 : 1.7182818284590455\n",
      "For 60000 : 1.7182818284590455\n",
      "For 70000 : 1.7182818284590455\n",
      "For 80000 : 1.7182818284590455\n",
      "For 90000 : 1.7182818284590455\n",
      "For 100000 : 1.7182818284590455\n"
     ]
    }
   ],
   "source": [
    "i = 10000\n",
    "temp = 1\n",
    "sum = 0\n",
    "for i in range (10000, 100000 + 1, 10000):\n",
    "    temp = 1\n",
    "    sum = 0\n",
    "    for j in range(1, i + 1):\n",
    "        temp *= j\n",
    "        sum += 1 / temp\n",
    "    print(f'For {i} : {sum}')\n"
   ]
  },
  {
   "cell_type": "markdown",
   "metadata": {},
   "source": [
    "<img src=\"imagenes/capitulo_05/5.29.png\">"
   ]
  },
  {
   "cell_type": "code",
   "execution_count": 46,
   "metadata": {},
   "outputs": [
    {
     "name": "stdout",
     "output_type": "stream",
     "text": [
      "\n",
      "2008 2012 2016 2020 2024 2028 2032 2036 2040 2044 \n",
      "2052 2056 2060 2064 2068 2072 2076 2080 2084 2088 \n",
      "2096 "
     ]
    }
   ],
   "source": [
    "count = 0\n",
    "for year in range(2001, 2101):\n",
    "    if (year % 4 == 0 and year % 100 != 0) or (year % 400 == 0):\n",
    "        #print(f'count: {count}')\n",
    "        if count % 11 == 0:\n",
    "            print()\n",
    "        else:\n",
    "            print(f'{year:4}', end = ' ')\n",
    "        count += 1\n"
   ]
  },
  {
   "cell_type": "markdown",
   "metadata": {},
   "source": [
    "<img src=\"imagenes/capitulo_05/5.30.png\">"
   ]
  },
  {
   "cell_type": "code",
   "execution_count": 67,
   "metadata": {},
   "outputs": [
    {
     "name": "stdout",
     "output_type": "stream",
     "text": [
      "Enter the year: 2020\n",
      "January 1, 2020 is Wednesday\n",
      "Febrary 1, 2020 is Saturday\n",
      "March 1, 2020 is Monday\n",
      "April 1, 2020 is Thursday\n",
      "May 1, 2020 is Saturday\n",
      "June 1, 2020 is Tuesday\n",
      "July 1, 2020 is Thursday\n",
      "August 1, 2020 is Sunday\n",
      "September 1, 2020 is Wednesday\n",
      "October 1, 2020 is Friday\n",
      "November 1, 2020 is Monday\n",
      "December 1, 2020 is Wednesday\n"
     ]
    }
   ],
   "source": [
    "inputYear = eval(input('Enter the year: '))\n",
    "for m in range (1, 13):\n",
    "    year = inputYear\n",
    "    q = 1\n",
    "\n",
    "    _year = year\n",
    "    _m = m\n",
    "\n",
    "    if m == 1:\n",
    "        m = 13\n",
    "        year -= 1\n",
    "\n",
    "    if m == 2:\n",
    "        m = 14\n",
    "        year -= 1\n",
    "\n",
    "    j = year / 100\n",
    "\n",
    "    k = year % 100\n",
    "\n",
    "    h = int((q + int(26 * (m + 1) / 10) +  k + k // 4 + j // 4 + 5 * j) % 7)\n",
    "\n",
    "    if h == 0:\n",
    "        day = 'Saturday'\n",
    "    elif h == 1:\n",
    "        day = 'Sunday'\n",
    "    elif h == 2:\n",
    "        day = 'Monday'\n",
    "    elif h == 3:\n",
    "        day = 'Tuesday'\n",
    "    elif h == 4:\n",
    "        day = 'Wednesday'\n",
    "    elif h == 5:\n",
    "        day = 'Thursday'\n",
    "    elif h == 6:\n",
    "        day = 'Friday'\n",
    "    else:\n",
    "        day = 'Error'\n",
    " \n",
    "    if _m == 1:\n",
    "        _m = \"January\"\n",
    "    elif _m == 2:\n",
    "        _m = \"Febrary\"\n",
    "    elif _m == 3:\n",
    "        _m = \"March\"\n",
    "    elif _m == 4:\n",
    "        _m = \"April\"\n",
    "    elif _m == 5:\n",
    "        _m = \"May\"\n",
    "    elif _m == 6:\n",
    "        _m = \"June\"\n",
    "    elif _m == 7:\n",
    "        _m = \"July\"        \n",
    "    elif _m == 8:\n",
    "        _m = \"August\"\n",
    "    elif _m == 9:\n",
    "        _m = \"September\"\n",
    "    elif _m == 10:\n",
    "        _m = \"October\"\n",
    "    elif _m == 11:\n",
    "        _m = \"November\"        \n",
    "    else:\n",
    "        _m = \"December\"\n",
    "    print(f'{_m} 1, {_year} is {day}')\n",
    "    "
   ]
  },
  {
   "cell_type": "markdown",
   "metadata": {},
   "source": [
    "<img src=\"imagenes/capitulo_05/5.31.png\">"
   ]
  },
  {
   "cell_type": "code",
   "execution_count": 56,
   "metadata": {},
   "outputs": [
    {
     "name": "stdout",
     "output_type": "stream",
     "text": [
      "Enter the year: 2020\n",
      "Enter the day (0-6):3\n",
      "\n",
      "           January 2020           \n",
      "----------------------------------\n",
      "Sun  Mon  Tue  Wed  Thu  Fri  Sat\n",
      "                 1    2    3    4  \n",
      "  5    6    7    8    9   10   11  \n",
      " 12   13   14   15   16   17   18  \n",
      " 19   20   21   22   23   24   25  \n",
      " 26   27   28   29   30   31  \n",
      "\n",
      "           Febrary 2020           \n",
      "----------------------------------\n",
      "Sun  Mon  Tue  Wed  Thu  Fri  Sat\n",
      "                                1  \n",
      "  2    3    4    5    6    7    8  \n",
      "  9   10   11   12   13   14   15  \n",
      " 16   17   18   19   20   21   22  \n",
      " 23   24   25   26   27   28   29  \n",
      "\n",
      "            March 2020            \n",
      "----------------------------------\n",
      "Sun  Mon  Tue  Wed  Thu  Fri  Sat\n",
      "                                   \n",
      "  1    2    3    4    5    6    7  \n",
      "  8    9   10   11   12   13   14  \n",
      " 15   16   17   18   19   20   21  \n",
      " 22   23   24   25   26   27   28  \n",
      " 29   30   31  \n",
      "\n",
      "            April 2020            \n",
      "----------------------------------\n",
      "Sun  Mon  Tue  Wed  Thu  Fri  Sat\n",
      "                 1    2    3    4  \n",
      "  5    6    7    8    9   10   11  \n",
      " 12   13   14   15   16   17   18  \n",
      " 19   20   21   22   23   24   25  \n",
      " 26   27   28   29   30  \n",
      "\n",
      "             May 2020             \n",
      "----------------------------------\n",
      "Sun  Mon  Tue  Wed  Thu  Fri  Sat\n",
      "                           1    2  \n",
      "  3    4    5    6    7    8    9  \n",
      " 10   11   12   13   14   15   16  \n",
      " 17   18   19   20   21   22   23  \n",
      " 24   25   26   27   28   29   30  \n",
      " 31  \n",
      "\n",
      "            June 2020             \n",
      "----------------------------------\n",
      "Sun  Mon  Tue  Wed  Thu  Fri  Sat\n",
      "       1    2    3    4    5    6  \n",
      "  7    8    9   10   11   12   13  \n",
      " 14   15   16   17   18   19   20  \n",
      " 21   22   23   24   25   26   27  \n",
      " 28   29   30  \n",
      "\n",
      "            July 2020             \n",
      "----------------------------------\n",
      "Sun  Mon  Tue  Wed  Thu  Fri  Sat\n",
      "                 1    2    3    4  \n",
      "  5    6    7    8    9   10   11  \n",
      " 12   13   14   15   16   17   18  \n",
      " 19   20   21   22   23   24   25  \n",
      " 26   27   28   29   30   31  \n",
      "\n",
      "           August 2020            \n",
      "----------------------------------\n",
      "Sun  Mon  Tue  Wed  Thu  Fri  Sat\n",
      "                                1  \n",
      "  2    3    4    5    6    7    8  \n",
      "  9   10   11   12   13   14   15  \n",
      " 16   17   18   19   20   21   22  \n",
      " 23   24   25   26   27   28   29  \n",
      " 30   31  \n",
      "\n",
      "          September 2020          \n",
      "----------------------------------\n",
      "Sun  Mon  Tue  Wed  Thu  Fri  Sat\n",
      "            1    2    3    4    5  \n",
      "  6    7    8    9   10   11   12  \n",
      " 13   14   15   16   17   18   19  \n",
      " 20   21   22   23   24   25   26  \n",
      " 27   28   29   30  \n",
      "\n",
      "           Octuber 2020           \n",
      "----------------------------------\n",
      "Sun  Mon  Tue  Wed  Thu  Fri  Sat\n",
      "                      1    2    3  \n",
      "  4    5    6    7    8    9   10  \n",
      " 11   12   13   14   15   16   17  \n",
      " 18   19   20   21   22   23   24  \n",
      " 25   26   27   28   29   30   31  \n",
      "\n",
      "          November 2020           \n",
      "----------------------------------\n",
      "Sun  Mon  Tue  Wed  Thu  Fri  Sat\n",
      "                                   \n",
      "  1    2    3    4    5    6    7  \n",
      "  8    9   10   11   12   13   14  \n",
      " 15   16   17   18   19   20   21  \n",
      " 22   23   24   25   26   27   28  \n",
      " 29   30  \n",
      "\n",
      "          December 2020           \n",
      "----------------------------------\n",
      "Sun  Mon  Tue  Wed  Thu  Fri  Sat\n",
      "            1    2    3    4    5  \n",
      "  6    7    8    9   10   11   12  \n",
      " 13   14   15   16   17   18   19  \n",
      " 20   21   22   23   24   25   26  \n",
      " 27   28   29   30   31  \n"
     ]
    }
   ],
   "source": [
    "year = eval(input('Enter the year: '))\n",
    "firstDay = eval(input('Enter the day (0-6):'))\n",
    "month = 1\n",
    "\n",
    "\n",
    "# Determinate is year is leap or not\n",
    "isLeapYear = (year % 4 == 0 and year % 100 != 0) or (year % 400 == 0)\n",
    "\n",
    "for j in range(1, 13):\n",
    "    \n",
    "    if month == 1 or month == 3 or month == 5 or month == 7 or month == 8 or month == 10 or month == 12:\n",
    "        days = 31\n",
    "    elif month == 4 or month == 6 or month == 9 or month == 11:\n",
    "        days = 30\n",
    "    elif month == 2 and isLeapYear == True:\n",
    "        days = 29\n",
    "    elif month and isLeapYear == False:\n",
    "        days = 28\n",
    "    else:\n",
    "        days = 0\n",
    "\n",
    "    if month == 1:\n",
    "        monthName = 'January'\n",
    "    elif month == 2:\n",
    "        monthName = 'Febrary'\n",
    "    elif month == 3:\n",
    "        monthName = 'March'\n",
    "    elif month == 4:\n",
    "        monthName = 'April'\n",
    "    elif month == 5:\n",
    "        monthName = 'May'    \n",
    "    elif month == 6:\n",
    "        monthName = 'June'    \n",
    "    elif month == 7:\n",
    "        monthName = 'July'\n",
    "    elif month == 8:\n",
    "        monthName = 'August'\n",
    "    elif month == 9:\n",
    "        monthName = 'September'\n",
    "    elif month == 10:\n",
    "        monthName = 'Octuber'\n",
    "    elif month == 11:\n",
    "        monthName = 'November'\n",
    "    elif month == 12:\n",
    "        monthName = 'December'\n",
    "    else:\n",
    "        monthName = 'Is not a month'\n",
    "\n",
    "    print()\n",
    "    monthName = monthName + \" \" + str(year)\n",
    "    print(f'{monthName:^34}')\n",
    "    print(f'{\"----------------------------------\":^34}')\n",
    "    print(f'{\"Sun\":^3}  {\"Mon\":^3}  {\"Tue\":^3}  {\"Wed\":^3}  {\"Thu\":^3}  {\"Fri\":^3}  {\"Sat\":^3}')\n",
    "\n",
    "    for i in range(firstDay):\n",
    "        print(f'{str():>3}', end = \"  \")\n",
    "\n",
    "    for i in range(1, days + 1):\n",
    "        if firstDay % 7 == 0:\n",
    "            firstDay = 0\n",
    "            print()\n",
    "        print(f'{i:>3}', end = \"  \")\n",
    "        firstDay += 1\n",
    "    print()\n",
    "    \n",
    "    month += 1\n",
    "\n"
   ]
  },
  {
   "cell_type": "markdown",
   "metadata": {},
   "source": [
    "<img src=\"imagenes/capitulo_05/5.32.png\">"
   ]
  },
  {
   "cell_type": "code",
   "execution_count": 7,
   "metadata": {},
   "outputs": [
    {
     "name": "stdout",
     "output_type": "stream",
     "text": [
      "Month 1 -> 100.417\n",
      "Month 2 -> 201.252\n",
      "Month 3 -> 302.507\n",
      "Month 4 -> 404.184\n",
      "Month 5 -> 506.285\n",
      "Month 6 -> 608.811\n"
     ]
    }
   ],
   "source": [
    "amount = 100\n",
    "annualInterest = 5\n",
    "monthlyInterest = annualInterest / 100 / 12\n",
    "months = 6\n",
    "accountValue = 0\n",
    "for i in range(1, months + 1):\n",
    "    accountValue = (amount + accountValue) * (1 + monthlyInterest)\n",
    "    print(f'Month {i} -> {accountValue:1.3f}')"
   ]
  },
  {
   "cell_type": "markdown",
   "metadata": {},
   "source": [
    "<img src=\"imagenes/capitulo_05/5.33.png\">"
   ]
  },
  {
   "cell_type": "code",
   "execution_count": 14,
   "metadata": {},
   "outputs": [
    {
     "name": "stdout",
     "output_type": "stream",
     "text": [
      "Month    CD Value  \n",
      "1        10047.92\n",
      "2        10096.06\n",
      "3        10144.44\n",
      "4        10193.05\n",
      "5        10241.89\n",
      "6        10290.97\n",
      "7        10340.28\n",
      "8        10389.82\n",
      "9        10439.61\n",
      "10       10489.63\n",
      "11       10539.89\n",
      "12       10590.40\n",
      "13       10641.14\n",
      "14       10692.13\n",
      "15       10743.37\n",
      "16       10794.84\n",
      "17       10846.57\n",
      "18       10898.54\n"
     ]
    }
   ],
   "source": [
    "amount = 10000\n",
    "annualYield = 5.75\n",
    "months = 18\n",
    "cdValue = amount\n",
    "print(f'{\"Month\":8} {\"CD Value\":10}')\n",
    "for i in range(1, months + 1):\n",
    "    cdValue = cdValue + (cdValue * annualYield / 1200)\n",
    "    print(f'{i:<8} {cdValue:1.2f}')"
   ]
  },
  {
   "cell_type": "markdown",
   "metadata": {},
   "source": [
    "<img src=\"imagenes/capitulo_05/5.34.png\">"
   ]
  },
  {
   "cell_type": "code",
   "execution_count": 65,
   "metadata": {},
   "outputs": [
    {
     "name": "stdout",
     "output_type": "stream",
     "text": [
      "Enter your lottery pick (two digits): 45\n",
      "The lottery number is 23\n",
      "Sorry, no match\n"
     ]
    }
   ],
   "source": [
    "import random\n",
    "\n",
    "# Generate a lottery digit 1\n",
    "lotteryDigit1 = random.randint(1, 9)\n",
    "lotteryDigit2 = lotteryDigit1\n",
    "\n",
    "# Generate a lottery digit 2 distinct to digit 1\n",
    "while lotteryDigit2 == lotteryDigit1:\n",
    "    lotteryDigit2 = random.randint(0, 9)\n",
    "    \n",
    "lottery = lotteryDigit1 * 10 + lotteryDigit2\n",
    "\n",
    "# Prompt the user to enter a guess\n",
    "guess = eval(input(\"Enter your lottery pick (two digits): \"))\n",
    "\n",
    "# Get digits from guess\n",
    "guessDigit1 = guess // 10\n",
    "guessDigit2 = guess % 10\n",
    "\n",
    "print(\"The lottery number is\", lottery)\n",
    "\n",
    "# Check the guess\n",
    "if guess == lottery:\n",
    "    print(\"Exact match: you win $10,000\")\n",
    "elif  (guessDigit2 == lotteryDigit1 and guessDigit1 == lotteryDigit2):\n",
    "    print(\"Match all digits: you win $3,000\")\n",
    "elif (guessDigit1 == lotteryDigit1\n",
    "        or guessDigit1 == lotteryDigit2\n",
    "        or guessDigit2 == lotteryDigit1\n",
    "        or guessDigit2 == lotteryDigit2):\n",
    "    print(\"Match one digit: you win $1,000\")\n",
    "else:\n",
    "    print(\"Sorry, no match\")"
   ]
  },
  {
   "cell_type": "markdown",
   "metadata": {},
   "source": [
    "<img src=\"imagenes/capitulo_05/5.35.png\">"
   ]
  },
  {
   "cell_type": "code",
   "execution_count": null,
   "metadata": {},
   "outputs": [
    {
     "name": "stdout",
     "output_type": "stream",
     "text": [
      "6 is a perfect number\n",
      "28 is a perfect number\n",
      "496 is a perfect number\n",
      "8128 is a perfect number\n"
     ]
    }
   ],
   "source": [
    "for number in range(1, 100000 + 1):\n",
    "    sum = 0\n",
    "    for div in range(2, number + 1):\n",
    "        if number % div == 0:\n",
    "            sum += number / div\n",
    "            #print(f'{number / div:1.0f}')\n",
    "\n",
    "    if sum == number:\n",
    "        print(f'{number} is a perfect number')"
   ]
  },
  {
   "cell_type": "markdown",
   "metadata": {},
   "source": [
    "<img src=\"imagenes/capitulo_05/5.36.png\">"
   ]
  },
  {
   "cell_type": "code",
   "execution_count": null,
   "metadata": {},
   "outputs": [],
   "source": [
    "import random\n",
    "\n",
    "winComputer = 0\n",
    "winPlayer = 0\n",
    "\n",
    "while winComputer != 2 and winPlayer != 2:\n",
    "    computer = random.randint(0, 2)\n",
    "\n",
    "    player = eval(input('scissor (0), rock (1), paper (2): '))\n",
    "\n",
    "    if computer == 0 and player == 0:\n",
    "        print('The computer is scissor. You are scissor too. It is a draw')\n",
    "    elif computer == 1 and player == 1:\n",
    "        print('The computer is rock. You are rock too. It is a draw')\n",
    "    elif computer == 2 and player == 2:\n",
    "        print('The computer is paper. You are paper too. It is a draw')\n",
    "    elif computer == 0 and player == 1:\n",
    "        print('The computer is scissor. You are rock. You won')\n",
    "        winPlayer += 1\n",
    "    elif computer == 0 and player == 2:\n",
    "        print('The computer is scissor. You are paper. You lose')\n",
    "        winComputer += 1\n",
    "    elif computer == 1 and player == 0:\n",
    "        print('The computer is rock. You are scissor. You lose')\n",
    "        winComputer += 1\n",
    "    elif computer == 1 and player == 2:\n",
    "        print('The computer is rock. You are paper. You won')\n",
    "        winPlayer += 1\n",
    "    elif computer == 2 and player == 0:\n",
    "        print('The computer is paper. You are scissor. You won')\n",
    "        winPlayer += 1\n",
    "    elif computer == 2 and player == 1:\n",
    "        print('The computer is paper. You are rock. You lose')\n",
    "        winComputer += 1\n",
    "    else:\n",
    "        print('Error')\n",
    "        \n",
    "print(f'The score is player: {winPlayer} - computer: {winComputer}')"
   ]
  },
  {
   "cell_type": "markdown",
   "metadata": {},
   "source": [
    "<img src=\"imagenes/capitulo_05/5.37.png\">"
   ]
  },
  {
   "cell_type": "code",
   "execution_count": 10,
   "metadata": {},
   "outputs": [
    {
     "name": "stdout",
     "output_type": "stream",
     "text": [
      "The sum is: 24.00000000000001\n"
     ]
    }
   ],
   "source": [
    "import math\n",
    "\n",
    "sum = 0\n",
    "\n",
    "for i in range(1, 624 + 1):\n",
    "    sum += 1 / (math.sqrt(i) + math.sqrt(i + 1))\n",
    "\n",
    "print(f'The sum is: {sum}')"
   ]
  },
  {
   "cell_type": "markdown",
   "metadata": {},
   "source": [
    "<img src=\"imagenes/capitulo_05/5.38.png\">"
   ]
  },
  {
   "cell_type": "code",
   "execution_count": 43,
   "metadata": {},
   "outputs": [
    {
     "name": "stdout",
     "output_type": "stream",
     "text": [
      "enter the number of seconds: 16\n",
      "15 seconds remaining\n",
      "14 seconds remaining\n",
      "13 seconds remaining\n",
      "12 seconds remaining\n",
      "11 seconds remaining\n",
      "10 seconds remaining\n",
      "9 seconds remaining\n",
      "8 seconds remaining\n",
      "7 seconds remaining\n",
      "6 seconds remaining\n",
      "5 seconds remaining\n",
      "4 seconds remaining\n",
      "3 seconds remaining\n",
      "2 seconds remaining\n",
      "1 seconds remaining\n",
      "Stopped\n"
     ]
    }
   ],
   "source": [
    "import time\n",
    "\n",
    "seconds = eval(input('enter the number of seconds: '))\n",
    "\n",
    "for i in range(seconds, 0, -1):\n",
    "    startTime = time.time()\n",
    "    testTime = 0\n",
    "    while testTime != 1:\n",
    "        endTime = time.time()\n",
    "        testTime = int(endTime - startTime)\n",
    "    if i != 1:\n",
    "        print(f'{i - 1} seconds remaining')\n",
    "    else:    \n",
    "        print(\"Stopped\")"
   ]
  },
  {
   "cell_type": "markdown",
   "metadata": {},
   "source": [
    "<img src=\"imagenes/capitulo_05/5.39.png\">"
   ]
  },
  {
   "cell_type": "code",
   "execution_count": 1,
   "metadata": {},
   "outputs": [
    {
     "name": "stdout",
     "output_type": "stream",
     "text": [
      "salesAmount = 252500\n",
      "commision = 30000.0\n"
     ]
    }
   ],
   "source": [
    "commision = 0\n",
    "salesAmount = 0\n",
    "goal = 30000 - 5000\n",
    "while commision < 30000:\n",
    "    salesAmount += 1\n",
    "    if salesAmount > 10000:\n",
    "        commision = (5000 * 0.08) + (5000 * 0.1) + (salesAmount - 10000) * 0.12\n",
    "    elif salesAmount > 5000:\n",
    "        commision = (5000 * 0.08) + (salesAmount - 5000) * 0.1\n",
    "    else:\n",
    "        commision = salesAmount * 0.08\n",
    "    \n",
    "print(f'salesAmount = {salesAmount}')\n",
    "print(f'commision = {commision}')\n",
    "    "
   ]
  },
  {
   "cell_type": "markdown",
   "metadata": {},
   "source": [
    "<img src=\"imagenes/capitulo_05/5.40.png\">"
   ]
  },
  {
   "cell_type": "code",
   "execution_count": 53,
   "metadata": {},
   "outputs": [
    {
     "name": "stdout",
     "output_type": "stream",
     "text": [
      "heads -> 500314\n",
      "tails -> 499686\n"
     ]
    }
   ],
   "source": [
    "import random\n",
    "\n",
    "heads = 0\n",
    "tails = 0\n",
    "\n",
    "for i in range(1000000):\n",
    "    coin =  random.randint(0, 1)\n",
    "    if coin == 0:\n",
    "        heads += 1\n",
    "    else:\n",
    "        tails += 1\n",
    "        \n",
    "print(f'heads -> {heads}')\n",
    "print(f'tails -> {tails}')\n"
   ]
  },
  {
   "cell_type": "markdown",
   "metadata": {},
   "source": [
    "<img src=\"imagenes/capitulo_05/5.41.png\">"
   ]
  },
  {
   "cell_type": "code",
   "execution_count": 61,
   "metadata": {},
   "outputs": [
    {
     "name": "stdout",
     "output_type": "stream",
     "text": [
      "Enter a number (0: for end of input): 3\n",
      "Enter a number (0: for end of input): 5\n",
      "Enter a number (0: for end of input): 2\n",
      "Enter a number (0: for end of input): 5\n",
      "Enter a number (0: for end of input): 5\n",
      "Enter a number (0: for end of input): 5\n",
      "Enter a number (0: for end of input): 0\n",
      "The largest number is 5\n",
      "The occurrence count of the largest number is 4\n"
     ]
    }
   ],
   "source": [
    "number = eval(input('Enter a number (0: for end of input): '))\n",
    "max = number\n",
    "count = 1\n",
    "\n",
    "while number != 0:\n",
    "    number = eval(input('Enter a number (0: for end of input): '))\n",
    "    if number == max:\n",
    "        count += 1\n",
    "    elif number > max:\n",
    "        max = number\n",
    "        count = 1\n",
    "    \n",
    "print(f'The largest number is {max}')\n",
    "print(f'The occurrence count of the largest number is {count}')"
   ]
  },
  {
   "cell_type": "markdown",
   "metadata": {},
   "source": [
    "<img src=\"imagenes/capitulo_05/5.42.png\">"
   ]
  },
  {
   "cell_type": "code",
   "execution_count": 75,
   "metadata": {},
   "outputs": [
    {
     "name": "stdout",
     "output_type": "stream",
     "text": [
      "Region 1: 496653\n",
      "Region 2: 391898\n",
      "Region 3: 59456\n",
      "Region 4: 247942\n"
     ]
    }
   ],
   "source": [
    "import random\n",
    "\n",
    "region_1, region_2, region_3, region_4 = 0, 0, 0, 0\n",
    "\n",
    "for i in range(1000000):\n",
    "    # square on X axis from -100 to 100 on y axis from -100 to 100\n",
    "    x =  random.randint(-100, 100)\n",
    "    y =  random.randint(-100, 100)\n",
    "    \n",
    "    #print(f'Dart coordinates at ({x}, {y})')\n",
    "\n",
    "    if x < 0:\n",
    "        region_1 += 1\n",
    "    elif x > 0 and y < 0:\n",
    "        region_4 += 1\n",
    "    elif (x > 0 and x < 100) and (y > 0 and y < x / 2):\n",
    "        region_3 += 1\n",
    "    else:\n",
    "        region_2 += 2\n",
    "    \n",
    "print(f'Region 1: {region_1}')\n",
    "print(f'Region 2: {region_2}')\n",
    "print(f'Region 3: {region_3}')\n",
    "print(f'Region 4: {region_4}')"
   ]
  },
  {
   "cell_type": "markdown",
   "metadata": {},
   "source": [
    "<img src=\"imagenes/capitulo_05/5.43.png\">"
   ]
  },
  {
   "cell_type": "code",
   "execution_count": 79,
   "metadata": {},
   "outputs": [
    {
     "name": "stdout",
     "output_type": "stream",
     "text": [
      "The total number of all combinations is 21\n"
     ]
    }
   ],
   "source": [
    "count = 0\n",
    "for i in range(1, 8):\n",
    "    for j in range(i + 1, 8):\n",
    "        #print(f'{i}{j}')\n",
    "        count +=1\n",
    "print(f'The total number of all combinations is {count}')"
   ]
  },
  {
   "cell_type": "markdown",
   "metadata": {},
   "source": [
    "<img src=\"imagenes/capitulo_05/5.44.png\">"
   ]
  },
  {
   "cell_type": "code",
   "execution_count": 24,
   "metadata": {},
   "outputs": [
    {
     "name": "stdout",
     "output_type": "stream",
     "text": [
      "11100\n"
     ]
    }
   ],
   "source": [
    "number = 28\n",
    "\n",
    "binary = \"\"\n",
    "\n",
    "while number >= 1:\n",
    "    rest = number % 2\n",
    "    number = number / 2\n",
    "    binary =  str(int(rest)) + binary\n",
    "\n",
    "print(binary)"
   ]
  },
  {
   "cell_type": "markdown",
   "metadata": {},
   "source": [
    "<img src=\"imagenes/capitulo_05/5.45.png\">"
   ]
  },
  {
   "cell_type": "code",
   "execution_count": null,
   "metadata": {},
   "outputs": [],
   "source": [
    "# Sin resolver"
   ]
  },
  {
   "cell_type": "markdown",
   "metadata": {},
   "source": [
    "<img src=\"imagenes/capitulo_05/5.46.png\">"
   ]
  },
  {
   "cell_type": "code",
   "execution_count": 3,
   "metadata": {},
   "outputs": [
    {
     "name": "stdout",
     "output_type": "stream",
     "text": [
      "The mean is 5.51\n",
      "The standard is 2.6834\n"
     ]
    }
   ],
   "source": [
    "x1,x2,x3,x4,x5,x6,x7,x8,x9,x10 = 1, 2, 3, 4, 5.5, 5.6, 7, 8, 9, 10\n",
    "\n",
    "mean = (x1+x2+x3+x4+x5+x6+x7+x8+x9+x10) / 10\n",
    "\n",
    "\n",
    "standard = (((x1 - mean)**2 + (x2 - mean)**2 + (x3 - mean)**2 + (x4 - mean)**2 + (x5 - mean)**2 + (x6 - mean)**2 + (x7 - mean)**2 + (x8 - mean)**2 + (x9 - mean)**2 + (x10 - mean)**2  ) / 10 - 1) ** 0.5\n",
    "\n",
    "\n",
    "print(f'The mean is {mean}')\n",
    "print(f'The standard is {standard:1.4f}')"
   ]
  },
  {
   "cell_type": "markdown",
   "metadata": {},
   "source": [
    "<img src=\"imagenes/capitulo_05/5.47.png\">"
   ]
  },
  {
   "cell_type": "code",
   "execution_count": 7,
   "metadata": {},
   "outputs": [],
   "source": [
    "import turtle, random\n",
    "\n",
    "t = turtle.Turtle()\n",
    "\n",
    "t.hideturtle()\n",
    "\n",
    "t.penup()\n",
    "t.goto(-60,50)\n",
    "t.pendown()\n",
    "t.goto(60,50)\n",
    "t.goto(60,-50)\n",
    "t.goto(-60,-50)\n",
    "t.goto(-60,50)\n",
    "t.penup()\n",
    "\n",
    "for i in range(10):\n",
    "  x = random.randint(-59,59)\n",
    "  y = random.randint(-49,49)\n",
    "  t.goto(x, y)\n",
    "  t.dot(6, \"red\")\n",
    "\n",
    "turtle.done()"
   ]
  },
  {
   "cell_type": "markdown",
   "metadata": {},
   "source": [
    "<img src=\"imagenes/capitulo_05/5.48.png\">"
   ]
  },
  {
   "cell_type": "code",
   "execution_count": 9,
   "metadata": {},
   "outputs": [],
   "source": [
    "import turtle\n",
    "\n",
    "t = turtle.Turtle()\n",
    "\n",
    "t.hideturtle()\n",
    "\n",
    "radiusBase = 50\n",
    "\n",
    "for i in range(10):\n",
    "  radius = radiusBase + i*5\n",
    "  t.penup()\n",
    "  t.goto(0,-radius)\n",
    "  t.pendown()\n",
    "  t.circle(radius)\n",
    "\n",
    "turtle.done()"
   ]
  },
  {
   "cell_type": "markdown",
   "metadata": {},
   "source": [
    "<img src=\"imagenes/capitulo_05/5.49.png\">"
   ]
  },
  {
   "cell_type": "code",
   "execution_count": 39,
   "metadata": {},
   "outputs": [],
   "source": [
    "import turtle\n",
    "\n",
    "t = turtle.Turtle()\n",
    "\n",
    "#t.hideturtle()\n",
    "\n",
    "t.penup()\n",
    "\n",
    "t.hideturtle()\n",
    "\n",
    "t.goto(-145, 160)\n",
    "t.write('Multiplication Table', font = (\"Times\", 17, \"bold\"))\n",
    "\n",
    "t.lt(-90)\n",
    "t.goto(-155,130)\n",
    "t.lt(90)\n",
    "for i in range(1, 10):\n",
    "    t.write(f'{i:>4}', font = (\"Times\", 13, \"bold\"))\n",
    "    t.fd(35)\n",
    "t.goto(-15, 115)\n",
    "t.write('----------------------------------------------------------', align=\"center\", font = (\"Times\", 13, \"bold\"))\n",
    "\n",
    "for i in range(1, 10):\n",
    "  t.lt(-90)\n",
    "  t.goto(-200,120 - 25 * i)\n",
    "  t.lt(90)\n",
    "  t.write(f'{i:>4}   |', font = (\"Times\", 13, \"bold\"))\n",
    "  t.fd(45)\n",
    "  for j in range(1, 10):\n",
    "    if i * j > 9:\n",
    "      t.write(f'{i*j:>3}', font = (\"Times\", 13, \"bold\"))\n",
    "    else:\n",
    "      t.write(f'{i*j:>4}', font = (\"Times\", 13, \"bold\"))\n",
    "    t.fd(35)\n",
    "\n",
    "turtle.done()"
   ]
  },
  {
   "cell_type": "markdown",
   "metadata": {},
   "source": [
    "<img src=\"imagenes/capitulo_05/5.50.png\">"
   ]
  },
  {
   "cell_type": "code",
   "execution_count": 25,
   "metadata": {},
   "outputs": [],
   "source": [
    "import turtle\n",
    "\n",
    "t = turtle.Turtle()\n",
    "\n",
    "t.hideturtle()\n",
    "\n",
    "t.penup()\n",
    "t.goto(-150,100)\n",
    "t.lt(-90)\n",
    "\n",
    "for i in range(1, 11):\n",
    "    text = \"\"\n",
    "    for j in range(1, i + 1):\n",
    "      text = text + str(j) + \" \"\n",
    "      t.write(text, font = (\"Times\", 13, \"bold\"))\n",
    "    t.fd(20)\n",
    "\n",
    "turtle.done()"
   ]
  },
  {
   "cell_type": "markdown",
   "metadata": {},
   "source": [
    "<img src=\"imagenes/capitulo_05/5.51.png\">"
   ]
  },
  {
   "cell_type": "code",
   "execution_count": 41,
   "metadata": {},
   "outputs": [],
   "source": [
    "import turtle\n",
    "\n",
    "t = turtle.Turtle()\n",
    "\n",
    "t.hideturtle()\n",
    "\n",
    "t.penup()\n",
    "  \n",
    "for i in range(0, 18 + 1):\n",
    "  t.goto(-150,120 - 15 * i)\n",
    "  t.pendown()\n",
    "  t.fd(270)\n",
    "  t.penup()\n",
    "\n",
    "t.lt(-90)\n",
    "\n",
    "for i in range(0, 18 + 1):\n",
    "  t.goto(-150 + 15 * i, 120)\n",
    "  t.pendown()\n",
    "  t.fd(270)\n",
    "  t.penup()\n",
    "\n",
    "\n",
    "turtle.done()"
   ]
  },
  {
   "cell_type": "markdown",
   "metadata": {},
   "source": [
    "<img src=\"imagenes/capitulo_05/5.52.png\">"
   ]
  },
  {
   "cell_type": "code",
   "execution_count": 47,
   "metadata": {},
   "outputs": [],
   "source": [
    "import turtle, math\n",
    "\n",
    "t = turtle.Turtle()\n",
    "\n",
    "t.hideturtle()\n",
    "\n",
    "t.penup()\n",
    "t.goto(-225, -15)\n",
    "t.pendown()\n",
    "t.goto(225, -15)\n",
    "t.lt(-150)\n",
    "t.fd(20)\n",
    "t.goto(225, -15)\n",
    "t.lt(-60)\n",
    "t.fd(20)\n",
    "t.lt(210)\n",
    "\n",
    "t.penup()\n",
    "t.goto(0, -100)\n",
    "t.pendown()\n",
    "t.goto(0, 100)\n",
    "t.rt(60)\n",
    "t.fd(20)\n",
    "t.penup()\n",
    "t.goto(0,100)\n",
    "t.rt(60)\n",
    "t.pendown()\n",
    "t.fd(20)\n",
    "\n",
    "t.penup()\n",
    "t.goto(-100, -35)\n",
    "t.write(\"-2\\u03c0\", font = (\"Times\", 12, \"normal\"))\n",
    "t.goto(100, -35)\n",
    "t.write(\"2\\u03c0\", font = (\"Times\", 12, \"normal\"))\n",
    "\n",
    "t.goto(-175, 50 * math.sin((-175 / 100) * 2 * math.pi))\n",
    "t.pendown()\n",
    "\n",
    "for x in range(-175, 176):\n",
    "  t.goto(x, 50 * math.sin((x / 100) * 2 * math.pi))\n",
    "\n",
    "turtle.done()"
   ]
  },
  {
   "cell_type": "markdown",
   "metadata": {},
   "source": [
    "<img src=\"imagenes/capitulo_05/5.53.png\">"
   ]
  },
  {
   "cell_type": "code",
   "execution_count": 49,
   "metadata": {},
   "outputs": [],
   "source": [
    "import turtle, math\n",
    "\n",
    "t = turtle.Turtle()\n",
    "\n",
    "t.hideturtle()\n",
    "\n",
    "t.penup()\n",
    "t.goto(-225, -15)\n",
    "t.pendown()\n",
    "t.goto(225, -15)\n",
    "t.lt(-150)\n",
    "t.fd(20)\n",
    "t.goto(225, -15)\n",
    "t.lt(-60)\n",
    "t.fd(20)\n",
    "t.lt(210)\n",
    "\n",
    "t.penup()\n",
    "t.goto(0, -100)\n",
    "t.pendown()\n",
    "t.goto(0, 100)\n",
    "t.rt(60)\n",
    "t.fd(20)\n",
    "t.penup()\n",
    "t.goto(0,100)\n",
    "t.rt(60)\n",
    "t.pendown()\n",
    "t.fd(20)\n",
    "\n",
    "t.penup()\n",
    "t.goto(-100, -35)\n",
    "t.write(\"-2\\u03c0\", font = (\"Times\", 12, \"normal\"))\n",
    "t.goto(100, -35)\n",
    "t.write(\"2\\u03c0\", font = (\"Times\", 12, \"normal\"))\n",
    "\n",
    "t.goto(-175, 50 * math.sin((-175 / 100) * 2 * math.pi))\n",
    "t.pendown()\n",
    "\n",
    "t.color('red')\n",
    "for x in range(-175, 176):\n",
    "  t.goto(x, 50 * math.sin((x / 100) * 2 * math.pi))\n",
    "\n",
    "t.penup()\n",
    "t.goto(-175, 50 * math.cos((-175 / 100) * 2 * math.pi))\n",
    "t.pendown()\n",
    "\n",
    "t.color('blue')\n",
    "for x in range(-175, 176):\n",
    "  t.goto(x, 50 * math.cos((x / 100) * 2 * math.pi))\n",
    "\n",
    "\n",
    "turtle.done()"
   ]
  },
  {
   "cell_type": "markdown",
   "metadata": {},
   "source": [
    "<img src=\"imagenes/capitulo_05/5.54.png\">"
   ]
  },
  {
   "cell_type": "code",
   "execution_count": 51,
   "metadata": {},
   "outputs": [],
   "source": [
    "import turtle, math\n",
    "\n",
    "t = turtle.Turtle()\n",
    "\n",
    "t.hideturtle()\n",
    "\n",
    "t.penup()\n",
    "t.goto(-225, 0)\n",
    "t.pendown()\n",
    "t.goto(225, 0)\n",
    "t.lt(-150)\n",
    "t.fd(20)\n",
    "t.goto(225, 0)\n",
    "t.lt(-60)\n",
    "t.fd(20)\n",
    "t.lt(210)\n",
    "\n",
    "t.penup()\n",
    "t.goto(0, -100)\n",
    "t.pendown()\n",
    "t.goto(0, 100)\n",
    "t.rt(60)\n",
    "t.fd(20)\n",
    "t.penup()\n",
    "t.goto(0,100)\n",
    "t.rt(60)\n",
    "t.pendown()\n",
    "t.fd(20)\n",
    "\n",
    "t.penup()\n",
    "t.goto(230, -10)\n",
    "t.write(\"X\", font = (\"Times\", 12, \"normal\"))\n",
    "t.goto(0, 105)\n",
    "t.write(\"Y\", align=\"center\", font = (\"Times\", 12, \"normal\"))\n",
    "\n",
    "t.penup()\n",
    "t.goto(-150, 150)\n",
    "t.pendown()\n",
    "\n",
    "for x in range(-150, 150):\n",
    "  t.goto(x, x ** 2 / 150)\n",
    "\n",
    "\n",
    "turtle.done()"
   ]
  },
  {
   "cell_type": "markdown",
   "metadata": {},
   "source": [
    "<img src=\"imagenes/capitulo_05/5.55.png\">"
   ]
  },
  {
   "cell_type": "code",
   "execution_count": null,
   "metadata": {},
   "outputs": [],
   "source": [
    "import turtle, math\n",
    "\n",
    "t = turtle.Turtle()\n",
    "\n",
    "t.hideturtle()\n",
    "\n",
    "t.pensize(3)\n",
    "\n",
    "for i in range(8):\n",
    "  for j in range(0, 8):\n",
    "    t.penup()\n",
    "    t.goto(-120 + 37 * j, 100 - 38 * i)\n",
    "    t.setheading(45)\n",
    "    t.color(\"black\")\n",
    "    t.pendown()\n",
    "    if (i + j) % 2 == 0:\n",
    "      t.circle(25, steps = 4)\n",
    "    else:\n",
    "      t.begin_fill()\n",
    "      t.circle(25, steps = 4)\n",
    "      t.end_fill()\n",
    "\n",
    "turtle.done()"
   ]
  },
  {
   "cell_type": "code",
   "execution_count": null,
   "metadata": {},
   "outputs": [],
   "source": []
  }
 ],
 "metadata": {
  "kernelspec": {
   "display_name": "Python 3",
   "language": "python",
   "name": "python3"
  },
  "language_info": {
   "codemirror_mode": {
    "name": "ipython",
    "version": 3
   },
   "file_extension": ".py",
   "mimetype": "text/x-python",
   "name": "python",
   "nbconvert_exporter": "python",
   "pygments_lexer": "ipython3",
   "version": "3.7.6"
  }
 },
 "nbformat": 4,
 "nbformat_minor": 4
}
