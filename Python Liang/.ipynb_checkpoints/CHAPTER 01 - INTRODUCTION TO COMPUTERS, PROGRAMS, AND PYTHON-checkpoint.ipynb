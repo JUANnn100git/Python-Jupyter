{
 "cells": [
  {
   "cell_type": "markdown",
   "metadata": {},
   "source": [
    "# <span style=\"color:#88B04B\">CHAPTER 01</span>\n",
    "## <span style=\"color:#1E3D89\">INTRODUCTION TO COMPUTERS, PROGRAMS, AND PYTHON</span>\n",
    "___"
   ]
  },
  {
   "cell_type": "markdown",
   "metadata": {},
   "source": [
    "<img src=\"imagenes/capitulo_01/1.1.png\">"
   ]
  },
  {
   "cell_type": "code",
   "execution_count": 45,
   "metadata": {},
   "outputs": [
    {
     "name": "stdout",
     "output_type": "stream",
     "text": [
      "Welcome to Python\n",
      "Welcome to Computer Science\n",
      "Programming is fun\n"
     ]
    }
   ],
   "source": [
    "print('Welcome to Python')\n",
    "print('Welcome to Computer Science')\n",
    "print('Programming is fun')"
   ]
  },
  {
   "cell_type": "markdown",
   "metadata": {},
   "source": [
    "<img src=\"imagenes/capitulo_01/1.2.png\">"
   ]
  },
  {
   "cell_type": "code",
   "execution_count": 5,
   "metadata": {},
   "outputs": [
    {
     "name": "stdout",
     "output_type": "stream",
     "text": [
      "Welcome to Python\n",
      "Welcome to Python\n",
      "Welcome to Python\n",
      "Welcome to Python\n",
      "Welcome to Python\n",
      "\n"
     ]
    }
   ],
   "source": [
    "print(\"Welcome to Python\\n\"*5)"
   ]
  },
  {
   "cell_type": "markdown",
   "metadata": {},
   "source": [
    "<img src=\"imagenes/capitulo_01/1.3.png\">"
   ]
  },
  {
   "cell_type": "code",
   "execution_count": 7,
   "metadata": {},
   "outputs": [
    {
     "name": "stdout",
     "output_type": "stream",
     "text": [
      "FFFFFFF   U     U   NN     NN\n",
      "FF        U     U   NNN    NN\n",
      "FFFFFFF   U     U   NN N   NN\n",
      "FF         U   U    NN  N  NN\n",
      "FF          UUU     NN    NNN\n"
     ]
    }
   ],
   "source": [
    "print('FFFFFFF   U     U   NN     NN')\n",
    "print('FF        U     U   NNN    NN')\n",
    "print('FFFFFFF   U     U   NN N   NN')\n",
    "print('FF         U   U    NN  N  NN')\n",
    "print('FF          UUU     NN    NNN')"
   ]
  },
  {
   "cell_type": "markdown",
   "metadata": {},
   "source": [
    "<img src=\"imagenes/capitulo_01/1.4.png\">"
   ]
  },
  {
   "cell_type": "code",
   "execution_count": 43,
   "metadata": {},
   "outputs": [
    {
     "name": "stdout",
     "output_type": "stream",
     "text": [
      "a        a^2      a^3     \n",
      "1        1        1       \n",
      "2        4        8       \n",
      "3        9        27      \n",
      "4        16       64      \n"
     ]
    }
   ],
   "source": [
    "# Usando el método .format()\n",
    "print('{0:8} {1:8} {2:8}'.format('a','a^2','a^3'))\n",
    "print('{0:<8} {1:<8} {2:<8}'.format(1, 1, 1))\n",
    "print('{0:<8} {1:<8} {2:<8}'.format(2, 4, 8))\n",
    "print('{0:<8} {1:<8} {2:<8}'.format(3, 9, 27))\n",
    "print('{0:<8} {1:<8} {2:<8}'.format(4, 16, 64))"
   ]
  },
  {
   "cell_type": "code",
   "execution_count": 44,
   "metadata": {},
   "outputs": [
    {
     "name": "stdout",
     "output_type": "stream",
     "text": [
      "a        a^2      a^3     \n",
      "1        1        1       \n",
      "2        4        8       \n",
      "3        9        27      \n",
      "4        16       64      \n"
     ]
    }
   ],
   "source": [
    "# Usando (f-strings)\n",
    "print(f'{\"a\":8} {\"a^2\":8} {\"a^3\":8}')\n",
    "print(f'{1:<8} {1:<8} {1:<8}')\n",
    "print(f'{2:<8} {4:<8} {8:<8}')\n",
    "print(f'{3:<8} {9:<8} {27:<8}')\n",
    "print(f'{4:<8} {16:<8} {64:<8}')"
   ]
  },
  {
   "cell_type": "markdown",
   "metadata": {},
   "source": [
    "<img src=\"imagenes/capitulo_01/1.5.png\">"
   ]
  },
  {
   "cell_type": "code",
   "execution_count": 47,
   "metadata": {},
   "outputs": [
    {
     "name": "stdout",
     "output_type": "stream",
     "text": [
      "0.8392857142857143\n"
     ]
    }
   ],
   "source": [
    "print((9.5 * 4.5 - 2.5 * 3) / (45.5 - 3.5))"
   ]
  },
  {
   "cell_type": "markdown",
   "metadata": {},
   "source": [
    "<img src=\"imagenes/capitulo_01/1.6.png\">"
   ]
  },
  {
   "cell_type": "code",
   "execution_count": 48,
   "metadata": {},
   "outputs": [
    {
     "name": "stdout",
     "output_type": "stream",
     "text": [
      "39\n"
     ]
    }
   ],
   "source": [
    "sum = 1 + 2 + 3 + 4 + 5 + 7 + 8 + 9\n",
    "print(sum)"
   ]
  },
  {
   "cell_type": "markdown",
   "metadata": {},
   "source": [
    "<img src=\"imagenes/capitulo_01/1.7.png\">\n"
   ]
  },
  {
   "cell_type": "code",
   "execution_count": 50,
   "metadata": {},
   "outputs": [
    {
     "name": "stdout",
     "output_type": "stream",
     "text": [
      "2.9760461760461765\n",
      "3.017071817071818\n",
      "3.232315809405594\n",
      "3.2184027659273333\n"
     ]
    }
   ],
   "source": [
    "result_1 = 4 * (1 - 1/3 + 1/5 - 1/7 + 1/9 - 1/11)\n",
    "result_2 = 4 * (1 - 1/3 + 1/5 - 1/7 + 1/9 - 1/11 + 1/13 - 1/15)\n",
    "result_3 = 4 * (1 - 1/3 + 1/5 - 1/7 + 1/9 - 1/11 + 1/13 - 1/15 + 1/17 - 1/19 + 1/21)\n",
    "result_4 = 4 * (1 - 1/3 + 1/5 - 1/7 + 1/9 - 1/11 + 1/13 - 1/15 + 1/17 - 1/19 + 1/21 - 1/23 + 1/25)\n",
    "print(result_1)\n",
    "print(result_2)\n",
    "print(result_3)\n",
    "print(result_4)"
   ]
  },
  {
   "cell_type": "markdown",
   "metadata": {},
   "source": [
    "<img src=\"imagenes/capitulo_01/1.8.png\">"
   ]
  },
  {
   "cell_type": "code",
   "execution_count": 59,
   "metadata": {},
   "outputs": [
    {
     "name": "stdout",
     "output_type": "stream",
     "text": [
      "The area is: 95.03\n",
      "The perimeter is: 34.558\n"
     ]
    }
   ],
   "source": [
    "# Importando por primera vez a la librería math\n",
    "import math\n",
    "radius = 5.5\n",
    "area = radius * radius * math.pi\n",
    "perimeter = 2 * radius * math.pi\n",
    "\n",
    "print(f'The area is: {area:1.2f}')\n",
    "print(f'The perimeter is: {perimeter:1.3f}')"
   ]
  },
  {
   "cell_type": "markdown",
   "metadata": {},
   "source": [
    "<img src=\"imagenes/capitulo_01/1.9.png\">"
   ]
  },
  {
   "cell_type": "code",
   "execution_count": 58,
   "metadata": {},
   "outputs": [
    {
     "name": "stdout",
     "output_type": "stream",
     "text": [
      "The area is 35.550\n",
      "The perimeter is 24.80\n"
     ]
    }
   ],
   "source": [
    "width = 4.5\n",
    "height = 7.9\n",
    "area = width * height\n",
    "perimeter = 2 * (width + height)\n",
    "\n",
    "print(f'The area is {area:1.3f}')\n",
    "print(f'The perimeter is {perimeter:1.2f}')"
   ]
  },
  {
   "cell_type": "markdown",
   "metadata": {},
   "source": [
    "<img src=\"imagenes/capitulo_01/1.10.png\">"
   ]
  },
  {
   "cell_type": "code",
   "execution_count": 60,
   "metadata": {},
   "outputs": [
    {
     "name": "stdout",
     "output_type": "stream",
     "text": [
      "The average speed in miles per hour is: 0.19\n"
     ]
    }
   ],
   "source": [
    "# distance in kilometers\n",
    "distance = 14\n",
    "# time in seconds\n",
    "time = 30 + 45 * 60\n",
    "\n",
    "# distance in miles\n",
    "distance = distance / 1.6\n",
    "#time in hours\n",
    "time = time / 60\n",
    "# average speed\n",
    "speed = distance / time\n",
    "\n",
    "print(f'The average speed in miles per hour is: {speed:1.2f}')"
   ]
  },
  {
   "cell_type": "markdown",
   "metadata": {},
   "source": [
    "<img src=\"imagenes/capitulo_01/1.11.png\">"
   ]
  },
  {
   "cell_type": "code",
   "execution_count": 69,
   "metadata": {},
   "outputs": [
    {
     "name": "stdout",
     "output_type": "stream",
     "text": [
      "Population in 1 year: 314812582\n",
      "Population in 2 year: 317592678\n",
      "Population in 3 year: 320372774\n",
      "Population in 4 year: 323152870\n",
      "Population in 5 year: 325932966\n"
     ]
    }
   ],
   "source": [
    "# current population\n",
    "current_population = 312032486\n",
    "# seconds in a year\n",
    "year = 365 * 24 * 60 * 60\n",
    "# assumptions\n",
    "birth = 7\n",
    "death = 13\n",
    "inmmigrant = 45\n",
    "\n",
    "# year variation in population\n",
    "year_variation = year // birth - year // death + year // inmmigrant\n",
    "\n",
    "# population in next 5 years\n",
    "print(f'Population in 1 year: {(current_population + 1 * year_variation)}')\n",
    "print(f'Population in 2 year: {(current_population + 2 * year_variation)}')\n",
    "print(f'Population in 3 year: {(current_population + 3 * year_variation)}')\n",
    "print(f'Population in 4 year: {(current_population + 4 * year_variation)}')\n",
    "print(f'Population in 5 year: {(current_population + 5 * year_variation)}')\n",
    "    \n",
    "     "
   ]
  },
  {
   "cell_type": "markdown",
   "metadata": {},
   "source": [
    "<img src=\"imagenes/capitulo_01/1.12.png\">"
   ]
  },
  {
   "cell_type": "markdown",
   "metadata": {},
   "source": [
    "### Para ejecutar la tortuga ingresar a https://repl.it/@enaard/Python-3"
   ]
  },
  {
   "cell_type": "code",
   "execution_count": 1,
   "metadata": {},
   "outputs": [],
   "source": [
    "import turtle \n",
    "\n",
    "t = turtle.Turtle()\n",
    "\n",
    "t.rt(180)\n",
    "t.fd(50)\n",
    "t.rt(90)\n",
    "t.fd(50)\n",
    "t.rt(90)\n",
    "t.fd(100)\n",
    "t.rt(90)\n",
    "t.fd(100)\n",
    "t.rt(90)\n",
    "t.fd(100)\n",
    "t.rt(90)\n",
    "t.fd(50)\n",
    "t.rt(0)\n",
    "t.fd(50)\n",
    "t.rt(90)\n",
    "t.fd(50)\n",
    "t.rt(90)\n",
    "t.fd(100)\n",
    "t.lt(90)\n",
    "t.fd(50)\n",
    "t.lt(90)\n",
    "t.fd(50)\n",
    "t.lt(90)\n",
    "t.fd(50)\n",
    "t.lt(90)\n",
    "\n",
    "turtle.done()"
   ]
  },
  {
   "cell_type": "markdown",
   "metadata": {},
   "source": [
    "<img src=\"imagenes/capitulo_01/1.13.png\">"
   ]
  },
  {
   "cell_type": "code",
   "execution_count": 3,
   "metadata": {},
   "outputs": [],
   "source": [
    "import turtle \n",
    "\n",
    "t = turtle.Turtle()\n",
    "\n",
    "t.penup()\n",
    "t.goto(-50,0)\n",
    "t.pendown()\n",
    "t.fd(100)\n",
    "t.penup()\n",
    "t.goto(0,50)\n",
    "t.pendown()\n",
    "t.rt(90)\n",
    "t.fd(100)\n",
    "\n",
    "turtle.done()"
   ]
  },
  {
   "cell_type": "markdown",
   "metadata": {},
   "source": [
    "<img src=\"imagenes/capitulo_01/1.14.png\">"
   ]
  },
  {
   "cell_type": "code",
   "execution_count": 1,
   "metadata": {},
   "outputs": [],
   "source": [
    "import turtle \n",
    "\n",
    "t = turtle.Turtle()\n",
    "\n",
    "t.rt(60)\n",
    "t.fd(200)\n",
    "t.rt(120)\n",
    "t.fd(200)\n",
    "t.rt(120)\n",
    "t.fd(200)\n",
    "\n",
    "turtle.done()"
   ]
  },
  {
   "cell_type": "markdown",
   "metadata": {},
   "source": [
    "<img src=\"imagenes/capitulo_01/1.15.png\">"
   ]
  },
  {
   "cell_type": "code",
   "execution_count": 1,
   "metadata": {},
   "outputs": [],
   "source": [
    "import turtle \n",
    "\n",
    "t = turtle.Turtle()\n",
    "\n",
    "t.rt(60)\n",
    "t.fd(200)\n",
    "t.rt(120)\n",
    "t.fd(200)\n",
    "t.rt(120)\n",
    "t.fd(400)\n",
    "t.lt(120)\n",
    "t.fd(200)\n",
    "t.lt(120)\n",
    "t.fd(200)\n",
    "\n",
    "turtle.done()"
   ]
  },
  {
   "cell_type": "markdown",
   "metadata": {},
   "source": [
    "<img src=\"imagenes/capitulo_01/1.16.png\">"
   ]
  },
  {
   "cell_type": "code",
   "execution_count": 1,
   "metadata": {},
   "outputs": [],
   "source": [
    "import turtle \n",
    "\n",
    "t = turtle.Turtle()\n",
    "\n",
    "t.penup()\n",
    "t.goto(50,0)\n",
    "t.pendown()\n",
    "t.circle(50)\n",
    "\n",
    "t.penup()\n",
    "t.goto(-50,0)\n",
    "t.pendown()\n",
    "t.circle(50)\n",
    "\n",
    "t.penup()\n",
    "t.goto(-50,-100)\n",
    "t.pendown()\n",
    "t.circle(50)\n",
    "\n",
    "t.penup()\n",
    "t.goto(50,-100)\n",
    "t.pendown()\n",
    "t.circle(50)\n",
    "\n",
    "turtle.done()"
   ]
  },
  {
   "cell_type": "markdown",
   "metadata": {},
   "source": [
    "<img src=\"imagenes/capitulo_01/1.17.png\">"
   ]
  },
  {
   "cell_type": "code",
   "execution_count": 1,
   "metadata": {},
   "outputs": [],
   "source": [
    "import turtle \n",
    "\n",
    "t = turtle.Turtle()\n",
    "\n",
    "t.penup()\n",
    "t.goto(-39,49)\n",
    "t.write(\"(-39, 49)\")\n",
    "t.pendown()\n",
    "t.goto(50,-50)\n",
    "t.write(\"(50, -50)\")\n",
    "t.hideturtle()\n",
    "\n",
    "turtle.done()"
   ]
  },
  {
   "cell_type": "markdown",
   "metadata": {},
   "source": [
    "<img src=\"imagenes/capitulo_01/1.18.png\">"
   ]
  },
  {
   "cell_type": "markdown",
   "metadata": {},
   "source": [
    "<img src=\"imagenes/capitulo_01/solucion_1.18.jpg\">"
   ]
  },
  {
   "cell_type": "code",
   "execution_count": 1,
   "metadata": {},
   "outputs": [],
   "source": [
    "import turtle \n",
    "\n",
    "t = turtle.Turtle()\n",
    "\n",
    "t.penup()\n",
    "t.goto(0,100)\n",
    "t.pendown()\n",
    "t.rt(72)\n",
    "t.fd(200)\n",
    "t.rt(144)\n",
    "t.fd(200)\n",
    "t.rt(144)\n",
    "t.fd(200)\n",
    "t.rt(144)\n",
    "t.fd(200)\n",
    "t.rt(144)\n",
    "t.fd(200)\n",
    "\n",
    "turtle.done()"
   ]
  },
  {
   "cell_type": "markdown",
   "metadata": {},
   "source": [
    "<img src=\"imagenes/capitulo_01/1.19.png\">"
   ]
  },
  {
   "cell_type": "code",
   "execution_count": 1,
   "metadata": {},
   "outputs": [],
   "source": [
    "import turtle \n",
    "\n",
    "t = turtle.Turtle()\n",
    "\n",
    "t.hideturtle()\n",
    "t.penup()\n",
    "t.goto(40,-69.28)\n",
    "t.pendown()\n",
    "t.goto(-40,-69.28)\n",
    "t.goto(-80,-9.8)\n",
    "t.goto(-40,69)\n",
    "t.goto(40,69)\n",
    "t.goto(80,0)\n",
    "t.goto(40,-69.28)\n",
    "\n",
    "turtle.done()"
   ]
  },
  {
   "cell_type": "markdown",
   "metadata": {},
   "source": [
    "<img src=\"imagenes/capitulo_01/1.20.png\">"
   ]
  },
  {
   "cell_type": "code",
   "execution_count": 1,
   "metadata": {},
   "outputs": [],
   "source": [
    "import turtle \n",
    "\n",
    "t = turtle.Turtle()\n",
    "\n",
    "t.hideturtle()\n",
    "t.penup()\n",
    "t.goto(-100,50)\n",
    "t.pendown()\n",
    "t.goto(100,50)\n",
    "t.goto(100,-50)\n",
    "t.goto(-100,-50)\n",
    "t.goto(-100,50)\n",
    "t.goto(-50,90)\n",
    "t.goto(150,90)\n",
    "t.goto(150,-10)\n",
    "t.goto(-50,-10)\n",
    "t.goto(-50,90)\n",
    "t.goto(-50,-10)\n",
    "t.goto(-100,-50)\n",
    "t.goto(100,-50)\n",
    "t.goto(150,-10)\n",
    "t.goto(150,90)\n",
    "t.goto(100,50)\n",
    "\n",
    "turtle.done()"
   ]
  },
  {
   "cell_type": "markdown",
   "metadata": {},
   "source": [
    "<hr><img src=\"imagenes/capitulo_01/1.21.png\">"
   ]
  },
  {
   "cell_type": "code",
   "execution_count": 1,
   "metadata": {},
   "outputs": [],
   "source": [
    "import turtle \n",
    "\n",
    "t = turtle.Turtle()\n",
    "\n",
    "t.hideturtle()\n",
    "\n",
    "t.penup()\n",
    "t.goto(0,-150)\n",
    "t.pendown()\n",
    "t.circle(150)\n",
    "\n",
    "t.penup()\n",
    "t.goto(0,0)\n",
    "t.pendown()\n",
    "t.color(\"blue\")\n",
    "t.goto(-75,0)\n",
    "t.goto(0,0)\n",
    "t.pensize(2)\n",
    "t.color(\"green\")\n",
    "t.goto(90,0)\n",
    "t.goto(0,0)\n",
    "t.pensize(3)\n",
    "t.color(\"red\")\n",
    "t.goto(0,110)\n",
    "t.goto(0,0)\n",
    "t.pensize(1)\n",
    "t.penup()\n",
    "\n",
    "t.color(\"black\")\n",
    "t.goto(-5,130)\n",
    "t.write(\"12\")\n",
    "t.goto(-2,-150)\n",
    "t.write(\"6\")\n",
    "t.goto(140,-5)\n",
    "t.write(\"3\")\n",
    "t.goto(-145,-5)\n",
    "t.write(\"9\")\n",
    "t.goto(-20,-170)\n",
    "t.write(\"9:15:00\")\n",
    "\n",
    "turtle.done()"
   ]
  }
 ],
 "metadata": {
  "kernelspec": {
   "display_name": "Python 3",
   "language": "python",
   "name": "python3"
  },
  "language_info": {
   "codemirror_mode": {
    "name": "ipython",
    "version": 3
   },
   "file_extension": ".py",
   "mimetype": "text/x-python",
   "name": "python",
   "nbconvert_exporter": "python",
   "pygments_lexer": "ipython3",
   "version": "3.7.6"
  }
 },
 "nbformat": 4,
 "nbformat_minor": 4
}
