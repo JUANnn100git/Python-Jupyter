{
 "cells": [
  {
   "cell_type": "code",
   "execution_count": 42,
   "metadata": {},
   "outputs": [
    {
     "name": "stdout",
     "output_type": "stream",
     "text": [
      "Rectangle  Width  Height   Area   Perimeter\n",
      "    1        4      40      160     320  \n",
      "    2       3.5    35.7   124.95   249.90\n"
     ]
    }
   ],
   "source": [
    "import math\n",
    "\n",
    "class Rectangle:\n",
    "    \n",
    "    def __init__(self, width = 1, height = 2):\n",
    "        self.__width = width\n",
    "        self.__height = height\n",
    "    def getWidth(self):\n",
    "        return self.__width\n",
    "    def getHeight(self):\n",
    "        return self.__height\n",
    "    def getArea(self):\n",
    "        return self.__width * self.__height\n",
    "    def getPerimeter(self):\n",
    "        return 2 * (self.__width * self.__height)\n",
    "\n",
    "r1 = Rectangle(4, 40)\n",
    "r2 = Rectangle(3.5, 35.7)\n",
    "print(f'{\"Rectangle\":10} {\"Width\":6} {\"Height\":8} {\"Area\":6} {\"Perimeter\":6}')\n",
    "print(f'{\"1\":^10} {r1.getWidth():^6} {r1.getHeight():^6} {r1.getArea():^9} {r1.getPerimeter():^6}')\n",
    "print(f'{\"2\":^10} {r2.getWidth():^6} {r2.getHeight():^6} {r2.getArea():^9.2f} {r2.getPerimeter():^6.2f}')"
   ]
  },
  {
   "cell_type": "code",
   "execution_count": null,
   "metadata": {},
   "outputs": [],
   "source": []
  }
 ],
 "metadata": {
  "kernelspec": {
   "display_name": "Python 3",
   "language": "python",
   "name": "python3"
  },
  "language_info": {
   "codemirror_mode": {
    "name": "ipython",
    "version": 3
   },
   "file_extension": ".py",
   "mimetype": "text/x-python",
   "name": "python",
   "nbconvert_exporter": "python",
   "pygments_lexer": "ipython3",
   "version": "3.7.6"
  }
 },
 "nbformat": 4,
 "nbformat_minor": 4
}
