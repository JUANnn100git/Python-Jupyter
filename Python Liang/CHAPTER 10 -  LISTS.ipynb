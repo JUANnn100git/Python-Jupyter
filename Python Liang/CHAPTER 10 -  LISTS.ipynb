{
 "cells": [
  {
   "cell_type": "markdown",
   "metadata": {},
   "source": [
    "# <span style=\"color:#88B04B\">CHAPTER 10</span>\n",
    "## <span style=\"color:#1E3D89\">LISTS</span>\n",
    "___"
   ]
  },
  {
   "cell_type": "markdown",
   "metadata": {},
   "source": [
    "<img src=\"imagenes/capitulo_10/list_methods.png\">"
   ]
  },
  {
   "cell_type": "markdown",
   "metadata": {},
   "source": [
    "<img src=\"imagenes/capitulo_10/common_operations.png\">"
   ]
  },
  {
   "cell_type": "markdown",
   "metadata": {},
   "source": [
    "<img src=\"imagenes/capitulo_10/10.1.png\">"
   ]
  },
  {
   "cell_type": "code",
   "execution_count": 9,
   "metadata": {},
   "outputs": [
    {
     "name": "stdout",
     "output_type": "stream",
     "text": [
      "Student 0 score is 40 and grade is C\n",
      "Student 1 score is 55 and grade is B\n",
      "Student 2 score is 70 and grade is A\n",
      "Student 3 score is 58 and grade is B\n"
     ]
    }
   ],
   "source": [
    "s = \"40 55 70 58\" #input('Enter scores: ')\n",
    "items = s.split()\n",
    "lst = [eval(x) for x in items]\n",
    "\n",
    "best = max(lst)\n",
    "\n",
    "\n",
    "for i in range(len(lst)):\n",
    "    grade = ''\n",
    "    if lst[i] >=  best - 10:\n",
    "        grade = 'A'\n",
    "    elif lst[i] >=  best - 20:\n",
    "        grade = 'B'\n",
    "    elif lst[i] >=  best - 30:\n",
    "        grade = 'C'\n",
    "    elif lst[i] >=  best - 40:\n",
    "        grade = 'D'\n",
    "    else:\n",
    "        grade = 'F'\n",
    "    print(f'Student {i} score is {lst[i]} and grade is {grade}')\n"
   ]
  },
  {
   "cell_type": "markdown",
   "metadata": {},
   "source": [
    "<img src=\"imagenes/capitulo_10/10.2.png\">"
   ]
  },
  {
   "cell_type": "code",
   "execution_count": 13,
   "metadata": {},
   "outputs": [
    {
     "name": "stdout",
     "output_type": "stream",
     "text": [
      "[40, 55, 70, 58]\n",
      "[58, 70, 55, 40]\n"
     ]
    }
   ],
   "source": [
    "s = \"40 55 70 58\" #input('Enter scores: ')\n",
    "items = s.split()\n",
    "lst = [eval(x) for x in items]\n",
    "\n",
    "print(lst)\n",
    "lst.reverse()\n",
    "print(lst)"
   ]
  },
  {
   "cell_type": "markdown",
   "metadata": {},
   "source": [
    "<img src=\"imagenes/capitulo_10/10.3.png\">"
   ]
  },
  {
   "cell_type": "code",
   "execution_count": 38,
   "metadata": {},
   "outputs": [
    {
     "name": "stdout",
     "output_type": "stream",
     "text": [
      "1 occurs 1 time\n",
      "2 occurs 3 times\n",
      "3 occurs 3 times\n",
      "4 occurs 1 time\n",
      "5 occurs 2 times\n",
      "6 occurs 1 time\n",
      "23 occurs 1 time\n",
      "43 occurs 1 time\n",
      "99 occurs 1 time\n",
      "100 occurs 1 time\n",
      "[0, 1, 3, 3, 1, 2, 1, 0, 0, 0, 0, 0, 0, 0, 0, 0, 0, 0, 0, 0, 0, 0, 0, 1, 0, 0, 0, 0, 0, 0, 0, 0, 0, 0, 0, 0, 0, 0, 0, 0, 0, 0, 0, 1, 0, 0, 0, 0, 0, 0, 0, 0, 0, 0, 0, 0, 0, 0, 0, 0, 0, 0, 0, 0, 0, 0, 0, 0, 0, 0, 0, 0, 0, 0, 0, 0, 0, 0, 0, 0, 0, 0, 0, 0, 0, 0, 0, 0, 0, 0, 0, 0, 0, 0, 0, 0, 0, 0, 0, 1, 1]\n"
     ]
    }
   ],
   "source": [
    "# 10.3 A\n",
    "s = \"2 5 6 5 4 3 23 43 2 3 3 1 2 99 100\"\n",
    "items = s.split()\n",
    "lst = [eval(x) for x in items]\n",
    "\n",
    "lstTotal = 101 * [0]\n",
    "\n",
    "for i in lst:\n",
    "    lstTotal[i] += 1\n",
    "\n",
    "for i in range(len(lstTotal)):\n",
    "    if lstTotal[i] == 1:\n",
    "        print(f'{i} occurs {lstTotal[i]} time')\n",
    "    if lstTotal[i] > 1:\n",
    "        print(f'{i} occurs {lstTotal[i]} times')\n",
    "\n",
    "print(lstTotal)"
   ]
  },
  {
   "cell_type": "code",
   "execution_count": 40,
   "metadata": {},
   "outputs": [
    {
     "name": "stdout",
     "output_type": "stream",
     "text": [
      "1 occurs 1 time\n",
      "2 occurs 3 times\n",
      "3 occurs 3 times\n",
      "4 occurs 1 time\n",
      "5 occurs 2 times\n",
      "6 occurs 1 time\n",
      "23 occurs 1 time\n",
      "43 occurs 1 time\n",
      "99 occurs 1 time\n",
      "100 occurs 1 time\n"
     ]
    }
   ],
   "source": [
    "# 10.3 B\n",
    "s = \"2 5 6 5 4 3 23 43 2 3 3 1 2 99 100\"\n",
    "items = s.split()\n",
    "lst = [eval(x) for x in items]\n",
    "\n",
    "for i in range(1, 101):\n",
    "    if lst.count(i) == 1:\n",
    "        print(f'{i} occurs 1 time')\n",
    "    if lst.count(i) > 1:\n",
    "        print(f'{i} occurs {lst.count(i)} times')"
   ]
  },
  {
   "cell_type": "markdown",
   "metadata": {},
   "source": [
    "<img src=\"imagenes/capitulo_10/10.4.png\">"
   ]
  },
  {
   "cell_type": "code",
   "execution_count": 59,
   "metadata": {},
   "outputs": [
    {
     "name": "stdout",
     "output_type": "stream",
     "text": [
      "The average is: 4.0\n",
      "[4, 5, 6, 7]\n",
      "Above or equal to average: 4\n",
      "[1, 2, 3]\n",
      "Below to average: 3\n"
     ]
    }
   ],
   "source": [
    "s = \"1 2 3 4 5 6 7 \"\n",
    "items = s.split()\n",
    "lst = [eval(x) for x in items]\n",
    "\n",
    "average = sum(lst) / len(lst)\n",
    "print(f'The average is: {average}')\n",
    "# Above or equal to average\n",
    "listAbove = [x for x in lst if x >= average]\n",
    "print(listAbove)\n",
    "print(f'Above or equal to average: {len(listAbove)}')\n",
    "\n",
    "# Below to average\n",
    "listBelow = [x for x in lst if x < average]\n",
    "print(listBelow)\n",
    "print(f'Below to average: {len(listBelow)}')"
   ]
  },
  {
   "cell_type": "markdown",
   "metadata": {},
   "source": [
    "<img src=\"imagenes/capitulo_10/10.5.png\">"
   ]
  },
  {
   "cell_type": "code",
   "execution_count": 66,
   "metadata": {},
   "outputs": [
    {
     "name": "stdout",
     "output_type": "stream",
     "text": [
      "The distinct numbers are: [1, 2, 3, 6, 4, 5, 7]\n"
     ]
    }
   ],
   "source": [
    "s = \"1 2 3 2 1 6 3 4 5 2 1 4 3 7 2 3 1 4 2 1\"\n",
    "items = s.split()\n",
    "lst = [eval(x) for x in items]\n",
    "\n",
    "list1 = []\n",
    "\n",
    "for i in lst:\n",
    "    if i not in list1:\n",
    "        list1.append(i)\n",
    "\n",
    "print(f'The distinct numbers are: {list1}')"
   ]
  },
  {
   "cell_type": "markdown",
   "metadata": {},
   "source": [
    "<img src=\"imagenes/capitulo_10/10.6.png\">"
   ]
  },
  {
   "cell_type": "code",
   "execution_count": null,
   "metadata": {},
   "outputs": [],
   "source": [
    "# Incompleto\n",
    "primeList = [2]\n",
    "\n",
    "for i in range(len(primeList)):\n",
    "        if primeList[i] % number == 0:\n",
    "            \n",
    "\n",
    "divisor = 2\n",
    "while divisor <= number / 2:\n",
    "    if number % divisor == 0:\n",
    "        # If true, number is not prime\n",
    "        return False # number is not a prime\n",
    "    divisor += 1\n",
    "return True # number is prime\n"
   ]
  },
  {
   "cell_type": "markdown",
   "metadata": {},
   "source": [
    "<img src=\"imagenes/capitulo_10/10.7.png\">"
   ]
  },
  {
   "cell_type": "code",
   "execution_count": 74,
   "metadata": {},
   "outputs": [
    {
     "name": "stdout",
     "output_type": "stream",
     "text": [
      "0 occurs 103 times\n",
      "1 occurs 88 times\n",
      "2 occurs 121 times\n",
      "3 occurs 91 times\n",
      "4 occurs 94 times\n",
      "5 occurs 102 times\n",
      "6 occurs 98 times\n",
      "7 occurs 104 times\n",
      "8 occurs 101 times\n",
      "9 occurs 98 times\n",
      "[103, 88, 121, 91, 94, 102, 98, 104, 101, 98]\n"
     ]
    }
   ],
   "source": [
    "import random\n",
    "\n",
    "lst =  10 * [0]\n",
    "for i in range(1000):\n",
    "    number = random.randint(0,9)\n",
    "    lst[number] += 1\n",
    "\n",
    "for i in range(len(lst)):\n",
    "    print(f'{i} occurs {lst[i]} times')\n",
    "\n",
    "\n",
    "print(lst)"
   ]
  },
  {
   "cell_type": "markdown",
   "metadata": {},
   "source": [
    "<img src=\"imagenes/capitulo_10/10.8.png\">"
   ]
  },
  {
   "cell_type": "code",
   "execution_count": 2,
   "metadata": {},
   "outputs": [
    {
     "name": "stdout",
     "output_type": "stream",
     "text": [
      "[2, 4, 6, 8, 10, 12, 14]\n",
      "[4, 6, 8, 10, 12, 14, 2]\n"
     ]
    }
   ],
   "source": [
    "list = [2, 4, 6, 8, 10, 12, 14]\n",
    "\n",
    "print(list)\n",
    "\n",
    "item = list.pop(0)\n",
    "\n",
    "list.append(item)\n",
    "\n",
    "print(list)\n"
   ]
  },
  {
   "cell_type": "markdown",
   "metadata": {},
   "source": [
    "<img src=\"imagenes/capitulo_10/10.9.png\">"
   ]
  },
  {
   "cell_type": "code",
   "execution_count": 12,
   "metadata": {},
   "outputs": [
    {
     "name": "stdout",
     "output_type": "stream",
     "text": [
      "[1.9, 2.5, 3.7, 2, 1, 6, 3, 4, 5, 2]\n",
      "The mean is 3.11\n",
      "The standard deviation is 1.55738\n"
     ]
    }
   ],
   "source": [
    "# Compute the standard deviation of values\n",
    "def deviation(x):\n",
    "    _mean = mean(x)\n",
    "    sum = 0\n",
    "    for i in x:\n",
    "        sum += (i - _mean) ** 2\n",
    "    return (sum / (len(x) - 1)) ** 0.5\n",
    "\n",
    "# Compute the mean of a list of values\n",
    "def mean(x):\n",
    "    return sum(x) / len(x)\n",
    "    \n",
    "def main():\n",
    "    s = \"1.9 2.5 3.7 2 1 6 3 4 5 2\"\n",
    "    items = s.split()\n",
    "    lst = [eval(x) for x in items]\n",
    "    print(lst)\n",
    "    print(f'The mean is {mean(lst):1.2f}')\n",
    "    print(f'The standard deviation is {deviation(lst):1.5f}')\n",
    "    \n",
    "main()"
   ]
  },
  {
   "cell_type": "markdown",
   "metadata": {},
   "source": [
    "<img src=\"imagenes/capitulo_10/10.10.png\">"
   ]
  },
  {
   "cell_type": "code",
   "execution_count": null,
   "metadata": {},
   "outputs": [],
   "source": []
  },
  {
   "cell_type": "markdown",
   "metadata": {},
   "source": [
    "<img src=\"imagenes/capitulo_10/10.11.png\">"
   ]
  },
  {
   "cell_type": "code",
   "execution_count": null,
   "metadata": {},
   "outputs": [],
   "source": []
  },
  {
   "cell_type": "markdown",
   "metadata": {},
   "source": [
    "<img src=\"imagenes/capitulo_10/10.12.png\">"
   ]
  },
  {
   "cell_type": "code",
   "execution_count": null,
   "metadata": {},
   "outputs": [],
   "source": []
  },
  {
   "cell_type": "markdown",
   "metadata": {},
   "source": [
    "<img src=\"imagenes/capitulo_10/10.13.png\">"
   ]
  },
  {
   "cell_type": "code",
   "execution_count": null,
   "metadata": {},
   "outputs": [],
   "source": []
  },
  {
   "cell_type": "markdown",
   "metadata": {},
   "source": [
    "<img src=\"imagenes/capitulo_10/10.14.png\">"
   ]
  },
  {
   "cell_type": "code",
   "execution_count": null,
   "metadata": {},
   "outputs": [],
   "source": []
  },
  {
   "cell_type": "markdown",
   "metadata": {},
   "source": [
    "<img src=\"imagenes/capitulo_10/10.15.png\">"
   ]
  },
  {
   "cell_type": "code",
   "execution_count": null,
   "metadata": {},
   "outputs": [],
   "source": []
  },
  {
   "cell_type": "markdown",
   "metadata": {},
   "source": [
    "<img src=\"imagenes/capitulo_10/10.16.png\">"
   ]
  },
  {
   "cell_type": "code",
   "execution_count": null,
   "metadata": {},
   "outputs": [],
   "source": []
  },
  {
   "cell_type": "markdown",
   "metadata": {},
   "source": [
    "<img src=\"imagenes/capitulo_10/10.17.png\">"
   ]
  },
  {
   "cell_type": "code",
   "execution_count": null,
   "metadata": {},
   "outputs": [],
   "source": []
  },
  {
   "cell_type": "markdown",
   "metadata": {},
   "source": [
    "<img src=\"imagenes/capitulo_10/10.18.png\">"
   ]
  },
  {
   "cell_type": "code",
   "execution_count": null,
   "metadata": {},
   "outputs": [],
   "source": []
  },
  {
   "cell_type": "markdown",
   "metadata": {},
   "source": [
    "<img src=\"imagenes/capitulo_10/10.19.png\">"
   ]
  },
  {
   "cell_type": "code",
   "execution_count": null,
   "metadata": {},
   "outputs": [],
   "source": []
  },
  {
   "cell_type": "markdown",
   "metadata": {},
   "source": [
    "<img src=\"imagenes/capitulo_10/10.20.png\">"
   ]
  },
  {
   "cell_type": "code",
   "execution_count": null,
   "metadata": {},
   "outputs": [],
   "source": []
  },
  {
   "cell_type": "markdown",
   "metadata": {},
   "source": [
    "<img src=\"imagenes/capitulo_10/10.21.png\">"
   ]
  },
  {
   "cell_type": "code",
   "execution_count": null,
   "metadata": {},
   "outputs": [],
   "source": []
  },
  {
   "cell_type": "markdown",
   "metadata": {},
   "source": [
    "<img src=\"imagenes/capitulo_10/10.22.png\">"
   ]
  },
  {
   "cell_type": "code",
   "execution_count": null,
   "metadata": {},
   "outputs": [],
   "source": []
  },
  {
   "cell_type": "markdown",
   "metadata": {},
   "source": [
    "<img src=\"imagenes/capitulo_10/10.23.png\">"
   ]
  },
  {
   "cell_type": "code",
   "execution_count": null,
   "metadata": {},
   "outputs": [],
   "source": []
  },
  {
   "cell_type": "markdown",
   "metadata": {},
   "source": [
    "<img src=\"imagenes/capitulo_10/10.24.png\">"
   ]
  },
  {
   "cell_type": "code",
   "execution_count": null,
   "metadata": {},
   "outputs": [],
   "source": []
  },
  {
   "cell_type": "markdown",
   "metadata": {},
   "source": [
    "<img src=\"imagenes/capitulo_10/10.25.png\">"
   ]
  },
  {
   "cell_type": "code",
   "execution_count": null,
   "metadata": {},
   "outputs": [],
   "source": []
  },
  {
   "cell_type": "markdown",
   "metadata": {},
   "source": [
    "<img src=\"imagenes/capitulo_10/10.26.png\">"
   ]
  },
  {
   "cell_type": "code",
   "execution_count": null,
   "metadata": {},
   "outputs": [],
   "source": []
  },
  {
   "cell_type": "markdown",
   "metadata": {},
   "source": [
    "<img src=\"imagenes/capitulo_10/10.27.png\">"
   ]
  },
  {
   "cell_type": "code",
   "execution_count": null,
   "metadata": {},
   "outputs": [],
   "source": []
  },
  {
   "cell_type": "markdown",
   "metadata": {},
   "source": [
    "<img src=\"imagenes/capitulo_10/10.28.png\">"
   ]
  },
  {
   "cell_type": "code",
   "execution_count": null,
   "metadata": {},
   "outputs": [],
   "source": []
  },
  {
   "cell_type": "markdown",
   "metadata": {},
   "source": [
    "<img src=\"imagenes/capitulo_10/10.29.png\">"
   ]
  },
  {
   "cell_type": "code",
   "execution_count": null,
   "metadata": {},
   "outputs": [],
   "source": []
  },
  {
   "cell_type": "markdown",
   "metadata": {},
   "source": [
    "<img src=\"imagenes/capitulo_10/10.30.png\">"
   ]
  },
  {
   "cell_type": "code",
   "execution_count": null,
   "metadata": {},
   "outputs": [],
   "source": []
  },
  {
   "cell_type": "markdown",
   "metadata": {},
   "source": [
    "<img src=\"imagenes/capitulo_10/10.31.png\">"
   ]
  },
  {
   "cell_type": "code",
   "execution_count": null,
   "metadata": {},
   "outputs": [],
   "source": []
  },
  {
   "cell_type": "markdown",
   "metadata": {},
   "source": [
    "<img src=\"imagenes/capitulo_10/10.32.png\">"
   ]
  },
  {
   "cell_type": "code",
   "execution_count": null,
   "metadata": {},
   "outputs": [],
   "source": []
  },
  {
   "cell_type": "markdown",
   "metadata": {},
   "source": [
    "<img src=\"imagenes/capitulo_10/10.33.png\">"
   ]
  },
  {
   "cell_type": "code",
   "execution_count": null,
   "metadata": {},
   "outputs": [],
   "source": []
  },
  {
   "cell_type": "markdown",
   "metadata": {},
   "source": [
    "<img src=\"imagenes/capitulo_10/10.34.png\">"
   ]
  },
  {
   "cell_type": "code",
   "execution_count": null,
   "metadata": {},
   "outputs": [],
   "source": []
  },
  {
   "cell_type": "markdown",
   "metadata": {},
   "source": [
    "<img src=\"imagenes/capitulo_10/10.35.png\">"
   ]
  },
  {
   "cell_type": "code",
   "execution_count": null,
   "metadata": {},
   "outputs": [],
   "source": []
  },
  {
   "cell_type": "markdown",
   "metadata": {},
   "source": [
    "<img src=\"imagenes/capitulo_10/10.36.png\">"
   ]
  },
  {
   "cell_type": "code",
   "execution_count": null,
   "metadata": {},
   "outputs": [],
   "source": []
  },
  {
   "cell_type": "markdown",
   "metadata": {},
   "source": [
    "<img src=\"imagenes/capitulo_10/10.37.png\">"
   ]
  },
  {
   "cell_type": "code",
   "execution_count": null,
   "metadata": {},
   "outputs": [],
   "source": []
  },
  {
   "cell_type": "markdown",
   "metadata": {},
   "source": [
    "<img src=\"imagenes/capitulo_10/10.38.png\">"
   ]
  },
  {
   "cell_type": "code",
   "execution_count": null,
   "metadata": {},
   "outputs": [],
   "source": []
  },
  {
   "cell_type": "markdown",
   "metadata": {},
   "source": [
    "<img src=\"imagenes/capitulo_10/10.39.png\">"
   ]
  },
  {
   "cell_type": "code",
   "execution_count": null,
   "metadata": {},
   "outputs": [],
   "source": []
  },
  {
   "cell_type": "markdown",
   "metadata": {},
   "source": [
    "<img src=\"imagenes/capitulo_10/10.40.png\">"
   ]
  },
  {
   "cell_type": "code",
   "execution_count": null,
   "metadata": {},
   "outputs": [],
   "source": []
  },
  {
   "cell_type": "markdown",
   "metadata": {},
   "source": [
    "<img src=\"imagenes/capitulo_10/10.41.png\">"
   ]
  },
  {
   "cell_type": "code",
   "execution_count": null,
   "metadata": {},
   "outputs": [],
   "source": []
  }
 ],
 "metadata": {
  "kernelspec": {
   "display_name": "Python 3",
   "language": "python",
   "name": "python3"
  },
  "language_info": {
   "codemirror_mode": {
    "name": "ipython",
    "version": 3
   },
   "file_extension": ".py",
   "mimetype": "text/x-python",
   "name": "python",
   "nbconvert_exporter": "python",
   "pygments_lexer": "ipython3",
   "version": "3.7.6"
  }
 },
 "nbformat": 4,
 "nbformat_minor": 4
}
